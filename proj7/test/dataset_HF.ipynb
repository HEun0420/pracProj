{
 "cells": [
  {
   "cell_type": "code",
   "execution_count": null,
   "metadata": {},
   "outputs": [
    {
     "data": {
      "application/vnd.jupyter.widget-view+json": {
       "model_id": "bb31314cc9c84cabb086545880857e9a",
       "version_major": 2,
       "version_minor": 0
      },
      "text/plain": [
       "Map:   0%|          | 0/21662 [00:00<?, ? examples/s]"
      ]
     },
     "metadata": {},
     "output_type": "display_data"
    },
    {
     "data": {
      "application/vnd.jupyter.widget-view+json": {
       "model_id": "2b66d70a310b4b249e22ba5559429360",
       "version_major": 2,
       "version_minor": 0
      },
      "text/plain": [
       "Map:   0%|          | 0/5416 [00:00<?, ? examples/s]"
      ]
     },
     "metadata": {},
     "output_type": "display_data"
    },
    {
     "name": "stdout",
     "output_type": "stream",
     "text": [
      "DatasetDict({\n",
      "    train: Dataset({\n",
      "        features: ['instruction', 'input', 'output', 'target language', 'metadata', 'text'],\n",
      "        num_rows: 21662\n",
      "    })\n",
      "    test: Dataset({\n",
      "        features: ['instruction', 'input', 'output', 'target language', 'metadata', 'text'],\n",
      "        num_rows: 5416\n",
      "    })\n",
      "})\n"
     ]
    }
   ],
   "source": [
    "import pandas as pd\n",
    "from datasets import Dataset, DatasetDict\n",
    "from transformers import AutoTokenizer\n",
    "\n",
    "# 1. Hugging Face 토크나이저 로드\n",
    "tokenizer = AutoTokenizer.from_pretrained(\"EleutherAI/gpt-neo-125M\")  # 예제 토크나이저, 원하는 모델로 변경 가능\n",
    "EOS_TOKEN = tokenizer.eos_token  # EOS 토큰 추가\n",
    "\n",
    "# 2. Alpaca 스타일 프롬프트 템플릿 정의\n",
    "alpaca_prompt = \"\"\"Below is an instruction that describes a task, paired with an input that provides further context. \n",
    "Write a response that appropriately completes the request.\n",
    "\n",
    "### Instruction:\n",
    "{}\n",
    "\n",
    "### Input:\n",
    "{}\n",
    "\n",
    "### Glossary:\n",
    "{}\n",
    "\n",
    "### Response:\n",
    "{}\"\"\"  # 새로운 템플릿 적용\n",
    "\n",
    "# 3. 엑셀 파일을 데이터프레임으로 로드\n",
    "df = pd.read_excel(\"datasetF.xlsx\")  # 엑셀 파일 경로\n",
    "# ✅ 컬럼명을 소문자로 변환하고 공백 제거 (자동화)\n",
    "df.columns = df.columns.str.lower().str.strip()\n",
    "\n",
    "# 4. Alpaca 스타일 프롬프트 적용 (새로운 컬럼 추가)\n",
    "def apply_prompt_template(row):\n",
    "    glossary_text = row[\"metadata\"] if isinstance(row[\"metadata\"], str) else \"N/A\"\n",
    "    return alpaca_prompt.format(row[\"instruction\"], row[\"input\"], glossary_text, row[\"output\"]) + EOS_TOKEN\n",
    "# 'text' 컬럼 추가\n",
    "df[\"text\"] = df.apply(apply_prompt_template, axis=1)\n",
    "\n",
    "# 5. 데이터프레임을 트레인셋과 테스트셋으로 분할 (80:20 비율)\n",
    "train_df = df.sample(frac=0.8, random_state=42)  # 80%\n",
    "test_df = df.drop(train_df.index)  # 나머지 20%\n",
    "\n",
    "# 6. 인덱스 컬럼 제거 (필요 없으면 drop)\n",
    "train_df = train_df.reset_index(drop=True)  # 인덱스를 새로 생성하고 기존 인덱스 제거\n",
    "test_df = test_df.reset_index(drop=True)\n",
    "\n",
    "train_dataset = Dataset.from_pandas(train_df).map(batched=True)\n",
    "test_dataset = Dataset.from_pandas(test_df).map(batched=True)\n",
    "\n",
    "dataset = DatasetDict({\"train\": train_dataset, \"test\": test_dataset})\n",
    "\n",
    "\n",
    "# 7. 데이터셋을 DatasetDict로 묶기\n",
    "dataset = DatasetDict({\n",
    "    'train': train_dataset,\n",
    "    'test': test_dataset\n",
    "})\n",
    "\n",
    "# 8. 결과 출력\n",
    "print(dataset)\n"
   ]
  },
  {
   "cell_type": "code",
   "execution_count": 24,
   "metadata": {},
   "outputs": [
    {
     "data": {
      "application/vnd.jupyter.widget-view+json": {
       "model_id": "2cfb599a963b4fb8b8e6742dfd864cc0",
       "version_major": 2,
       "version_minor": 0
      },
      "text/plain": [
       "Uploading the dataset shards:   0%|          | 0/1 [00:00<?, ?it/s]"
      ]
     },
     "metadata": {},
     "output_type": "display_data"
    },
    {
     "data": {
      "application/vnd.jupyter.widget-view+json": {
       "model_id": "16ef2879a76a4aa899cfd9bcb143fcef",
       "version_major": 2,
       "version_minor": 0
      },
      "text/plain": [
       "Creating parquet from Arrow format:   0%|          | 0/22 [00:00<?, ?ba/s]"
      ]
     },
     "metadata": {},
     "output_type": "display_data"
    },
    {
     "data": {
      "application/vnd.jupyter.widget-view+json": {
       "model_id": "1e39899b5b88451aa22fb765ebdb372c",
       "version_major": 2,
       "version_minor": 0
      },
      "text/plain": [
       "Uploading the dataset shards:   0%|          | 0/1 [00:00<?, ?it/s]"
      ]
     },
     "metadata": {},
     "output_type": "display_data"
    },
    {
     "data": {
      "application/vnd.jupyter.widget-view+json": {
       "model_id": "c89b42b9965944ef8daf3008906e1dc8",
       "version_major": 2,
       "version_minor": 0
      },
      "text/plain": [
       "Creating parquet from Arrow format:   0%|          | 0/6 [00:00<?, ?ba/s]"
      ]
     },
     "metadata": {},
     "output_type": "display_data"
    },
    {
     "name": "stderr",
     "output_type": "stream",
     "text": [
      "No files have been modified since last commit. Skipping to prevent empty commit.\n"
     ]
    },
    {
     "name": "stdout",
     "output_type": "stream",
     "text": [
      "✅ Alpaca 템플릿 적용 완료! EOS_TOKEN 추가 완료! Parquet 변환 및 Hugging Face 업로드 완료!\n"
     ]
    }
   ],
   "source": [
    "import os\n",
    "\n",
    "# 9. Hugging Face 데이터셋 공간을 만들고 Parquet 파일 업로드\n",
    "hf_token = os.getenv('HUGGING_FACE_TOKEN')  # 보안 강화를 위해 입력받음\n",
    "login(token=hf_token)  # Hugging Face 로그인\n",
    "\n",
    "dataset.push_to_hub(\"haeun0420/gorani_full_finetuning_datasets\")  # 데이터셋 업로드\n",
    "\n",
    "print(\"✅ Alpaca 템플릿 적용 완료! EOS_TOKEN 추가 완료! Parquet 변환 및 Hugging Face 업로드 완료!\")"
   ]
  },
  {
   "cell_type": "code",
   "execution_count": null,
   "metadata": {},
   "outputs": [],
   "source": []
  }
 ],
 "metadata": {
  "kernelspec": {
   "display_name": "pystudy",
   "language": "python",
   "name": "python3"
  },
  "language_info": {
   "codemirror_mode": {
    "name": "ipython",
    "version": 3
   },
   "file_extension": ".py",
   "mimetype": "text/x-python",
   "name": "python",
   "nbconvert_exporter": "python",
   "pygments_lexer": "ipython3",
   "version": "3.12.8"
  }
 },
 "nbformat": 4,
 "nbformat_minor": 2
}
