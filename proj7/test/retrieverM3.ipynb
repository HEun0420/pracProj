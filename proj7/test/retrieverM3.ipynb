{
 "cells": [
  {
   "cell_type": "code",
   "execution_count": 1,
   "metadata": {},
   "outputs": [
    {
     "data": {
      "text/plain": [
       "True"
      ]
     },
     "execution_count": 1,
     "metadata": {},
     "output_type": "execute_result"
    }
   ],
   "source": [
    "from dotenv import load_dotenv\n",
    "load_dotenv()"
   ]
  },
  {
   "cell_type": "code",
   "execution_count": 9,
   "metadata": {},
   "outputs": [
    {
     "name": "stderr",
     "output_type": "stream",
     "text": [
      "C:\\Users\\201\\AppData\\Local\\Temp\\ipykernel_8656\\2544123652.py:50: LangChainDeprecationWarning: The class `ChatOpenAI` was deprecated in LangChain 0.0.10 and will be removed in 1.0. An updated version of the class exists in the :class:`~langchain-openai package and should be used instead. To use it run `pip install -U :class:`~langchain-openai` and import as `from :class:`~langchain_openai import ChatOpenAI``.\n",
      "  trans_llm = ChatOpenAI(model=\"gpt-4o-mini\", temperature=0)\n",
      "C:\\Users\\201\\AppData\\Local\\Temp\\ipykernel_8656\\2544123652.py:51: LangChainDeprecationWarning: The class `LLMChain` was deprecated in LangChain 0.1.17 and will be removed in 1.0. Use :meth:`~RunnableSequence, e.g., `prompt | llm`` instead.\n",
      "  translation_chain = LLMChain(\n",
      "C:\\Users\\201\\AppData\\Local\\Temp\\ipykernel_8656\\2544123652.py:73: LangChainDeprecationWarning: The method `Chain.run` was deprecated in langchain 0.1.0 and will be removed in 1.0. Use :meth:`~invoke` instead.\n",
      "  result = translation_chain.run({\n"
     ]
    },
    {
     "name": "stdout",
     "output_type": "stream",
     "text": [
      "찾은 단어들:\n",
      "\n",
      "최종 번역 결과: The mountain rat likes bananas and corn.\n"
     ]
    }
   ],
   "source": [
    "from langchain.chat_models import ChatOpenAI\n",
    "from langchain.chains import LLMChain\n",
    "from langchain.prompts import PromptTemplate\n",
    "from pymongo import MongoClient\n",
    "import os\n",
    "import re\n",
    "\n",
    "# MongoDB 연결\n",
    "MONGODB_ATLAS_CLUSTER_URI = os.getenv(\"MONGODB_ATLAS_CLUSTER_URI\")\n",
    "client = MongoClient(MONGODB_ATLAS_CLUSTER_URI)\n",
    "DB_NAME = \"test\"\n",
    "COLLECTION_NAME = \"col\"\n",
    "collection = client[DB_NAME][COLLECTION_NAME]\n",
    "\n",
    "def find_matching_words(text, language_from=\"KO\", language_to=\"EN\"):\n",
    "    \"\"\"\n",
    "    텍스트에서 단어를 추출하고 MongoDB에서 매칭되는 단어들을 찾습니다.\n",
    "    \"\"\"\n",
    "    # 텍스트에서 단어 추출\n",
    "    words = re.findall(r'\\w+', text)\n",
    "    \n",
    "    matched_translations = []\n",
    "    for word in words:\n",
    "        # MongoDB에서 단어 검색\n",
    "        result = collection.find_one({f\"metadata.{language_from}\": word})\n",
    "        if result:\n",
    "            matched_translations.append({\n",
    "                'original': word,\n",
    "                'translation': result['metadata'][language_to]\n",
    "            })\n",
    "    \n",
    "    return matched_translations\n",
    "\n",
    "# 번역을 위한 PromptTemplate 설정\n",
    "translation_prompt = PromptTemplate(\n",
    "    input_variables=[\"dictionary_matches\", \"query\"],\n",
    "    template=\"\"\"\n",
    "다음은 번역에 참고할 수 있는 단어 사전입니다:\n",
    "{dictionary_matches}\n",
    "\n",
    "위 단어 사전을 참고하여, 아래 한국어 문장을 영어로 번역해주세요.\n",
    "문장: {query}\n",
    "번역:\n",
    "\"\"\"\n",
    ")\n",
    "\n",
    "# LLM 체인 설정\n",
    "trans_llm = ChatOpenAI(model=\"gpt-4o-mini\", temperature=0)\n",
    "translation_chain = LLMChain(\n",
    "    llm=trans_llm,\n",
    "    prompt=translation_prompt\n",
    ")\n",
    "\n",
    "def translate_with_dictionary(query, from_lang=\"KO\", to_lang=\"EN\"):\n",
    "    \"\"\"\n",
    "    MongoDB 사전을 활용하여 텍스트를 번역합니다.\n",
    "    \"\"\"\n",
    "    # 매칭되는 단어들 찾기\n",
    "    matches = find_matching_words(query, from_lang, to_lang)\n",
    "    \n",
    "    # 사전 매칭 결과를 문자열로 변환\n",
    "    dictionary_matches = \"\\n\".join([\n",
    "        f\"- {match['original']} → {match['translation']}\"\n",
    "        for match in matches\n",
    "    ])\n",
    "    \n",
    "    if not dictionary_matches:\n",
    "        dictionary_matches = \"매칭되는 단어가 사전에 없습니다.\"\n",
    "    \n",
    "    # 번역 실행\n",
    "    result = translation_chain.run({\n",
    "        \"dictionary_matches\": dictionary_matches,\n",
    "        \"query\": query\n",
    "    })\n",
    "    \n",
    "    return {\n",
    "        \"translation\": result,\n",
    "        \"matched_words\": matches\n",
    "    }\n",
    "    \n",
    "\n",
    "# 사용 예시\n",
    "query = \"산독끼는 바나나와 꼬라니를 좋아해.\"\n",
    "result = translate_with_dictionary(query)\n",
    "\n",
    "print(\"찾은 단어들:\")\n",
    "for match in result[\"matched_words\"]:\n",
    "    print(f\"- {match['original']} → {match['translation']}\")\n",
    "\n",
    "print(\"\\n최종 번역 결과:\", result[\"translation\"])"
   ]
  }
 ],
 "metadata": {
  "kernelspec": {
   "display_name": "pystudy",
   "language": "python",
   "name": "python3"
  },
  "language_info": {
   "codemirror_mode": {
    "name": "ipython",
    "version": 3
   },
   "file_extension": ".py",
   "mimetype": "text/x-python",
   "name": "python",
   "nbconvert_exporter": "python",
   "pygments_lexer": "ipython3",
   "version": "3.12.8"
  }
 },
 "nbformat": 4,
 "nbformat_minor": 2
}
