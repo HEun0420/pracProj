{
 "cells": [
  {
   "cell_type": "code",
   "execution_count": 4,
   "metadata": {},
   "outputs": [
    {
     "data": {
      "text/plain": [
       "True"
      ]
     },
     "execution_count": 4,
     "metadata": {},
     "output_type": "execute_result"
    }
   ],
   "source": [
    "import pandas as pd\n",
    "import openai\n",
    "from dotenv import load_dotenv\n",
    "load_dotenv()"
   ]
  },
  {
   "cell_type": "code",
   "execution_count": 5,
   "metadata": {},
   "outputs": [],
   "source": [
    "import os\n",
    "openai_api_key = os.getenv('OPENAI_API_KEY')\n",
    "openai.api_key =openai_api_key"
   ]
  },
  {
   "cell_type": "code",
   "execution_count": null,
   "metadata": {},
   "outputs": [],
   "source": [
    "# CSV 파일 불러오기 (첫 번째 행 제외)\n",
    "file_path='../5word.csv'\n",
    "df_ex = pd.read_csv(file_path)"
   ]
  },
  {
   "cell_type": "code",
   "execution_count": null,
   "metadata": {},
   "outputs": [
    {
     "data": {
      "text/html": [
       "<div>\n",
       "<style scoped>\n",
       "    .dataframe tbody tr th:only-of-type {\n",
       "        vertical-align: middle;\n",
       "    }\n",
       "\n",
       "    .dataframe tbody tr th {\n",
       "        vertical-align: top;\n",
       "    }\n",
       "\n",
       "    .dataframe thead th {\n",
       "        text-align: right;\n",
       "    }\n",
       "</style>\n",
       "<table border=\"1\" class=\"dataframe\">\n",
       "  <thead>\n",
       "    <tr style=\"text-align: right;\">\n",
       "      <th></th>\n",
       "      <th>KO</th>\n",
       "      <th>ENG</th>\n",
       "      <th>JPN</th>\n",
       "    </tr>\n",
       "  </thead>\n",
       "  <tbody>\n",
       "    <tr>\n",
       "      <th>0</th>\n",
       "      <td>경북대학교</td>\n",
       "      <td>Kyungpook National University</td>\n",
       "      <td>慶北大学校</td>\n",
       "    </tr>\n",
       "    <tr>\n",
       "      <th>1</th>\n",
       "      <td>경북대학교 대구캠퍼스박물관</td>\n",
       "      <td>Kyungpook National University Daegu Campus Museum</td>\n",
       "      <td>慶北大学校大邱キャンパス博物館</td>\n",
       "    </tr>\n",
       "    <tr>\n",
       "      <th>2</th>\n",
       "      <td>경북대학교치과대학</td>\n",
       "      <td>Kyungpook National University Dental College</td>\n",
       "      <td>慶北大学歯科大学</td>\n",
       "    </tr>\n",
       "    <tr>\n",
       "      <th>3</th>\n",
       "      <td>계명대학교 성서캠퍼스행소박물관</td>\n",
       "      <td>Keimyung University Sungseo Campus Action Museum</td>\n",
       "      <td>啓明大学城西キャンパス行所博物館</td>\n",
       "    </tr>\n",
       "    <tr>\n",
       "      <th>4</th>\n",
       "      <td>계명문화대학교 평생교육원</td>\n",
       "      <td>Keimyung University Lifelong Education Center</td>\n",
       "      <td>啓明文化大学生涯教育院</td>\n",
       "    </tr>\n",
       "  </tbody>\n",
       "</table>\n",
       "</div>"
      ],
      "text/plain": [
       "                 KO                                                ENG  \\\n",
       "0             경북대학교                      Kyungpook National University   \n",
       "1    경북대학교 대구캠퍼스박물관  Kyungpook National University Daegu Campus Museum   \n",
       "2         경북대학교치과대학       Kyungpook National University Dental College   \n",
       "3  계명대학교 성서캠퍼스행소박물관   Keimyung University Sungseo Campus Action Museum   \n",
       "4     계명문화대학교 평생교육원      Keimyung University Lifelong Education Center   \n",
       "\n",
       "                JPN  \n",
       "0             慶北大学校  \n",
       "1   慶北大学校大邱キャンパス博物館  \n",
       "2          慶北大学歯科大学  \n",
       "3  啓明大学城西キャンパス行所博物館  \n",
       "4       啓明文化大学生涯教育院  "
      ]
     },
     "execution_count": 7,
     "metadata": {},
     "output_type": "execute_result"
    }
   ],
   "source": [
    "df_ex.head()"
   ]
  },
  {
   "cell_type": "code",
   "execution_count": 8,
   "metadata": {},
   "outputs": [
    {
     "name": "stderr",
     "output_type": "stream",
     "text": [
      "C:\\Users\\201\\AppData\\Local\\Temp\\ipykernel_16120\\1540467423.py:9: LangChainDeprecationWarning: The class `ChatOpenAI` was deprecated in LangChain 0.0.10 and will be removed in 1.0. An updated version of the class exists in the :class:`~langchain-openai package and should be used instead. To use it run `pip install -U :class:`~langchain-openai` and import as `from :class:`~langchain_openai import ChatOpenAI``.\n",
      "  llm = ChatOpenAI(model_name=\"gpt-4o-mini\", openai_api_key=openai_api_key)\n",
      "C:\\Users\\201\\AppData\\Local\\Temp\\ipykernel_16120\\1540467423.py:35: LangChainDeprecationWarning: The class `LLMChain` was deprecated in LangChain 0.1.17 and will be removed in 1.0. Use :meth:`~RunnableSequence, e.g., `prompt | llm`` instead.\n",
      "  korean_chain = LLMChain(llm=llm, prompt=korean_prompt)\n",
      "C:\\Users\\201\\AppData\\Local\\Temp\\ipykernel_16120\\1540467423.py:44: LangChainDeprecationWarning: The method `Chain.run` was deprecated in langchain 0.1.0 and will be removed in 1.0. Use :meth:`~invoke` instead.\n",
      "  korean_sentence = korean_chain.run(word=korean_word)\n"
     ]
    },
    {
     "name": "stdout",
     "output_type": "stream",
     "text": [
      "저장됨v\n"
     ]
    }
   ],
   "source": [
    "from langsmith import trace\n",
    "from langchain.chat_models import ChatOpenAI\n",
    "from langchain.prompts import PromptTemplate\n",
    "from langchain.chains import LLMChain\n",
    "    \n",
    "def generate_sentences_from_csv(df, openai_api_key):\n",
    "    \n",
    "    # Initialize OpenAI model\n",
    "    llm = ChatOpenAI(model_name=\"gpt-4o-mini\", openai_api_key=openai_api_key)\n",
    "    \n",
    "    results = []\n",
    "    \n",
    "    # Define prompt templates\n",
    "    korean_prompt = PromptTemplate.from_template(\n",
    "        \"\"\"\n",
    "        You are a professional Korean language educator.\n",
    "        Create a natural Korean sentence that includes the word '{word}'.\n",
    "        Provide only the sentence without the original sentence, additional examples, symbols, or punctuation explanations.\n",
    "        \"\"\"\n",
    "        )\n",
    "    english_prompt = PromptTemplate.from_template(\n",
    "        \"\"\"\n",
    "        You are a professional English translator.\n",
    "        Translate the following Korean sentence into English using the word '{hint}': {sentence}.\n",
    "        Provide only the translated text without the original sentence, additional examples, symbols, or punctuation explanations.\n",
    "        \"\"\")\n",
    "    japanese_prompt = PromptTemplate.from_template(\n",
    "        \"\"\"\n",
    "        You are a professional Japanese translator.\n",
    "        Translate the following Korean sentence into Japanese using the word '{hint}': {sentence}.\n",
    "        Provide only the translated text without the original sentence, additional examples, symbols, or punctuation explanations.\n",
    "        \"\"\")\n",
    "    \n",
    "    # Define chains\n",
    "    korean_chain = LLMChain(llm=llm, prompt=korean_prompt)\n",
    "    english_chain = LLMChain(llm=llm, prompt=english_prompt)\n",
    "    japanese_chain = LLMChain(llm=llm, prompt=japanese_prompt)\n",
    "    \n",
    "    for index, row in df.iterrows():\n",
    "        korean_word = row.iloc[0]  # 한국어\n",
    "        english_hint = row.iloc[1]  # 영어\n",
    "        japanese_hint = row.iloc[2]  # 일본어\n",
    "        \n",
    "        korean_sentence = korean_chain.run(word=korean_word)\n",
    "        english_translation = english_chain.run(hint=english_hint, sentence=korean_sentence)\n",
    "        japanese_translation = japanese_chain.run(hint=japanese_hint, sentence=korean_sentence)\n",
    "        \n",
    "        results.append([ korean_word, korean_sentence, english_translation, japanese_translation])\n",
    "    \n",
    "    result_df = pd.DataFrame(results, columns=[ \"Word\",\"Korean Sentence\", \"English Translation\", \"Japanese Translation\"])\n",
    "    result_df.to_csv(\"translated_sentences.csv\", index=False, encoding=\"utf-8-sig\")\n",
    "    \n",
    "    print(\"저장됨v\")\n",
    "    \n",
    "\n",
    "generate_sentences_from_csv(df, openai_api_key)"
   ]
  },
  {
   "cell_type": "code",
   "execution_count": 2,
   "metadata": {},
   "outputs": [
    {
     "ename": "NameError",
     "evalue": "name 'df' is not defined",
     "output_type": "error",
     "traceback": [
      "\u001b[1;31m---------------------------------------------------------------------------\u001b[0m",
      "\u001b[1;31mNameError\u001b[0m                                 Traceback (most recent call last)",
      "Cell \u001b[1;32mIn[2], line 62\u001b[0m\n\u001b[0;32m     59\u001b[0m     \u001b[38;5;28mprint\u001b[39m(\u001b[38;5;124m\"\u001b[39m\u001b[38;5;124m저장됨_한영\u001b[39m\u001b[38;5;124m\"\u001b[39m)\n\u001b[0;32m     61\u001b[0m \u001b[38;5;66;03m# 변환된 엑셀을 불러와서 실행\u001b[39;00m\n\u001b[1;32m---> 62\u001b[0m generate_sentences_from_csv(\u001b[43mdf\u001b[49m, openai_api_key)\n",
      "\u001b[1;31mNameError\u001b[0m: name 'df' is not defined"
     ]
    }
   ],
   "source": [
    "from langchain.chains import SequentialChain\n",
    "\n",
    "def generate_sentences_from_csv(df, openai_api_key):\n",
    "    from langchain.chat_models import ChatOpenAI\n",
    "    from langchain.prompts import PromptTemplate\n",
    "    import json\n",
    "    import pandas as pd\n",
    "\n",
    "    llm = ChatOpenAI(model_name=\"gpt-4o-mini\", openai_api_key=openai_api_key)\n",
    "    results = []\n",
    "\n",
    "    korean_prompt = PromptTemplate.from_template(\n",
    "        \"\"\"\n",
    "        You are a professional Korean language educator.\n",
    "        Create a natural Korean sentence that includes the word '{word}'.\n",
    "        Provide only the sentence without the original sentence, additional examples, symbols, or punctuation explanations.\n",
    "        \"\"\"\n",
    "    )\n",
    "\n",
    "    english_prompt = PromptTemplate.from_template(\n",
    "        \"\"\"\n",
    "        You are a professional English translator.\n",
    "        Translate the following Korean sentence into English using the word '{hint}': {sentence}.\n",
    "        Provide only the translated text without the original sentence, additional examples, symbols, or punctuation explanations.\n",
    "        \"\"\"\n",
    "    )\n",
    "\n",
    "    # Define the sequential chain with both Korean and English chains\n",
    "    korean_chain = LLMChain(llm=llm, prompt=korean_prompt)\n",
    "    english_chain = LLMChain(llm=llm, prompt=english_prompt)\n",
    "    \n",
    "    sequential_chain = SequentialChain(\n",
    "        chains=[korean_chain, english_chain],\n",
    "        input_variables=[\"word\", \"hint\", \"sentence\"],\n",
    "        output_variables=[\"korean_sentence\", \"english_translation\"]\n",
    "    )\n",
    "    \n",
    "    for index, row in df.iterrows():\n",
    "        metadata_json = row[\"metadata\"]\n",
    "        metadata_dict = json.loads(metadata_json)  # JSON 문자열을 딕셔너리로 변환\n",
    "        \n",
    "        korean_word = metadata_dict[\"KO\"]\n",
    "        english_hint = metadata_dict[\"ENG\"]\n",
    "        \n",
    "        # Run the sequential chain\n",
    "        output = sequential_chain.run(word=korean_word, hint=english_hint, sentence=\"{korean_sentence}\")\n",
    "        \n",
    "        korean_sentence = output[\"korean_sentence\"]\n",
    "        english_translation = output[\"english_translation\"]\n",
    "        \n",
    "        instruction_sentence = \"Translate the Korean into English. Refer to the glossary, and if it is not in the glossary, translate it. Do not provide explanations.\"\n",
    "        language = \"ENG\"\n",
    "        \n",
    "        results.append([instruction_sentence, korean_sentence, english_translation, language, metadata_json])\n",
    "    \n",
    "    result_df = pd.DataFrame(results, columns=[\"instruction\", \"input\", \"output\", \"language\", \"metadata\"])\n",
    "    result_df.to_excel(\"transKo_Eng.xlsx\", index=False)\n",
    "\n",
    "    print(\"저장됨_한영\")\n",
    "\n",
    "# 변환된 엑셀을 불러와서 실행\n",
    "generate_sentences_from_csv(df, openai_api_key)\n"
   ]
  },
  {
   "cell_type": "code",
   "execution_count": null,
   "metadata": {},
   "outputs": [],
   "source": []
  }
 ],
 "metadata": {
  "kernelspec": {
   "display_name": "pystudy",
   "language": "python",
   "name": "python3"
  },
  "language_info": {
   "codemirror_mode": {
    "name": "ipython",
    "version": 3
   },
   "file_extension": ".py",
   "mimetype": "text/x-python",
   "name": "python",
   "nbconvert_exporter": "python",
   "pygments_lexer": "ipython3",
   "version": "3.12.8"
  }
 },
 "nbformat": 4,
 "nbformat_minor": 2
}
