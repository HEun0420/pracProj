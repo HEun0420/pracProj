{
 "cells": [
  {
   "cell_type": "code",
   "execution_count": 1,
   "metadata": {},
   "outputs": [
    {
     "data": {
      "text/plain": [
       "True"
      ]
     },
     "execution_count": 1,
     "metadata": {},
     "output_type": "execute_result"
    }
   ],
   "source": [
    "from dotenv import load_dotenv\n",
    "load_dotenv()"
   ]
  },
  {
   "cell_type": "code",
   "execution_count": 3,
   "metadata": {},
   "outputs": [
    {
     "name": "stderr",
     "output_type": "stream",
     "text": [
      "C:\\Users\\201\\AppData\\Local\\Temp\\ipykernel_11092\\3089089982.py:21: LangChainDeprecationWarning: The class `OpenAIEmbeddings` was deprecated in LangChain 0.0.9 and will be removed in 1.0. An updated version of the class exists in the :class:`~langchain-openai package and should be used instead. To use it run `pip install -U :class:`~langchain-openai` and import as `from :class:`~langchain_openai import OpenAIEmbeddings``.\n",
      "  embeddings = OpenAIEmbeddings()\n",
      "C:\\Users\\201\\AppData\\Local\\Temp\\ipykernel_11092\\3089089982.py:39: LangChainDeprecationWarning: The class `ChatOpenAI` was deprecated in LangChain 0.0.10 and will be removed in 1.0. An updated version of the class exists in the :class:`~langchain-openai package and should be used instead. To use it run `pip install -U :class:`~langchain-openai` and import as `from :class:`~langchain_openai import ChatOpenAI``.\n",
      "  trans_llm = ChatOpenAI(model=\"gpt-4o-mini\", temperature=0)\n",
      "C:\\Users\\201\\AppData\\Local\\Temp\\ipykernel_11092\\3089089982.py:41: LangChainDeprecationWarning: The class `LLMChain` was deprecated in LangChain 0.1.17 and will be removed in 1.0. Use :meth:`~RunnableSequence, e.g., `prompt | llm`` instead.\n",
      "  translation_chain = LLMChain(\n"
     ]
    }
   ],
   "source": [
    "from langchain.chat_models import ChatOpenAI\n",
    "from langchain.chains import LLMChain\n",
    "from langchain.prompts import PromptTemplate\n",
    "from langchain.embeddings.openai import OpenAIEmbeddings\n",
    "from langchain.vectorstores import FAISS\n",
    "from langchain.schema import Document  \n",
    "import pandas as pd\n",
    "\n",
    "# 1. 엑셀 파일 로드\n",
    "xlsx_path = \"test용사전엑셀.xlsx\"\n",
    "df = pd.read_excel(xlsx_path)\n",
    "\n",
    "# 2. 데이터 가공\n",
    "# 각 row 데이터를 \"korean-english\" 형식으로 저장\n",
    "docs = [\n",
    "    Document(page_content=f'{row[\"한국어\"]}: {row[\"영어\"]}')\n",
    "    for _, row in df.iterrows()\n",
    "]\n",
    "\n",
    "# 3. Embeddings 설정 및 벡터스토어 생성\n",
    "embeddings = OpenAIEmbeddings()\n",
    "\n",
    "# FAISS 벡터스토어 생성\n",
    "vectorstore = FAISS.from_documents(documents=docs, embedding=embeddings)\n",
    "\n",
    "# 4. 번역을 위한 PromptTemplate 설정\n",
    "translation_prompt = PromptTemplate(\n",
    "    input_variables=[\"retrieved_text\", \"query\"],\n",
    "    template=\"\"\"\n",
    "다음은 한국어 텍스트와 관련된 참고 자료입니다:\n",
    "참고 자료: {retrieved_text}\n",
    "\n",
    "위 자료를 기반으로, 아래 한국어 문장을 영어로 번역해주세요.\n",
    "문장: {query}\n",
    "번역:\n",
    "\"\"\"\n",
    ")\n",
    "\n",
    "trans_llm = ChatOpenAI(model=\"gpt-4o-mini\", temperature=0)\n",
    "\n",
    "translation_chain = LLMChain(\n",
    "    llm=trans_llm, \n",
    "    prompt=translation_prompt\n",
    ")"
   ]
  },
  {
   "cell_type": "code",
   "execution_count": 5,
   "metadata": {},
   "outputs": [
    {
     "name": "stderr",
     "output_type": "stream",
     "text": [
      "C:\\Users\\201\\AppData\\Local\\Temp\\ipykernel_11092\\670826540.py:3: LangChainDeprecationWarning: The method `BaseRetriever.get_relevant_documents` was deprecated in langchain-core 0.1.46 and will be removed in 1.0. Use :meth:`~invoke` instead.\n",
      "  retrieved_docs = retriever.get_relevant_documents(query)\n"
     ]
    },
    {
     "name": "stdout",
     "output_type": "stream",
     "text": [
      "지금 뭐가 있는데? [Document(id='a1d5c0f0-b80d-40c1-b2cf-16e84497b51e', metadata={}, page_content='산독끼: Zinrabit'), Document(id='9443427a-bb9b-48f8-bb18-b22a7c64113b', metadata={}, page_content='바나나: banana'), Document(id='508d42ca-b1e8-40b9-a2eb-da2fa3fcfb70', metadata={}, page_content='꼬라니: Zingorani'), Document(id='a0eaadce-51dd-45b0-bdcb-8d0d06e71bc8', metadata={}, page_content='고양이: cat')]\n"
     ]
    },
    {
     "name": "stderr",
     "output_type": "stream",
     "text": [
      "C:\\Users\\201\\AppData\\Local\\Temp\\ipykernel_11092\\670826540.py:9: LangChainDeprecationWarning: The method `Chain.run` was deprecated in langchain 0.1.0 and will be removed in 1.0. Use :meth:`~invoke` instead.\n",
      "  result = translation_chain.run({\"retrieved_text\": retrieved_text, \"query\": query})\n"
     ]
    },
    {
     "name": "stdout",
     "output_type": "stream",
     "text": [
      "번역 결과: Zinrabit likes bananas and Zingorani.\n"
     ]
    }
   ],
   "source": [
    "query = \"산독끼는 바나나와 꼬라니를 좋아해.\"\n",
    "retriever = vectorstore.as_retriever()\n",
    "retrieved_docs = retriever.get_relevant_documents(query)\n",
    "print(\"지금 뭐가 있는데?\", retrieved_docs )\n",
    "\n",
    "# 검색 결과를 결합하여 참고 자료로 활용\n",
    "retrieved_text = \" \".join([doc.page_content for doc in retrieved_docs])\n",
    "\n",
    "result = translation_chain.run({\"retrieved_text\": retrieved_text, \"query\": query})\n",
    "print(\"번역 결과:\", result)"
   ]
  }
 ],
 "metadata": {
  "kernelspec": {
   "display_name": "pystudy",
   "language": "python",
   "name": "python3"
  },
  "language_info": {
   "codemirror_mode": {
    "name": "ipython",
    "version": 3
   },
   "file_extension": ".py",
   "mimetype": "text/x-python",
   "name": "python",
   "nbconvert_exporter": "python",
   "pygments_lexer": "ipython3",
   "version": "3.12.8"
  }
 },
 "nbformat": 4,
 "nbformat_minor": 2
}
