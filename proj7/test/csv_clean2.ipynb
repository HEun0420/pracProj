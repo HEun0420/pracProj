{
 "cells": [
  {
   "cell_type": "code",
   "execution_count": 4,
   "metadata": {},
   "outputs": [
    {
     "name": "stdout",
     "output_type": "stream",
     "text": [
      "삭제 전 데이터 개수: 1612\n",
      "삭제 후 데이터 개수: 1536\n"
     ]
    }
   ],
   "source": [
    "import pandas as pd\n",
    "\n",
    "# CSV 파일 읽기\n",
    "df = pd.read_csv('../용어사전 - 문화시설.csv')\n",
    "\n",
    "# 삭제 전 데이터 개수 출력\n",
    "print(f\"삭제 전 데이터 개수: {len(df)}\")\n",
    "\n",
    "# 'ko' 컬럼에서 중복된 단어를 제거하고 첫 번째 항목만 남기기\n",
    "df_filtered = df.drop_duplicates(subset='KO', keep='first')\n",
    "\n",
    "# 삭제 후 데이터 개수 출력\n",
    "print(f\"삭제 후 데이터 개수: {len(df_filtered)}\")\n",
    "\n",
    "# 결과를 같은 CSV 파일에 덮어씌우기\n",
    "df_filtered.to_csv('../용어사전 - 문화시설.csv', index=False)"
   ]
  },
  {
   "cell_type": "code",
   "execution_count": null,
   "metadata": {},
   "outputs": [],
   "source": []
  },
  {
   "cell_type": "code",
   "execution_count": null,
   "metadata": {},
   "outputs": [],
   "source": []
  },
  {
   "cell_type": "code",
   "execution_count": null,
   "metadata": {},
   "outputs": [],
   "source": []
  },
  {
   "cell_type": "code",
   "execution_count": null,
   "metadata": {},
   "outputs": [],
   "source": []
  }
 ],
 "metadata": {
  "kernelspec": {
   "display_name": "pystudy",
   "language": "python",
   "name": "python3"
  },
  "language_info": {
   "codemirror_mode": {
    "name": "ipython",
    "version": 3
   },
   "file_extension": ".py",
   "mimetype": "text/x-python",
   "name": "python",
   "nbconvert_exporter": "python",
   "pygments_lexer": "ipython3",
   "version": "3.12.8"
  }
 },
 "nbformat": 4,
 "nbformat_minor": 2
}
