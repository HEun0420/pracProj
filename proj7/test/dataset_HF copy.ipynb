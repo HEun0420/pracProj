{
 "cells": [
  {
   "cell_type": "code",
   "execution_count": 4,
   "metadata": {},
   "outputs": [],
   "source": [
    "from datasets import load_dataset\n",
    "from huggingface_hub import login\n",
    "import os\n",
    "\n",
    "ds1 = load_dataset(\"aripos1/gorani_dataset\")\n",
    "\n",
    "hf_token = os.getenv('HUGGING_FACE_TOKEN')  # 보안 강화를 위해 입력받음\n",
    "login(token=hf_token)  # Hugging Face 로그인"
   ]
  },
  {
   "cell_type": "code",
   "execution_count": 6,
   "metadata": {},
   "outputs": [
    {
     "data": {
      "application/vnd.jupyter.widget-view+json": {
       "model_id": "71ed8c1d6c5f457eaacdda56c393f684",
       "version_major": 2,
       "version_minor": 0
      },
      "text/plain": [
       "Map:   0%|          | 0/21662 [00:00<?, ? examples/s]"
      ]
     },
     "metadata": {},
     "output_type": "display_data"
    },
    {
     "data": {
      "application/vnd.jupyter.widget-view+json": {
       "model_id": "4b9cc0f8d8fc4bc0927a7e8be630568c",
       "version_major": 2,
       "version_minor": 0
      },
      "text/plain": [
       "Map:   0%|          | 0/5416 [00:00<?, ? examples/s]"
      ]
     },
     "metadata": {},
     "output_type": "display_data"
    }
   ],
   "source": [
    "from transformers import AutoTokenizer\n",
    "\n",
    "tokenizer = AutoTokenizer.from_pretrained(\"EleutherAI/gpt-neo-125M\")  \n",
    "EOS_TOKEN = tokenizer.eos_token\n",
    "\n",
    "# 2. Alpaca 스타일 프롬프트 템플릿 정의\n",
    "alpaca_prompt = \"\"\"Below is an instruction that describes a task, paired with an input that provides further context. \n",
    "Write a response that appropriately completes the request.\n",
    "\n",
    "### Instruction:\n",
    "{}\n",
    "\n",
    "### Input:\n",
    "{}\n",
    "\n",
    "### Glossary:\n",
    "{}\n",
    "\n",
    "## target_language:\n",
    "{}\n",
    "\n",
    "### Response:\n",
    "{}\"\"\"  \n",
    "\n",
    "def apply_prompt_template(row):\n",
    "    glossary_text = row[\"metadata\"] if isinstance(row[\"metadata\"], str) else \"N/A\"\n",
    "    target_language = row[\"target_language\"] if isinstance(row[\"target_language\"], str) else \"N/A\"\n",
    "    return alpaca_prompt.format(row[\"instruction\"], row[\"input\"], glossary_text, target_language, row[\"output\"], ) + EOS_TOKEN\n",
    "\n",
    "# Modify the dataset using the apply_prompt_template function\n",
    "ds1[\"train\"] = ds1[\"train\"].map(lambda x: {\"text\": apply_prompt_template(x)}, batched=False)\n",
    "ds1[\"test\"] = ds1[\"test\"].map(lambda x: {\"text\": apply_prompt_template(x)}, batched=False)\n"
   ]
  },
  {
   "cell_type": "code",
   "execution_count": 7,
   "metadata": {},
   "outputs": [
    {
     "data": {
      "application/vnd.jupyter.widget-view+json": {
       "model_id": "60c7a4cfa22845f1b949171371c93370",
       "version_major": 2,
       "version_minor": 0
      },
      "text/plain": [
       "Uploading the dataset shards:   0%|          | 0/1 [00:00<?, ?it/s]"
      ]
     },
     "metadata": {},
     "output_type": "display_data"
    },
    {
     "data": {
      "application/vnd.jupyter.widget-view+json": {
       "model_id": "385d1dd433444f139541c067ad8f072b",
       "version_major": 2,
       "version_minor": 0
      },
      "text/plain": [
       "Creating parquet from Arrow format:   0%|          | 0/22 [00:00<?, ?ba/s]"
      ]
     },
     "metadata": {},
     "output_type": "display_data"
    },
    {
     "data": {
      "application/vnd.jupyter.widget-view+json": {
       "model_id": "87d8746b461d45b99446e3ec853ffaa5",
       "version_major": 2,
       "version_minor": 0
      },
      "text/plain": [
       "Uploading the dataset shards:   0%|          | 0/1 [00:00<?, ?it/s]"
      ]
     },
     "metadata": {},
     "output_type": "display_data"
    },
    {
     "data": {
      "application/vnd.jupyter.widget-view+json": {
       "model_id": "9d627c810a694eacbf7f8c8d0d5ed4ce",
       "version_major": 2,
       "version_minor": 0
      },
      "text/plain": [
       "Creating parquet from Arrow format:   0%|          | 0/6 [00:00<?, ?ba/s]"
      ]
     },
     "metadata": {},
     "output_type": "display_data"
    },
    {
     "data": {
      "text/plain": [
       "CommitInfo(commit_url='https://huggingface.co/datasets/haeun0420/gorani_full_finetuning_datasets/commit/4f085208b0b7cc9615b9385d2d37a6de90823d6c', commit_message='Upload dataset', commit_description='', oid='4f085208b0b7cc9615b9385d2d37a6de90823d6c', pr_url=None, repo_url=RepoUrl('https://huggingface.co/datasets/haeun0420/gorani_full_finetuning_datasets', endpoint='https://huggingface.co', repo_type='dataset', repo_id='haeun0420/gorani_full_finetuning_datasets'), pr_revision=None, pr_num=None)"
      ]
     },
     "execution_count": 7,
     "metadata": {},
     "output_type": "execute_result"
    }
   ],
   "source": [
    "ds1.push_to_hub(\"haeun0420/gorani_full_finetuning_datasets\")"
   ]
  },
  {
   "cell_type": "code",
   "execution_count": null,
   "metadata": {},
   "outputs": [],
   "source": []
  },
  {
   "cell_type": "code",
   "execution_count": null,
   "metadata": {},
   "outputs": [],
   "source": []
  }
 ],
 "metadata": {
  "kernelspec": {
   "display_name": "pystudy",
   "language": "python",
   "name": "python3"
  },
  "language_info": {
   "codemirror_mode": {
    "name": "ipython",
    "version": 3
   },
   "file_extension": ".py",
   "mimetype": "text/x-python",
   "name": "python",
   "nbconvert_exporter": "python",
   "pygments_lexer": "ipython3",
   "version": "3.12.8"
  }
 },
 "nbformat": 4,
 "nbformat_minor": 2
}
