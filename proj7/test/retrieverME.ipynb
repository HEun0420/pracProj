{
 "cells": [
  {
   "cell_type": "code",
   "execution_count": 1,
   "metadata": {},
   "outputs": [
    {
     "data": {
      "text/plain": [
       "True"
      ]
     },
     "execution_count": 1,
     "metadata": {},
     "output_type": "execute_result"
    }
   ],
   "source": [
    "from dotenv import load_dotenv\n",
    "load_dotenv()"
   ]
  },
  {
   "cell_type": "code",
   "execution_count": 2,
   "metadata": {},
   "outputs": [
    {
     "name": "stderr",
     "output_type": "stream",
     "text": [
      "C:\\Users\\201\\AppData\\Local\\Temp\\ipykernel_18320\\4219684448.py:23: LangChainDeprecationWarning: The class `OpenAIEmbeddings` was deprecated in LangChain 0.0.9 and will be removed in 1.0. An updated version of the class exists in the :class:`~langchain-openai package and should be used instead. To use it run `pip install -U :class:`~langchain-openai` and import as `from :class:`~langchain_openai import OpenAIEmbeddings``.\n",
      "  embeddings = OpenAIEmbeddings()\n"
     ]
    }
   ],
   "source": [
    "from langchain.chat_models import ChatOpenAI\n",
    "from langchain.chains import LLMChain\n",
    "from langchain.prompts import PromptTemplate\n",
    "from langchain.embeddings.openai import OpenAIEmbeddings\n",
    "from langchain_experimental.text_splitter import SemanticChunker\n",
    "from langchain.document_loaders import UnstructuredExcelLoader\n",
    "from pymongo import MongoClient\n",
    "from langchain_community.vectorstores import MongoDBAtlasVectorSearch\n",
    "import os\n",
    "from langchain.schema import Document  \n",
    "import pandas as pd\n",
    "\n",
    "# 1. 엑셀 파일 로드 및 문서로 변환\n",
    "xlsx_path = \"test용사전엑셀.xlsx\"\n",
    "df = pd.read_excel(xlsx_path)\n",
    "\n",
    "# 각 row 데이터를 \"korean-english\" 형식으로 저장\n",
    "docs = [\n",
    "    Document(page_content=f'{row[\"한국어\"]}: {row[\"영어\"]}')\n",
    "    for _, row in df.iterrows()\n",
    "]\n",
    "# 2. Embeddings 및 문서 분할 설정\n",
    "embeddings = OpenAIEmbeddings()\n",
    "semantic_chunker = SemanticChunker(embeddings, breakpoint_threshold_type=\"percentile\")\n",
    "semantic_chunks = semantic_chunker.create_documents([d.page_content for d in docs])\n",
    "\n",
    "\n"
   ]
  },
  {
   "cell_type": "code",
   "execution_count": 3,
   "metadata": {},
   "outputs": [],
   "source": [
    "from pymongo import MongoClient\n",
    "\n",
    "# 3. MongoDB 연결 설정\n",
    "MONGODB_ATLAS_CLUSTER_URI = os.getenv(\"MONGODB_ATLAS_CLUSTER_URI\")\n",
    "client = MongoClient(MONGODB_ATLAS_CLUSTER_URI)\n",
    "\n",
    "DB_NAME = \"test\"\n",
    "COLLECTION_NAME = \"col\"\n",
    "# INDEX_NAME = \"_id_\"\n",
    "\n",
    "collection = client[DB_NAME][COLLECTION_NAME]\n",
    "\n",
    "\n",
    "vectorstore = MongoDBAtlasVectorSearch.from_documents(\n",
    "    documents=semantic_chunks,  # **chunker로 분할된 문서 사용**\n",
    "    embedding=embeddings,      # Embedding 모델\n",
    "    collection=collection,      # MongoDB 컬렉션\n",
    "    # index_name=INDEX_NAME,\n",
    ")\n"
   ]
  },
  {
   "cell_type": "code",
   "execution_count": 46,
   "metadata": {},
   "outputs": [],
   "source": [
    "# 번역을 위한 PromptTemplate 설정\n",
    "translation_prompt = PromptTemplate(\n",
    "    input_variables=[\"retrieved_text\", \"query\"],\n",
    "    template=\"\"\"\n",
    "다음은 한국어 텍스트와 관련된 참고 자료입니다:\n",
    "참고 자료: {retrieved_text}\n",
    "\n",
    "위 자료를 기반으로, 아래 한국어 문장을 영어로 번역해주세요.\n",
    "문장: {query}\n",
    "번역:\n",
    "\"\"\"\n",
    ")\n",
    "\n",
    "trans_llm = ChatOpenAI(model=\"gpt-4o-mini\", temperature=0)\n",
    "\n",
    "translation_chain = LLMChain(\n",
    "    llm=trans_llm, \n",
    "    prompt=translation_prompt\n",
    "    )\n",
    "\n",
    "# 키워드 매칭, 점수를 내서 처리\n",
    "retriever = vectorstore.as_retriever()\n"
   ]
  },
  {
   "cell_type": "code",
   "execution_count": 47,
   "metadata": {},
   "outputs": [
    {
     "name": "stdout",
     "output_type": "stream",
     "text": [
      "지금 뭐가 있는데? []\n",
      "번역 결과: The translation of the sentence \"산독끼는 바나나와 꼬라니를 좋아해.\" is \"Sandoqki likes bananas and corani.\"\n"
     ]
    }
   ],
   "source": [
    "query = \"산독끼는 바나나와 꼬라니를 좋아해.\"\n",
    "retrieved_docs = retriever.get_relevant_documents(query)\n",
    "\n",
    "print(\"지금 뭐가 있는데?\", retrieved_docs )\n",
    "\n",
    "# 검색 결과를 결합하여 참고 자료로 활용\n",
    "retrieved_text = \" \".join([doc.page_content for doc in retrieved_docs])\n",
    "\n",
    "result = translation_chain.run({\"retrieved_text\": retrieved_text, \"query\": query})\n",
    "print(\"번역 결과:\", result)"
   ]
  }
 ],
 "metadata": {
  "kernelspec": {
   "display_name": "pystudy",
   "language": "python",
   "name": "python3"
  },
  "language_info": {
   "codemirror_mode": {
    "name": "ipython",
    "version": 3
   },
   "file_extension": ".py",
   "mimetype": "text/x-python",
   "name": "python",
   "nbconvert_exporter": "python",
   "pygments_lexer": "ipython3",
   "version": "3.12.8"
  }
 },
 "nbformat": 4,
 "nbformat_minor": 2
}
