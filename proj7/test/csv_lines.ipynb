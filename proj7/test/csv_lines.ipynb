{
 "cells": [
  {
   "cell_type": "code",
   "execution_count": 12,
   "metadata": {},
   "outputs": [
    {
     "data": {
      "text/plain": [
       "True"
      ]
     },
     "execution_count": 12,
     "metadata": {},
     "output_type": "execute_result"
    }
   ],
   "source": [
    "import pandas as pd\n",
    "import openai\n",
    "from dotenv import load_dotenv\n",
    "load_dotenv()"
   ]
  },
  {
   "cell_type": "code",
   "execution_count": 13,
   "metadata": {},
   "outputs": [],
   "source": [
    "import os\n",
    "openai_api_key = os.getenv('OPENAI_API_KEY')\n",
    "openai.api_key =openai_api_key"
   ]
  },
  {
   "cell_type": "code",
   "execution_count": 14,
   "metadata": {},
   "outputs": [],
   "source": [
    "# CSV 파일 불러오기 (첫 번째 행 제외)\n",
    "file_path='../관광지-하은님1700.csv'\n",
    "\n",
    "df_ex = pd.read_csv(file_path)"
   ]
  },
  {
   "cell_type": "code",
   "execution_count": 15,
   "metadata": {},
   "outputs": [
    {
     "data": {
      "text/html": [
       "<div>\n",
       "<style scoped>\n",
       "    .dataframe tbody tr th:only-of-type {\n",
       "        vertical-align: middle;\n",
       "    }\n",
       "\n",
       "    .dataframe tbody tr th {\n",
       "        vertical-align: top;\n",
       "    }\n",
       "\n",
       "    .dataframe thead th {\n",
       "        text-align: right;\n",
       "    }\n",
       "</style>\n",
       "<table border=\"1\" class=\"dataframe\">\n",
       "  <thead>\n",
       "    <tr style=\"text-align: right;\">\n",
       "      <th></th>\n",
       "      <th>KO</th>\n",
       "      <th>ENG</th>\n",
       "      <th>JPN</th>\n",
       "    </tr>\n",
       "  </thead>\n",
       "  <tbody>\n",
       "    <tr>\n",
       "      <th>0</th>\n",
       "      <td>부용공원</td>\n",
       "      <td>Buyong Park</td>\n",
       "      <td>芙蓉公園</td>\n",
       "    </tr>\n",
       "    <tr>\n",
       "      <th>1</th>\n",
       "      <td>북새말공원</td>\n",
       "      <td>Buksaemal Park</td>\n",
       "      <td>北セマル公園</td>\n",
       "    </tr>\n",
       "    <tr>\n",
       "      <th>2</th>\n",
       "      <td>비둘기근린공원</td>\n",
       "      <td>Pigeon Neighborhood Park</td>\n",
       "      <td>ハト近隣公園</td>\n",
       "    </tr>\n",
       "    <tr>\n",
       "      <th>3</th>\n",
       "      <td>비룡성당</td>\n",
       "      <td>Biryong Cathedral</td>\n",
       "      <td>飛龍聖堂</td>\n",
       "    </tr>\n",
       "    <tr>\n",
       "      <th>4</th>\n",
       "      <td>비발디공원</td>\n",
       "      <td>Vivaldi Park</td>\n",
       "      <td>ビバルディ公園</td>\n",
       "    </tr>\n",
       "  </tbody>\n",
       "</table>\n",
       "</div>"
      ],
      "text/plain": [
       "        KO                       ENG      JPN\n",
       "0     부용공원               Buyong Park     芙蓉公園\n",
       "1    북새말공원            Buksaemal Park   北セマル公園\n",
       "2  비둘기근린공원  Pigeon Neighborhood Park   ハト近隣公園\n",
       "3     비룡성당         Biryong Cathedral     飛龍聖堂\n",
       "4    비발디공원              Vivaldi Park  ビバルディ公園"
      ]
     },
     "execution_count": 15,
     "metadata": {},
     "output_type": "execute_result"
    }
   ],
   "source": [
    "df_ex.head()"
   ]
  },
  {
   "cell_type": "code",
   "execution_count": 17,
   "metadata": {},
   "outputs": [
    {
     "name": "stdout",
     "output_type": "stream",
     "text": [
      "저장됨v\n"
     ]
    }
   ],
   "source": [
    "from langchain.chat_models import ChatOpenAI\n",
    "from langchain.prompts import PromptTemplate\n",
    "from langchain.chains import LLMChain, SequentialChain\n",
    "    \n",
    "def generate_sentences_from_csv(df, openai_api_key):\n",
    "    \n",
    "    llm = ChatOpenAI(model_name=\"gpt-4o-mini\", openai_api_key=openai_api_key)\n",
    "    \n",
    "    results = []\n",
    "    \n",
    "    # prompts\n",
    "    korean_prompt = PromptTemplate.from_template(\n",
    "        \"\"\"\n",
    "        You are a professional Korean language educator.\n",
    "        Create 1 natural Korean sentence that include the word '{word}' without numbering them.\n",
    "        Provide only the sentence without the original sentence, additional examples, symbols, or punctuation explanations.\n",
    "        \"\"\"\n",
    "        )\n",
    "    english_prompt = PromptTemplate.from_template(\n",
    "        \"\"\"\n",
    "        You are a professional English translator.\n",
    "        Translate the following Korean sentence into English using the word '{english_hint}':  \\n{korean_sentences}\\n.\n",
    "        Provide only the translated text without the original sentence, additional examples, symbols, or punctuation explanations.\n",
    "        Keep the same order, each on a new line.        \n",
    "        \"\"\")\n",
    "    japanese_prompt = PromptTemplate.from_template(\n",
    "        \"\"\"\n",
    "        You are a professional Japanese translator.\n",
    "        Translate the following Korean sentence into Japanese using the word '{japanese_hint}':  \\n{korean_sentences}\\n.\n",
    "        Provide only the translated text without the original sentence, additional examples, symbols, or punctuation explanations.\n",
    "        Keep the same order, each on a new line.\n",
    "        \"\"\")\n",
    "    \n",
    "    # chains\n",
    "    korean_chain = LLMChain(llm=llm, prompt=korean_prompt, output_key=\"korean_sentences\")\n",
    "    english_chain = LLMChain(llm=llm, prompt=english_prompt, output_key=\"english_translations\")\n",
    "    japanese_chain = LLMChain(llm=llm, prompt=japanese_prompt, output_key=\"japanese_translations\")\n",
    "    \n",
    "    \n",
    "    # Sequential chain(chain묶음)\n",
    "    translation_chain = SequentialChain(\n",
    "        chains=[korean_chain, english_chain, japanese_chain],\n",
    "        input_variables=[\"word\", \"english_hint\", \"japanese_hint\"],\n",
    "        output_variables=[\"korean_sentences\", \"english_translations\", \"japanese_translations\"]\n",
    "    )\n",
    "    \n",
    "    for index, row in df.iterrows():\n",
    "        korean_word = row.iloc[0]  # 한국어\n",
    "        english_hint = row.iloc[1]  # 영어\n",
    "        japanese_hint = row.iloc[2]  # 일본어\n",
    "    \n",
    "        response = translation_chain(\n",
    "            {\"word\": korean_word, \"english_hint\": english_hint, \"japanese_hint\": japanese_hint}\n",
    "        )         \n",
    "        \n",
    "        # # 5 result split\n",
    "        # korean_sentences = response[\"korean_sentences\"].strip().split(\"\\n\")\n",
    "        # english_translations = response[\"english_translations\"].strip().split(\"\\n\")\n",
    "        # japanese_translations = response[\"japanese_translations\"].strip().split(\"\\n\")\n",
    "\n",
    "        # if len(korean_sentences) == len(english_translations) == len(japanese_translations) == 1:\n",
    "        #     for i in range(1):\n",
    "        #         results.append([korean_sentences[i], english_translations[i], japanese_translations[i]])\n",
    "        # else:\n",
    "        #     print(f\"Warning: Mismatch in sentence count for word '{korean_word}'\")\n",
    "    \n",
    "    \n",
    "        korean_sentence = response[\"korean_sentences\"]\n",
    "        english_translation = response[\"english_translations\"]\n",
    "        japanese_translation = response[\"japanese_translations\"]\n",
    "\n",
    "        results.append([korean_sentence, english_translation, japanese_translation])\n",
    "    \n",
    "    \n",
    "    result_df = pd.DataFrame(results, columns=[ \"Korean Sentence\", \"English Translation\", \"Japanese Translation\"])\n",
    "    result_df.to_csv(\"travel_3.csv\", index=False, encoding=\"utf-8-sig\")\n",
    "    \n",
    "    print(\"저장됨v\")\n",
    "    \n",
    "\n",
    "generate_sentences_from_csv(df_ex, openai_api_key)"
   ]
  }
 ],
 "metadata": {
  "kernelspec": {
   "display_name": "pystudy",
   "language": "python",
   "name": "python3"
  },
  "language_info": {
   "codemirror_mode": {
    "name": "ipython",
    "version": 3
   },
   "file_extension": ".py",
   "mimetype": "text/x-python",
   "name": "python",
   "nbconvert_exporter": "python",
   "pygments_lexer": "ipython3",
   "version": "3.12.8"
  }
 },
 "nbformat": 4,
 "nbformat_minor": 2
}
