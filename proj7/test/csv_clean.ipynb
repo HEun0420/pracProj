{
 "cells": [
  {
   "cell_type": "code",
   "execution_count": 129,
   "metadata": {},
   "outputs": [],
   "source": [
    "import pandas as pd\n",
    "\n",
    "df = pd.read_csv('../용어사전 - 문화시설.csv')"
   ]
  },
  {
   "cell_type": "code",
   "execution_count": 130,
   "metadata": {},
   "outputs": [
    {
     "name": "stdout",
     "output_type": "stream",
     "text": [
      "삭제 전 데이터 개수: 1058\n",
      "삭제 후 데이터 개수: 1052\n"
     ]
    }
   ],
   "source": [
    "# 삭제 전 데이터 개수 출력\n",
    "print(f\"삭제 전 데이터 개수: {len(df)}\")\n",
    "\n",
    "# 특정 문자열이 포함된 레코드 삭제 (예: '특정문자열'이 포함된 레코드)\n",
    "df_filtered = df[~df['KO'].str.contains('씨어터', na=False)]\n",
    "\n",
    "# 삭제 후 데이터 개수 출력\n",
    "print(f\"삭제 후 데이터 개수: {len(df_filtered)}\")\n",
    "\n",
    "# 결과를 새로운 CSV 파일로 저장\n",
    "df_filtered.to_csv('../용어사전 - 문화시설.csv', index=False)\n",
    "# df_filtered.to_csv('output.csv', index=False)\n"
   ]
  },
  {
   "cell_type": "code",
   "execution_count": null,
   "metadata": {},
   "outputs": [],
   "source": []
  },
  {
   "cell_type": "code",
   "execution_count": null,
   "metadata": {},
   "outputs": [],
   "source": []
  },
  {
   "cell_type": "code",
   "execution_count": null,
   "metadata": {},
   "outputs": [],
   "source": []
  }
 ],
 "metadata": {
  "kernelspec": {
   "display_name": "pystudy",
   "language": "python",
   "name": "python3"
  },
  "language_info": {
   "codemirror_mode": {
    "name": "ipython",
    "version": 3
   },
   "file_extension": ".py",
   "mimetype": "text/x-python",
   "name": "python",
   "nbconvert_exporter": "python",
   "pygments_lexer": "ipython3",
   "version": "3.12.8"
  }
 },
 "nbformat": 4,
 "nbformat_minor": 2
}
