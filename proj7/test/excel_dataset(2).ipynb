{
 "cells": [
  {
   "cell_type": "code",
   "execution_count": 5,
   "metadata": {},
   "outputs": [
    {
     "data": {
      "text/plain": [
       "True"
      ]
     },
     "execution_count": 5,
     "metadata": {},
     "output_type": "execute_result"
    }
   ],
   "source": [
    "import pandas as pd\n",
    "import openai\n",
    "from dotenv import load_dotenv\n",
    "load_dotenv()"
   ]
  },
  {
   "cell_type": "code",
   "execution_count": 6,
   "metadata": {},
   "outputs": [],
   "source": [
    "import os\n",
    "openai_api_key = os.getenv('OPENAI_API_KEY')\n",
    "openai.api_key =openai_api_key"
   ]
  },
  {
   "cell_type": "code",
   "execution_count": null,
   "metadata": {},
   "outputs": [],
   "source": [
    "import csv\n",
    "import json\n",
    "\n",
    "# CSV 파일 경로\n",
    "csv_file = \"../관광지-1.csv\"\n",
    "json_output = []\n",
    "\n",
    "# CSV 파일 읽기\n",
    "with open(csv_file, mode='r', encoding='utf-8') as file:\n",
    "    reader = csv.reader(file)\n",
    "    for row in reader:\n",
    "        if len(row) == 3:  # KO, ENG, JPN 데이터가 있는 경우만 처리\n",
    "            ko, eng, jpn = row\n",
    "            json_entry = {\"KO\": ko, \"ENG\": eng, \"JPN\": jpn}\n",
    "            json_output.append(json_entry)\n",
    "\n",
    "# 데이터프레임 생성\n",
    "df = pd.DataFrame({\"metadata\": [json.dumps(entry, ensure_ascii=False) for entry in json_output]})\n",
    "\n",
    "# 엑셀 파일 저장\n",
    "df.to_excel(\"hyun_places.xlsx\", index=False)"
   ]
  },
  {
   "cell_type": "code",
   "execution_count": null,
   "metadata": {},
   "outputs": [
    {
     "name": "stderr",
     "output_type": "stream",
     "text": [
      "C:\\Users\\201\\AppData\\Local\\Temp\\ipykernel_18640\\1881773310.py:8: LangChainDeprecationWarning: The class `ChatOpenAI` was deprecated in LangChain 0.0.10 and will be removed in 1.0. An updated version of the class exists in the :class:`~langchain-openai package and should be used instead. To use it run `pip install -U :class:`~langchain-openai` and import as `from :class:`~langchain_openai import ChatOpenAI``.\n",
      "  llm = ChatOpenAI(model_name=\"gpt-4o-mini\", openai_api_key=openai_api_key)\n",
      "C:\\Users\\201\\AppData\\Local\\Temp\\ipykernel_18640\\1881773310.py:32: LangChainDeprecationWarning: The class `LLMChain` was deprecated in LangChain 0.1.17 and will be removed in 1.0. Use :meth:`~RunnableSequence, e.g., `prompt | llm`` instead.\n",
      "  korean_chain = LLMChain(\n",
      "C:\\Users\\201\\AppData\\Local\\Temp\\ipykernel_18640\\1881773310.py:55: LangChainDeprecationWarning: The method `Chain.__call__` was deprecated in langchain 0.1.0 and will be removed in 1.0. Use :meth:`~invoke` instead.\n",
      "  chain_output = translation_chain({\n"
     ]
    }
   ],
   "source": [
    "import pandas as pd\n",
    "import json\n",
    "from langchain.chat_models import ChatOpenAI\n",
    "from langchain.prompts import PromptTemplate\n",
    "from langchain.chains import SequentialChain, LLMChain\n",
    "\n",
    "def generate_sentences_from_csv(df, openai_api_key):\n",
    "    llm = ChatOpenAI(model_name=\"gpt-4o-mini\", openai_api_key=openai_api_key)\n",
    "    results = []\n",
    "    \n",
    "    # Korean sentence generation prompt\n",
    "    korean_prompt = PromptTemplate(\n",
    "        input_variables=[\"word\"],\n",
    "        template=\"\"\"\n",
    "        You are a professional Korean language educator.\n",
    "        Create a natural Korean sentence that includes the word '{word}'.\n",
    "        Provide only the sentence without the original sentence, additional examples, symbols, or punctuation explanations.\n",
    "        \"\"\"\n",
    "    )\n",
    "    \n",
    "    # English translation prompt\n",
    "    english_prompt = PromptTemplate(\n",
    "        input_variables=[\"hint\", \"korean_sentence\"],\n",
    "        template=\"\"\"\n",
    "        You are a professional English translator.\n",
    "        Translate the following Korean sentence into English using the word '{hint}': {korean_sentence}.\n",
    "        Provide only the translated text without the original sentence, additional examples, symbols, or punctuation explanations.\n",
    "        \"\"\"\n",
    "    )\n",
    "    \n",
    "    # Create individual chains\n",
    "    korean_chain = LLMChain(\n",
    "        llm=llm,\n",
    "        prompt=korean_prompt,\n",
    "        output_key=\"korean_sentence\"\n",
    "    )\n",
    "    \n",
    "    english_chain = LLMChain(\n",
    "        llm=llm,\n",
    "        prompt=english_prompt,\n",
    "        output_key=\"english_translation\"\n",
    "    )\n",
    "    \n",
    "    # Combine chains\n",
    "    translation_chain = SequentialChain(\n",
    "        chains=[korean_chain, english_chain],\n",
    "        input_variables=[\"word\", \"hint\"],\n",
    "        output_variables=[\"korean_sentence\", \"english_translation\"],\n",
    "    )\n",
    "    \n",
    "    for index, row in df.iterrows():\n",
    "        metadata_dict = json.loads(row[\"metadata\"])\n",
    "        \n",
    "        # Execute the sequential chain\n",
    "        chain_output = translation_chain({\n",
    "            \"word\": metadata_dict[\"KO\"],\n",
    "            \"hint\": metadata_dict[\"ENG\"]\n",
    "        })\n",
    "        \n",
    "        # Prepare results\n",
    "        results.append([\n",
    "            \"Translate the Korean into English. Refer to the glossary, and if it is not in the glossary, translate it. Do not provide explanations.\",\n",
    "            chain_output[\"korean_sentence\"],\n",
    "            chain_output[\"english_translation\"],\n",
    "            \"ENG\",\n",
    "            row[\"metadata\"]\n",
    "        ])\n",
    "    \n",
    "    # Create and save DataFrame\n",
    "    result_df = pd.DataFrame(\n",
    "        results,\n",
    "        columns=[\"instruction\", \"input\", \"output\", \"language\", \"metadata\"]\n",
    "    )\n",
    "    result_df.to_excel(\"bbbb.xlsx\", index=False)\n",
    "    \n",
    "    print(\"저장됨_한일\")\n",
    "\n",
    "# Load and process the Excel file\n",
    "generate_sentences_from_csv(df, openai_api_key)"
   ]
  }
 ],
 "metadata": {
  "kernelspec": {
   "display_name": "base",
   "language": "python",
   "name": "python3"
  },
  "language_info": {
   "codemirror_mode": {
    "name": "ipython",
    "version": 3
   },
   "file_extension": ".py",
   "mimetype": "text/x-python",
   "name": "python",
   "nbconvert_exporter": "python",
   "pygments_lexer": "ipython3",
   "version": "3.12.8"
  }
 },
 "nbformat": 4,
 "nbformat_minor": 2
}
