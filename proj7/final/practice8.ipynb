{
 "cells": [
  {
   "cell_type": "code",
   "execution_count": 13,
   "metadata": {},
   "outputs": [
    {
     "name": "stdout",
     "output_type": "stream",
     "text": [
      "Requirement already satisfied: langgraph in c:\\users\\201\\miniforge3\\envs\\pystudy\\lib\\site-packages (0.2.69)\n",
      "Requirement already satisfied: langchain-core!=0.3.0,!=0.3.1,!=0.3.10,!=0.3.11,!=0.3.12,!=0.3.13,!=0.3.14,!=0.3.15,!=0.3.16,!=0.3.17,!=0.3.18,!=0.3.19,!=0.3.2,!=0.3.20,!=0.3.21,!=0.3.22,!=0.3.3,!=0.3.4,!=0.3.5,!=0.3.6,!=0.3.7,!=0.3.8,!=0.3.9,<0.4.0,>=0.2.43 in c:\\users\\201\\miniforge3\\envs\\pystudy\\lib\\site-packages (from langgraph) (0.3.29)\n",
      "Requirement already satisfied: langgraph-checkpoint<3.0.0,>=2.0.10 in c:\\users\\201\\miniforge3\\envs\\pystudy\\lib\\site-packages (from langgraph) (2.0.10)\n",
      "Requirement already satisfied: langgraph-sdk<0.2.0,>=0.1.42 in c:\\users\\201\\miniforge3\\envs\\pystudy\\lib\\site-packages (from langgraph) (0.1.51)\n",
      "Requirement already satisfied: PyYAML>=5.3 in c:\\users\\201\\miniforge3\\envs\\pystudy\\lib\\site-packages (from langchain-core!=0.3.0,!=0.3.1,!=0.3.10,!=0.3.11,!=0.3.12,!=0.3.13,!=0.3.14,!=0.3.15,!=0.3.16,!=0.3.17,!=0.3.18,!=0.3.19,!=0.3.2,!=0.3.20,!=0.3.21,!=0.3.22,!=0.3.3,!=0.3.4,!=0.3.5,!=0.3.6,!=0.3.7,!=0.3.8,!=0.3.9,<0.4.0,>=0.2.43->langgraph) (6.0.2)\n",
      "Requirement already satisfied: jsonpatch<2.0,>=1.33 in c:\\users\\201\\miniforge3\\envs\\pystudy\\lib\\site-packages (from langchain-core!=0.3.0,!=0.3.1,!=0.3.10,!=0.3.11,!=0.3.12,!=0.3.13,!=0.3.14,!=0.3.15,!=0.3.16,!=0.3.17,!=0.3.18,!=0.3.19,!=0.3.2,!=0.3.20,!=0.3.21,!=0.3.22,!=0.3.3,!=0.3.4,!=0.3.5,!=0.3.6,!=0.3.7,!=0.3.8,!=0.3.9,<0.4.0,>=0.2.43->langgraph) (1.33)\n",
      "Requirement already satisfied: langsmith<0.3,>=0.1.125 in c:\\users\\201\\miniforge3\\envs\\pystudy\\lib\\site-packages (from langchain-core!=0.3.0,!=0.3.1,!=0.3.10,!=0.3.11,!=0.3.12,!=0.3.13,!=0.3.14,!=0.3.15,!=0.3.16,!=0.3.17,!=0.3.18,!=0.3.19,!=0.3.2,!=0.3.20,!=0.3.21,!=0.3.22,!=0.3.3,!=0.3.4,!=0.3.5,!=0.3.6,!=0.3.7,!=0.3.8,!=0.3.9,<0.4.0,>=0.2.43->langgraph) (0.2.7)\n",
      "Requirement already satisfied: packaging<25,>=23.2 in c:\\users\\201\\miniforge3\\envs\\pystudy\\lib\\site-packages (from langchain-core!=0.3.0,!=0.3.1,!=0.3.10,!=0.3.11,!=0.3.12,!=0.3.13,!=0.3.14,!=0.3.15,!=0.3.16,!=0.3.17,!=0.3.18,!=0.3.19,!=0.3.2,!=0.3.20,!=0.3.21,!=0.3.22,!=0.3.3,!=0.3.4,!=0.3.5,!=0.3.6,!=0.3.7,!=0.3.8,!=0.3.9,<0.4.0,>=0.2.43->langgraph) (24.2)\n",
      "Requirement already satisfied: pydantic<3.0.0,>=2.7.4 in c:\\users\\201\\miniforge3\\envs\\pystudy\\lib\\site-packages (from langchain-core!=0.3.0,!=0.3.1,!=0.3.10,!=0.3.11,!=0.3.12,!=0.3.13,!=0.3.14,!=0.3.15,!=0.3.16,!=0.3.17,!=0.3.18,!=0.3.19,!=0.3.2,!=0.3.20,!=0.3.21,!=0.3.22,!=0.3.3,!=0.3.4,!=0.3.5,!=0.3.6,!=0.3.7,!=0.3.8,!=0.3.9,<0.4.0,>=0.2.43->langgraph) (2.9.2)\n",
      "Requirement already satisfied: tenacity!=8.4.0,<10.0.0,>=8.1.0 in c:\\users\\201\\miniforge3\\envs\\pystudy\\lib\\site-packages (from langchain-core!=0.3.0,!=0.3.1,!=0.3.10,!=0.3.11,!=0.3.12,!=0.3.13,!=0.3.14,!=0.3.15,!=0.3.16,!=0.3.17,!=0.3.18,!=0.3.19,!=0.3.2,!=0.3.20,!=0.3.21,!=0.3.22,!=0.3.3,!=0.3.4,!=0.3.5,!=0.3.6,!=0.3.7,!=0.3.8,!=0.3.9,<0.4.0,>=0.2.43->langgraph) (9.0.0)\n",
      "Requirement already satisfied: typing-extensions>=4.7 in c:\\users\\201\\miniforge3\\envs\\pystudy\\lib\\site-packages (from langchain-core!=0.3.0,!=0.3.1,!=0.3.10,!=0.3.11,!=0.3.12,!=0.3.13,!=0.3.14,!=0.3.15,!=0.3.16,!=0.3.17,!=0.3.18,!=0.3.19,!=0.3.2,!=0.3.20,!=0.3.21,!=0.3.22,!=0.3.3,!=0.3.4,!=0.3.5,!=0.3.6,!=0.3.7,!=0.3.8,!=0.3.9,<0.4.0,>=0.2.43->langgraph) (4.12.2)\n",
      "Requirement already satisfied: msgpack<2.0.0,>=1.1.0 in c:\\users\\201\\miniforge3\\envs\\pystudy\\lib\\site-packages (from langgraph-checkpoint<3.0.0,>=2.0.10->langgraph) (1.1.0)\n",
      "Requirement already satisfied: httpx>=0.25.2 in c:\\users\\201\\miniforge3\\envs\\pystudy\\lib\\site-packages (from langgraph-sdk<0.2.0,>=0.1.42->langgraph) (0.28.1)\n",
      "Requirement already satisfied: orjson>=3.10.1 in c:\\users\\201\\miniforge3\\envs\\pystudy\\lib\\site-packages (from langgraph-sdk<0.2.0,>=0.1.42->langgraph) (3.10.13)\n",
      "Requirement already satisfied: anyio in c:\\users\\201\\miniforge3\\envs\\pystudy\\lib\\site-packages (from httpx>=0.25.2->langgraph-sdk<0.2.0,>=0.1.42->langgraph) (4.7.0)\n",
      "Requirement already satisfied: certifi in c:\\users\\201\\miniforge3\\envs\\pystudy\\lib\\site-packages (from httpx>=0.25.2->langgraph-sdk<0.2.0,>=0.1.42->langgraph) (2024.12.14)\n",
      "Requirement already satisfied: httpcore==1.* in c:\\users\\201\\miniforge3\\envs\\pystudy\\lib\\site-packages (from httpx>=0.25.2->langgraph-sdk<0.2.0,>=0.1.42->langgraph) (1.0.7)\n",
      "Requirement already satisfied: idna in c:\\users\\201\\miniforge3\\envs\\pystudy\\lib\\site-packages (from httpx>=0.25.2->langgraph-sdk<0.2.0,>=0.1.42->langgraph) (3.10)\n",
      "Requirement already satisfied: h11<0.15,>=0.13 in c:\\users\\201\\miniforge3\\envs\\pystudy\\lib\\site-packages (from httpcore==1.*->httpx>=0.25.2->langgraph-sdk<0.2.0,>=0.1.42->langgraph) (0.14.0)\n",
      "Requirement already satisfied: jsonpointer>=1.9 in c:\\users\\201\\miniforge3\\envs\\pystudy\\lib\\site-packages (from jsonpatch<2.0,>=1.33->langchain-core!=0.3.0,!=0.3.1,!=0.3.10,!=0.3.11,!=0.3.12,!=0.3.13,!=0.3.14,!=0.3.15,!=0.3.16,!=0.3.17,!=0.3.18,!=0.3.19,!=0.3.2,!=0.3.20,!=0.3.21,!=0.3.22,!=0.3.3,!=0.3.4,!=0.3.5,!=0.3.6,!=0.3.7,!=0.3.8,!=0.3.9,<0.4.0,>=0.2.43->langgraph) (3.0.0)\n",
      "Requirement already satisfied: requests<3,>=2 in c:\\users\\201\\miniforge3\\envs\\pystudy\\lib\\site-packages (from langsmith<0.3,>=0.1.125->langchain-core!=0.3.0,!=0.3.1,!=0.3.10,!=0.3.11,!=0.3.12,!=0.3.13,!=0.3.14,!=0.3.15,!=0.3.16,!=0.3.17,!=0.3.18,!=0.3.19,!=0.3.2,!=0.3.20,!=0.3.21,!=0.3.22,!=0.3.3,!=0.3.4,!=0.3.5,!=0.3.6,!=0.3.7,!=0.3.8,!=0.3.9,<0.4.0,>=0.2.43->langgraph) (2.32.3)\n",
      "Requirement already satisfied: requests-toolbelt<2.0.0,>=1.0.0 in c:\\users\\201\\miniforge3\\envs\\pystudy\\lib\\site-packages (from langsmith<0.3,>=0.1.125->langchain-core!=0.3.0,!=0.3.1,!=0.3.10,!=0.3.11,!=0.3.12,!=0.3.13,!=0.3.14,!=0.3.15,!=0.3.16,!=0.3.17,!=0.3.18,!=0.3.19,!=0.3.2,!=0.3.20,!=0.3.21,!=0.3.22,!=0.3.3,!=0.3.4,!=0.3.5,!=0.3.6,!=0.3.7,!=0.3.8,!=0.3.9,<0.4.0,>=0.2.43->langgraph) (1.0.0)\n",
      "Requirement already satisfied: annotated-types>=0.6.0 in c:\\users\\201\\miniforge3\\envs\\pystudy\\lib\\site-packages (from pydantic<3.0.0,>=2.7.4->langchain-core!=0.3.0,!=0.3.1,!=0.3.10,!=0.3.11,!=0.3.12,!=0.3.13,!=0.3.14,!=0.3.15,!=0.3.16,!=0.3.17,!=0.3.18,!=0.3.19,!=0.3.2,!=0.3.20,!=0.3.21,!=0.3.22,!=0.3.3,!=0.3.4,!=0.3.5,!=0.3.6,!=0.3.7,!=0.3.8,!=0.3.9,<0.4.0,>=0.2.43->langgraph) (0.7.0)\n",
      "Requirement already satisfied: pydantic-core==2.23.4 in c:\\users\\201\\miniforge3\\envs\\pystudy\\lib\\site-packages (from pydantic<3.0.0,>=2.7.4->langchain-core!=0.3.0,!=0.3.1,!=0.3.10,!=0.3.11,!=0.3.12,!=0.3.13,!=0.3.14,!=0.3.15,!=0.3.16,!=0.3.17,!=0.3.18,!=0.3.19,!=0.3.2,!=0.3.20,!=0.3.21,!=0.3.22,!=0.3.3,!=0.3.4,!=0.3.5,!=0.3.6,!=0.3.7,!=0.3.8,!=0.3.9,<0.4.0,>=0.2.43->langgraph) (2.23.4)\n",
      "Requirement already satisfied: charset-normalizer<4,>=2 in c:\\users\\201\\miniforge3\\envs\\pystudy\\lib\\site-packages (from requests<3,>=2->langsmith<0.3,>=0.1.125->langchain-core!=0.3.0,!=0.3.1,!=0.3.10,!=0.3.11,!=0.3.12,!=0.3.13,!=0.3.14,!=0.3.15,!=0.3.16,!=0.3.17,!=0.3.18,!=0.3.19,!=0.3.2,!=0.3.20,!=0.3.21,!=0.3.22,!=0.3.3,!=0.3.4,!=0.3.5,!=0.3.6,!=0.3.7,!=0.3.8,!=0.3.9,<0.4.0,>=0.2.43->langgraph) (3.4.1)\n",
      "Requirement already satisfied: urllib3<3,>=1.21.1 in c:\\users\\201\\miniforge3\\envs\\pystudy\\lib\\site-packages (from requests<3,>=2->langsmith<0.3,>=0.1.125->langchain-core!=0.3.0,!=0.3.1,!=0.3.10,!=0.3.11,!=0.3.12,!=0.3.13,!=0.3.14,!=0.3.15,!=0.3.16,!=0.3.17,!=0.3.18,!=0.3.19,!=0.3.2,!=0.3.20,!=0.3.21,!=0.3.22,!=0.3.3,!=0.3.4,!=0.3.5,!=0.3.6,!=0.3.7,!=0.3.8,!=0.3.9,<0.4.0,>=0.2.43->langgraph) (2.3.0)\n",
      "Requirement already satisfied: sniffio>=1.1 in c:\\users\\201\\miniforge3\\envs\\pystudy\\lib\\site-packages (from anyio->httpx>=0.25.2->langgraph-sdk<0.2.0,>=0.1.42->langgraph) (1.3.1)\n",
      "^C\n",
      "Requirement already satisfied: langchain_community in c:\\users\\201\\miniforge3\\envs\\pystudy\\lib\\site-packages (0.3.14)\n",
      "Requirement already satisfied: PyYAML>=5.3 in c:\\users\\201\\miniforge3\\envs\\pystudy\\lib\\site-packages (from langchain_community) (6.0.2)\n",
      "Requirement already satisfied: SQLAlchemy<3,>=1.4 in c:\\users\\201\\miniforge3\\envs\\pystudy\\lib\\site-packages (from langchain_community) (2.0.36)\n",
      "Requirement already satisfied: aiohttp<4.0.0,>=3.8.3 in c:\\users\\201\\miniforge3\\envs\\pystudy\\lib\\site-packages (from langchain_community) (3.11.11)\n",
      "Requirement already satisfied: dataclasses-json<0.7,>=0.5.7 in c:\\users\\201\\miniforge3\\envs\\pystudy\\lib\\site-packages (from langchain_community) (0.6.7)\n",
      "Requirement already satisfied: httpx-sse<0.5.0,>=0.4.0 in c:\\users\\201\\miniforge3\\envs\\pystudy\\lib\\site-packages (from langchain_community) (0.4.0)\n",
      "Requirement already satisfied: langchain<0.4.0,>=0.3.14 in c:\\users\\201\\miniforge3\\envs\\pystudy\\lib\\site-packages (from langchain_community) (0.3.14)\n",
      "Requirement already satisfied: langchain-core<0.4.0,>=0.3.29 in c:\\users\\201\\miniforge3\\envs\\pystudy\\lib\\site-packages (from langchain_community) (0.3.29)\n",
      "Requirement already satisfied: langsmith<0.3,>=0.1.125 in c:\\users\\201\\miniforge3\\envs\\pystudy\\lib\\site-packages (from langchain_community) (0.2.7)\n",
      "Requirement already satisfied: numpy<3,>=1.26.2 in c:\\users\\201\\miniforge3\\envs\\pystudy\\lib\\site-packages (from langchain_community) (1.26.4)\n",
      "Requirement already satisfied: pydantic-settings<3.0.0,>=2.4.0 in c:\\users\\201\\miniforge3\\envs\\pystudy\\lib\\site-packages (from langchain_community) (2.7.0)\n",
      "Requirement already satisfied: requests<3,>=2 in c:\\users\\201\\miniforge3\\envs\\pystudy\\lib\\site-packages (from langchain_community) (2.32.3)\n",
      "Requirement already satisfied: tenacity!=8.4.0,<10,>=8.1.0 in c:\\users\\201\\miniforge3\\envs\\pystudy\\lib\\site-packages (from langchain_community) (9.0.0)\n",
      "Requirement already satisfied: aiohappyeyeballs>=2.3.0 in c:\\users\\201\\miniforge3\\envs\\pystudy\\lib\\site-packages (from aiohttp<4.0.0,>=3.8.3->langchain_community) (2.4.4)\n",
      "Requirement already satisfied: aiosignal>=1.1.2 in c:\\users\\201\\miniforge3\\envs\\pystudy\\lib\\site-packages (from aiohttp<4.0.0,>=3.8.3->langchain_community) (1.3.2)\n",
      "Requirement already satisfied: attrs>=17.3.0 in c:\\users\\201\\miniforge3\\envs\\pystudy\\lib\\site-packages (from aiohttp<4.0.0,>=3.8.3->langchain_community) (24.3.0)\n",
      "Requirement already satisfied: frozenlist>=1.1.1 in c:\\users\\201\\miniforge3\\envs\\pystudy\\lib\\site-packages (from aiohttp<4.0.0,>=3.8.3->langchain_community) (1.5.0)\n",
      "Requirement already satisfied: multidict<7.0,>=4.5 in c:\\users\\201\\miniforge3\\envs\\pystudy\\lib\\site-packages (from aiohttp<4.0.0,>=3.8.3->langchain_community) (6.1.0)\n",
      "Requirement already satisfied: propcache>=0.2.0 in c:\\users\\201\\miniforge3\\envs\\pystudy\\lib\\site-packages (from aiohttp<4.0.0,>=3.8.3->langchain_community) (0.2.1)\n",
      "Requirement already satisfied: yarl<2.0,>=1.17.0 in c:\\users\\201\\miniforge3\\envs\\pystudy\\lib\\site-packages (from aiohttp<4.0.0,>=3.8.3->langchain_community) (1.18.3)\n",
      "Requirement already satisfied: marshmallow<4.0.0,>=3.18.0 in c:\\users\\201\\miniforge3\\envs\\pystudy\\lib\\site-packages (from dataclasses-json<0.7,>=0.5.7->langchain_community) (3.23.2)\n",
      "Requirement already satisfied: typing-inspect<1,>=0.4.0 in c:\\users\\201\\miniforge3\\envs\\pystudy\\lib\\site-packages (from dataclasses-json<0.7,>=0.5.7->langchain_community) (0.9.0)\n",
      "Requirement already satisfied: langchain-text-splitters<0.4.0,>=0.3.3 in c:\\users\\201\\miniforge3\\envs\\pystudy\\lib\\site-packages (from langchain<0.4.0,>=0.3.14->langchain_community) (0.3.4)\n",
      "Requirement already satisfied: pydantic<3.0.0,>=2.7.4 in c:\\users\\201\\miniforge3\\envs\\pystudy\\lib\\site-packages (from langchain<0.4.0,>=0.3.14->langchain_community) (2.9.2)\n",
      "Requirement already satisfied: jsonpatch<2.0,>=1.33 in c:\\users\\201\\miniforge3\\envs\\pystudy\\lib\\site-packages (from langchain-core<0.4.0,>=0.3.29->langchain_community) (1.33)\n",
      "Requirement already satisfied: packaging<25,>=23.2 in c:\\users\\201\\miniforge3\\envs\\pystudy\\lib\\site-packages (from langchain-core<0.4.0,>=0.3.29->langchain_community) (24.2)\n",
      "Requirement already satisfied: typing-extensions>=4.7 in c:\\users\\201\\miniforge3\\envs\\pystudy\\lib\\site-packages (from langchain-core<0.4.0,>=0.3.29->langchain_community) (4.12.2)\n",
      "Requirement already satisfied: httpx<1,>=0.23.0 in c:\\users\\201\\miniforge3\\envs\\pystudy\\lib\\site-packages (from langsmith<0.3,>=0.1.125->langchain_community) (0.28.1)\n",
      "Requirement already satisfied: orjson<4.0.0,>=3.9.14 in c:\\users\\201\\miniforge3\\envs\\pystudy\\lib\\site-packages (from langsmith<0.3,>=0.1.125->langchain_community) (3.10.13)\n",
      "Requirement already satisfied: requests-toolbelt<2.0.0,>=1.0.0 in c:\\users\\201\\miniforge3\\envs\\pystudy\\lib\\site-packages (from langsmith<0.3,>=0.1.125->langchain_community) (1.0.0)\n",
      "Requirement already satisfied: python-dotenv>=0.21.0 in c:\\users\\201\\miniforge3\\envs\\pystudy\\lib\\site-packages (from pydantic-settings<3.0.0,>=2.4.0->langchain_community) (1.0.1)\n",
      "Requirement already satisfied: charset-normalizer<4,>=2 in c:\\users\\201\\miniforge3\\envs\\pystudy\\lib\\site-packages (from requests<3,>=2->langchain_community) (3.4.1)\n",
      "Requirement already satisfied: idna<4,>=2.5 in c:\\users\\201\\miniforge3\\envs\\pystudy\\lib\\site-packages (from requests<3,>=2->langchain_community) (3.10)\n",
      "Requirement already satisfied: urllib3<3,>=1.21.1 in c:\\users\\201\\miniforge3\\envs\\pystudy\\lib\\site-packages (from requests<3,>=2->langchain_community) (2.3.0)\n",
      "Requirement already satisfied: certifi>=2017.4.17 in c:\\users\\201\\miniforge3\\envs\\pystudy\\lib\\site-packages (from requests<3,>=2->langchain_community) (2024.12.14)\n",
      "Requirement already satisfied: greenlet!=0.4.17 in c:\\users\\201\\miniforge3\\envs\\pystudy\\lib\\site-packages (from SQLAlchemy<3,>=1.4->langchain_community) (3.1.1)\n",
      "Requirement already satisfied: anyio in c:\\users\\201\\miniforge3\\envs\\pystudy\\lib\\site-packages (from httpx<1,>=0.23.0->langsmith<0.3,>=0.1.125->langchain_community) (4.7.0)\n",
      "Requirement already satisfied: httpcore==1.* in c:\\users\\201\\miniforge3\\envs\\pystudy\\lib\\site-packages (from httpx<1,>=0.23.0->langsmith<0.3,>=0.1.125->langchain_community) (1.0.7)\n",
      "Requirement already satisfied: h11<0.15,>=0.13 in c:\\users\\201\\miniforge3\\envs\\pystudy\\lib\\site-packages (from httpcore==1.*->httpx<1,>=0.23.0->langsmith<0.3,>=0.1.125->langchain_community) (0.14.0)\n",
      "Requirement already satisfied: jsonpointer>=1.9 in c:\\users\\201\\miniforge3\\envs\\pystudy\\lib\\site-packages (from jsonpatch<2.0,>=1.33->langchain-core<0.4.0,>=0.3.29->langchain_community) (3.0.0)\n",
      "Requirement already satisfied: annotated-types>=0.6.0 in c:\\users\\201\\miniforge3\\envs\\pystudy\\lib\\site-packages (from pydantic<3.0.0,>=2.7.4->langchain<0.4.0,>=0.3.14->langchain_community) (0.7.0)\n",
      "Requirement already satisfied: pydantic-core==2.23.4 in c:\\users\\201\\miniforge3\\envs\\pystudy\\lib\\site-packages (from pydantic<3.0.0,>=2.7.4->langchain<0.4.0,>=0.3.14->langchain_community) (2.23.4)\n",
      "Requirement already satisfied: mypy-extensions>=0.3.0 in c:\\users\\201\\miniforge3\\envs\\pystudy\\lib\\site-packages (from typing-inspect<1,>=0.4.0->dataclasses-json<0.7,>=0.5.7->langchain_community) (1.0.0)\n",
      "Requirement already satisfied: sniffio>=1.1 in c:\\users\\201\\miniforge3\\envs\\pystudy\\lib\\site-packages (from anyio->httpx<1,>=0.23.0->langsmith<0.3,>=0.1.125->langchain_community) (1.3.1)\n",
      "Requirement already satisfied: bert-score in c:\\users\\201\\miniforge3\\envs\\pystudy\\lib\\site-packages (0.3.13)\n",
      "Requirement already satisfied: torch>=1.0.0 in c:\\users\\201\\miniforge3\\envs\\pystudy\\lib\\site-packages (from bert-score) (2.5.1+cu124)\n",
      "Requirement already satisfied: pandas>=1.0.1 in c:\\users\\201\\miniforge3\\envs\\pystudy\\lib\\site-packages (from bert-score) (2.2.3)\n",
      "Requirement already satisfied: transformers>=3.0.0 in c:\\users\\201\\miniforge3\\envs\\pystudy\\lib\\site-packages (from bert-score) (4.47.1)\n",
      "Requirement already satisfied: numpy in c:\\users\\201\\miniforge3\\envs\\pystudy\\lib\\site-packages (from bert-score) (1.26.4)\n",
      "Requirement already satisfied: requests in c:\\users\\201\\miniforge3\\envs\\pystudy\\lib\\site-packages (from bert-score) (2.32.3)\n",
      "Requirement already satisfied: tqdm>=4.31.1 in c:\\users\\201\\miniforge3\\envs\\pystudy\\lib\\site-packages (from bert-score) (4.67.1)\n",
      "Requirement already satisfied: matplotlib in c:\\users\\201\\miniforge3\\envs\\pystudy\\lib\\site-packages (from bert-score) (3.10.0)\n",
      "Requirement already satisfied: packaging>=20.9 in c:\\users\\201\\miniforge3\\envs\\pystudy\\lib\\site-packages (from bert-score) (24.2)\n",
      "Requirement already satisfied: python-dateutil>=2.8.2 in c:\\users\\201\\miniforge3\\envs\\pystudy\\lib\\site-packages (from pandas>=1.0.1->bert-score) (2.9.0.post0)\n",
      "Requirement already satisfied: pytz>=2020.1 in c:\\users\\201\\miniforge3\\envs\\pystudy\\lib\\site-packages (from pandas>=1.0.1->bert-score) (2024.2)\n",
      "Requirement already satisfied: tzdata>=2022.7 in c:\\users\\201\\miniforge3\\envs\\pystudy\\lib\\site-packages (from pandas>=1.0.1->bert-score) (2024.2)\n",
      "Requirement already satisfied: filelock in c:\\users\\201\\miniforge3\\envs\\pystudy\\lib\\site-packages (from torch>=1.0.0->bert-score) (3.16.1)\n",
      "Requirement already satisfied: typing-extensions>=4.8.0 in c:\\users\\201\\miniforge3\\envs\\pystudy\\lib\\site-packages (from torch>=1.0.0->bert-score) (4.12.2)\n",
      "Requirement already satisfied: networkx in c:\\users\\201\\miniforge3\\envs\\pystudy\\lib\\site-packages (from torch>=1.0.0->bert-score) (3.4.2)\n",
      "Requirement already satisfied: jinja2 in c:\\users\\201\\miniforge3\\envs\\pystudy\\lib\\site-packages (from torch>=1.0.0->bert-score) (3.1.5)\n",
      "Requirement already satisfied: fsspec in c:\\users\\201\\miniforge3\\envs\\pystudy\\lib\\site-packages (from torch>=1.0.0->bert-score) (2024.9.0)\n",
      "Requirement already satisfied: setuptools in c:\\users\\201\\miniforge3\\envs\\pystudy\\lib\\site-packages (from torch>=1.0.0->bert-score) (75.6.0)\n",
      "Requirement already satisfied: sympy==1.13.1 in c:\\users\\201\\miniforge3\\envs\\pystudy\\lib\\site-packages (from torch>=1.0.0->bert-score) (1.13.1)\n",
      "Requirement already satisfied: mpmath<1.4,>=1.1.0 in c:\\users\\201\\miniforge3\\envs\\pystudy\\lib\\site-packages (from sympy==1.13.1->torch>=1.0.0->bert-score) (1.3.0)\n",
      "Requirement already satisfied: colorama in c:\\users\\201\\miniforge3\\envs\\pystudy\\lib\\site-packages (from tqdm>=4.31.1->bert-score) (0.4.6)\n",
      "Requirement already satisfied: huggingface-hub<1.0,>=0.24.0 in c:\\users\\201\\miniforge3\\envs\\pystudy\\lib\\site-packages (from transformers>=3.0.0->bert-score) (0.27.0)\n",
      "Requirement already satisfied: pyyaml>=5.1 in c:\\users\\201\\miniforge3\\envs\\pystudy\\lib\\site-packages (from transformers>=3.0.0->bert-score) (6.0.2)\n",
      "Requirement already satisfied: regex!=2019.12.17 in c:\\users\\201\\miniforge3\\envs\\pystudy\\lib\\site-packages (from transformers>=3.0.0->bert-score) (2024.11.6)\n",
      "Requirement already satisfied: tokenizers<0.22,>=0.21 in c:\\users\\201\\miniforge3\\envs\\pystudy\\lib\\site-packages (from transformers>=3.0.0->bert-score) (0.21.0)\n",
      "Requirement already satisfied: safetensors>=0.4.1 in c:\\users\\201\\miniforge3\\envs\\pystudy\\lib\\site-packages (from transformers>=3.0.0->bert-score) (0.4.5)\n",
      "Requirement already satisfied: contourpy>=1.0.1 in c:\\users\\201\\miniforge3\\envs\\pystudy\\lib\\site-packages (from matplotlib->bert-score) (1.3.1)\n",
      "Requirement already satisfied: cycler>=0.10 in c:\\users\\201\\miniforge3\\envs\\pystudy\\lib\\site-packages (from matplotlib->bert-score) (0.12.1)\n",
      "Requirement already satisfied: fonttools>=4.22.0 in c:\\users\\201\\miniforge3\\envs\\pystudy\\lib\\site-packages (from matplotlib->bert-score) (4.55.3)\n",
      "Requirement already satisfied: kiwisolver>=1.3.1 in c:\\users\\201\\miniforge3\\envs\\pystudy\\lib\\site-packages (from matplotlib->bert-score) (1.4.8)\n",
      "Requirement already satisfied: pillow>=8 in c:\\users\\201\\miniforge3\\envs\\pystudy\\lib\\site-packages (from matplotlib->bert-score) (11.0.0)\n",
      "Requirement already satisfied: pyparsing>=2.3.1 in c:\\users\\201\\miniforge3\\envs\\pystudy\\lib\\site-packages (from matplotlib->bert-score) (3.2.0)\n",
      "Requirement already satisfied: charset-normalizer<4,>=2 in c:\\users\\201\\miniforge3\\envs\\pystudy\\lib\\site-packages (from requests->bert-score) (3.4.1)\n",
      "Requirement already satisfied: idna<4,>=2.5 in c:\\users\\201\\miniforge3\\envs\\pystudy\\lib\\site-packages (from requests->bert-score) (3.10)\n",
      "Requirement already satisfied: urllib3<3,>=1.21.1 in c:\\users\\201\\miniforge3\\envs\\pystudy\\lib\\site-packages (from requests->bert-score) (2.3.0)\n",
      "Requirement already satisfied: certifi>=2017.4.17 in c:\\users\\201\\miniforge3\\envs\\pystudy\\lib\\site-packages (from requests->bert-score) (2024.12.14)\n",
      "Requirement already satisfied: six>=1.5 in c:\\users\\201\\miniforge3\\envs\\pystudy\\lib\\site-packages (from python-dateutil>=2.8.2->pandas>=1.0.1->bert-score) (1.17.0)\n",
      "Requirement already satisfied: MarkupSafe>=2.0 in c:\\users\\201\\miniforge3\\envs\\pystudy\\lib\\site-packages (from jinja2->torch>=1.0.0->bert-score) (3.0.2)\n",
      "Requirement already satisfied: unbabel-comet in c:\\users\\201\\miniforge3\\envs\\pystudy\\lib\\site-packages (2.2.4)\n",
      "Requirement already satisfied: entmax<2.0,>=1.1 in c:\\users\\201\\miniforge3\\envs\\pystudy\\lib\\site-packages (from unbabel-comet) (1.3)\n",
      "Requirement already satisfied: huggingface-hub<1.0,>=0.19.3 in c:\\users\\201\\miniforge3\\envs\\pystudy\\lib\\site-packages (from unbabel-comet) (0.27.0)\n",
      "Requirement already satisfied: jsonargparse==3.13.1 in c:\\users\\201\\miniforge3\\envs\\pystudy\\lib\\site-packages (from unbabel-comet) (3.13.1)\n",
      "Requirement already satisfied: numpy<2.0.0,>=1.20.0 in c:\\users\\201\\miniforge3\\envs\\pystudy\\lib\\site-packages (from unbabel-comet) (1.26.4)\n",
      "Requirement already satisfied: pandas>=1.4.1 in c:\\users\\201\\miniforge3\\envs\\pystudy\\lib\\site-packages (from unbabel-comet) (2.2.3)\n",
      "Requirement already satisfied: protobuf<5.0.0,>=4.24.4 in c:\\users\\201\\miniforge3\\envs\\pystudy\\lib\\site-packages (from unbabel-comet) (4.25.5)\n",
      "Requirement already satisfied: pytorch-lightning<3.0.0,>=2.0.0 in c:\\users\\201\\miniforge3\\envs\\pystudy\\lib\\site-packages (from unbabel-comet) (2.5.0.post0)\n",
      "Requirement already satisfied: sacrebleu<3.0.0,>=2.0.0 in c:\\users\\201\\miniforge3\\envs\\pystudy\\lib\\site-packages (from unbabel-comet) (2.5.1)\n",
      "Requirement already satisfied: scipy<2.0.0,>=1.5.4 in c:\\users\\201\\miniforge3\\envs\\pystudy\\lib\\site-packages (from unbabel-comet) (1.14.1)\n",
      "Requirement already satisfied: sentencepiece<0.3.0,>=0.2.0 in c:\\users\\201\\miniforge3\\envs\\pystudy\\lib\\site-packages (from unbabel-comet) (0.2.0)\n",
      "Requirement already satisfied: torch>=1.6.0 in c:\\users\\201\\miniforge3\\envs\\pystudy\\lib\\site-packages (from unbabel-comet) (2.5.1+cu124)\n",
      "Requirement already satisfied: torchmetrics<0.11.0,>=0.10.2 in c:\\users\\201\\miniforge3\\envs\\pystudy\\lib\\site-packages (from unbabel-comet) (0.10.3)\n",
      "Requirement already satisfied: transformers<5.0,>=4.17 in c:\\users\\201\\miniforge3\\envs\\pystudy\\lib\\site-packages (from unbabel-comet) (4.47.1)\n",
      "Requirement already satisfied: PyYAML>=3.13 in c:\\users\\201\\miniforge3\\envs\\pystudy\\lib\\site-packages (from jsonargparse==3.13.1->unbabel-comet) (6.0.2)\n",
      "Requirement already satisfied: filelock in c:\\users\\201\\miniforge3\\envs\\pystudy\\lib\\site-packages (from huggingface-hub<1.0,>=0.19.3->unbabel-comet) (3.16.1)\n",
      "Requirement already satisfied: fsspec>=2023.5.0 in c:\\users\\201\\miniforge3\\envs\\pystudy\\lib\\site-packages (from huggingface-hub<1.0,>=0.19.3->unbabel-comet) (2024.9.0)\n",
      "Requirement already satisfied: packaging>=20.9 in c:\\users\\201\\miniforge3\\envs\\pystudy\\lib\\site-packages (from huggingface-hub<1.0,>=0.19.3->unbabel-comet) (24.2)\n",
      "Requirement already satisfied: requests in c:\\users\\201\\miniforge3\\envs\\pystudy\\lib\\site-packages (from huggingface-hub<1.0,>=0.19.3->unbabel-comet) (2.32.3)\n",
      "Requirement already satisfied: tqdm>=4.42.1 in c:\\users\\201\\miniforge3\\envs\\pystudy\\lib\\site-packages (from huggingface-hub<1.0,>=0.19.3->unbabel-comet) (4.67.1)\n",
      "Requirement already satisfied: typing-extensions>=3.7.4.3 in c:\\users\\201\\miniforge3\\envs\\pystudy\\lib\\site-packages (from huggingface-hub<1.0,>=0.19.3->unbabel-comet) (4.12.2)\n",
      "Requirement already satisfied: python-dateutil>=2.8.2 in c:\\users\\201\\miniforge3\\envs\\pystudy\\lib\\site-packages (from pandas>=1.4.1->unbabel-comet) (2.9.0.post0)\n",
      "Requirement already satisfied: pytz>=2020.1 in c:\\users\\201\\miniforge3\\envs\\pystudy\\lib\\site-packages (from pandas>=1.4.1->unbabel-comet) (2024.2)\n",
      "Requirement already satisfied: tzdata>=2022.7 in c:\\users\\201\\miniforge3\\envs\\pystudy\\lib\\site-packages (from pandas>=1.4.1->unbabel-comet) (2024.2)\n",
      "Requirement already satisfied: lightning-utilities>=0.10.0 in c:\\users\\201\\miniforge3\\envs\\pystudy\\lib\\site-packages (from pytorch-lightning<3.0.0,>=2.0.0->unbabel-comet) (0.12.0)\n",
      "Requirement already satisfied: portalocker in c:\\users\\201\\miniforge3\\envs\\pystudy\\lib\\site-packages (from sacrebleu<3.0.0,>=2.0.0->unbabel-comet) (3.1.1)\n",
      "Requirement already satisfied: regex in c:\\users\\201\\miniforge3\\envs\\pystudy\\lib\\site-packages (from sacrebleu<3.0.0,>=2.0.0->unbabel-comet) (2024.11.6)\n",
      "Requirement already satisfied: tabulate>=0.8.9 in c:\\users\\201\\miniforge3\\envs\\pystudy\\lib\\site-packages (from sacrebleu<3.0.0,>=2.0.0->unbabel-comet) (0.9.0)\n",
      "Requirement already satisfied: colorama in c:\\users\\201\\miniforge3\\envs\\pystudy\\lib\\site-packages (from sacrebleu<3.0.0,>=2.0.0->unbabel-comet) (0.4.6)\n",
      "Requirement already satisfied: lxml in c:\\users\\201\\miniforge3\\envs\\pystudy\\lib\\site-packages (from sacrebleu<3.0.0,>=2.0.0->unbabel-comet) (5.3.0)\n",
      "Requirement already satisfied: networkx in c:\\users\\201\\miniforge3\\envs\\pystudy\\lib\\site-packages (from torch>=1.6.0->unbabel-comet) (3.4.2)\n",
      "Requirement already satisfied: jinja2 in c:\\users\\201\\miniforge3\\envs\\pystudy\\lib\\site-packages (from torch>=1.6.0->unbabel-comet) (3.1.5)\n",
      "Requirement already satisfied: setuptools in c:\\users\\201\\miniforge3\\envs\\pystudy\\lib\\site-packages (from torch>=1.6.0->unbabel-comet) (75.6.0)\n",
      "Requirement already satisfied: sympy==1.13.1 in c:\\users\\201\\miniforge3\\envs\\pystudy\\lib\\site-packages (from torch>=1.6.0->unbabel-comet) (1.13.1)\n",
      "Requirement already satisfied: mpmath<1.4,>=1.1.0 in c:\\users\\201\\miniforge3\\envs\\pystudy\\lib\\site-packages (from sympy==1.13.1->torch>=1.6.0->unbabel-comet) (1.3.0)\n",
      "Requirement already satisfied: tokenizers<0.22,>=0.21 in c:\\users\\201\\miniforge3\\envs\\pystudy\\lib\\site-packages (from transformers<5.0,>=4.17->unbabel-comet) (0.21.0)\n",
      "Requirement already satisfied: safetensors>=0.4.1 in c:\\users\\201\\miniforge3\\envs\\pystudy\\lib\\site-packages (from transformers<5.0,>=4.17->unbabel-comet) (0.4.5)\n",
      "Requirement already satisfied: aiohttp!=4.0.0a0,!=4.0.0a1 in c:\\users\\201\\miniforge3\\envs\\pystudy\\lib\\site-packages (from fsspec[http]>=2022.5.0->pytorch-lightning<3.0.0,>=2.0.0->unbabel-comet) (3.11.11)\n",
      "Requirement already satisfied: six>=1.5 in c:\\users\\201\\miniforge3\\envs\\pystudy\\lib\\site-packages (from python-dateutil>=2.8.2->pandas>=1.4.1->unbabel-comet) (1.17.0)\n",
      "Requirement already satisfied: MarkupSafe>=2.0 in c:\\users\\201\\miniforge3\\envs\\pystudy\\lib\\site-packages (from jinja2->torch>=1.6.0->unbabel-comet) (3.0.2)\n",
      "Requirement already satisfied: pywin32>=226 in c:\\users\\201\\miniforge3\\envs\\pystudy\\lib\\site-packages (from portalocker->sacrebleu<3.0.0,>=2.0.0->unbabel-comet) (307)\n",
      "Requirement already satisfied: charset-normalizer<4,>=2 in c:\\users\\201\\miniforge3\\envs\\pystudy\\lib\\site-packages (from requests->huggingface-hub<1.0,>=0.19.3->unbabel-comet) (3.4.1)\n",
      "Requirement already satisfied: idna<4,>=2.5 in c:\\users\\201\\miniforge3\\envs\\pystudy\\lib\\site-packages (from requests->huggingface-hub<1.0,>=0.19.3->unbabel-comet) (3.10)\n",
      "Requirement already satisfied: urllib3<3,>=1.21.1 in c:\\users\\201\\miniforge3\\envs\\pystudy\\lib\\site-packages (from requests->huggingface-hub<1.0,>=0.19.3->unbabel-comet) (2.3.0)\n",
      "Requirement already satisfied: certifi>=2017.4.17 in c:\\users\\201\\miniforge3\\envs\\pystudy\\lib\\site-packages (from requests->huggingface-hub<1.0,>=0.19.3->unbabel-comet) (2024.12.14)\n",
      "Requirement already satisfied: aiohappyeyeballs>=2.3.0 in c:\\users\\201\\miniforge3\\envs\\pystudy\\lib\\site-packages (from aiohttp!=4.0.0a0,!=4.0.0a1->fsspec[http]>=2022.5.0->pytorch-lightning<3.0.0,>=2.0.0->unbabel-comet) (2.4.4)\n",
      "Requirement already satisfied: aiosignal>=1.1.2 in c:\\users\\201\\miniforge3\\envs\\pystudy\\lib\\site-packages (from aiohttp!=4.0.0a0,!=4.0.0a1->fsspec[http]>=2022.5.0->pytorch-lightning<3.0.0,>=2.0.0->unbabel-comet) (1.3.2)\n",
      "Requirement already satisfied: attrs>=17.3.0 in c:\\users\\201\\miniforge3\\envs\\pystudy\\lib\\site-packages (from aiohttp!=4.0.0a0,!=4.0.0a1->fsspec[http]>=2022.5.0->pytorch-lightning<3.0.0,>=2.0.0->unbabel-comet) (24.3.0)\n",
      "Requirement already satisfied: frozenlist>=1.1.1 in c:\\users\\201\\miniforge3\\envs\\pystudy\\lib\\site-packages (from aiohttp!=4.0.0a0,!=4.0.0a1->fsspec[http]>=2022.5.0->pytorch-lightning<3.0.0,>=2.0.0->unbabel-comet) (1.5.0)\n",
      "Requirement already satisfied: multidict<7.0,>=4.5 in c:\\users\\201\\miniforge3\\envs\\pystudy\\lib\\site-packages (from aiohttp!=4.0.0a0,!=4.0.0a1->fsspec[http]>=2022.5.0->pytorch-lightning<3.0.0,>=2.0.0->unbabel-comet) (6.1.0)\n",
      "Requirement already satisfied: propcache>=0.2.0 in c:\\users\\201\\miniforge3\\envs\\pystudy\\lib\\site-packages (from aiohttp!=4.0.0a0,!=4.0.0a1->fsspec[http]>=2022.5.0->pytorch-lightning<3.0.0,>=2.0.0->unbabel-comet) (0.2.1)\n",
      "Requirement already satisfied: yarl<2.0,>=1.17.0 in c:\\users\\201\\miniforge3\\envs\\pystudy\\lib\\site-packages (from aiohttp!=4.0.0a0,!=4.0.0a1->fsspec[http]>=2022.5.0->pytorch-lightning<3.0.0,>=2.0.0->unbabel-comet) (1.18.3)\n"
     ]
    }
   ],
   "source": [
    "!pip install langgraph\n",
    "!pip install langchain_community\n",
    "!pip install bert-score\n",
    "!pip install unbabel-comet"
   ]
  },
  {
   "cell_type": "code",
   "execution_count": 14,
   "metadata": {},
   "outputs": [],
   "source": [
    "import langchain\n",
    "import langgraph\n",
    "from langgraph.graph import StateGraph\n",
    "from langgraph.graph.message import add_messages\n",
    "from langchain.chat_models import ChatOpenAI\n",
    "from langchain.schema import SystemMessage, HumanMessage, AIMessage\n",
    "import torch\n",
    "from bert_score import score as bert_score\n",
    "from comet import download_model, load_from_checkpoint\n",
    "import os\n",
    "from langgraph.graph import StateGraph, START, END\n",
    "from typing_extensions import TypedDict\n",
    "from typing import Annotated\n",
    "from typing import TypedDict, List\n",
    "from huggingface_hub import login\n"
   ]
  },
  {
   "cell_type": "code",
   "execution_count": 15,
   "metadata": {},
   "outputs": [],
   "source": [
    "login(token= os.getenv(\"HUGGING_FACE_TOKEN\"))"
   ]
  },
  {
   "cell_type": "code",
   "execution_count": null,
   "metadata": {},
   "outputs": [
    {
     "data": {
      "application/vnd.jupyter.widget-view+json": {
       "model_id": "b8c7a2924ce74e8485ac83d0d6be8743",
       "version_major": 2,
       "version_minor": 0
      },
      "text/plain": [
       "Fetching 5 files:   0%|          | 0/5 [00:00<?, ?it/s]"
      ]
     },
     "metadata": {},
     "output_type": "display_data"
    },
    {
     "data": {
      "application/vnd.jupyter.widget-view+json": {
       "model_id": "73b90409e9534895a8add67d3a080e71",
       "version_major": 2,
       "version_minor": 0
      },
      "text/plain": [
       ".gitattributes:   0%|          | 0.00/1.48k [00:00<?, ?B/s]"
      ]
     },
     "metadata": {},
     "output_type": "display_data"
    },
    {
     "name": "stderr",
     "output_type": "stream",
     "text": [
      "c:\\Users\\201\\miniforge3\\envs\\pystudy\\Lib\\site-packages\\huggingface_hub\\file_download.py:140: UserWarning: `huggingface_hub` cache-system uses symlinks by default to efficiently store duplicated files but your machine does not support them in C:\\Users\\201\\.cache\\huggingface\\hub\\models--Unbabel--wmt22-cometkiwi-da. Caching files will still work but in a degraded version that might require more space on your disk. This warning can be disabled by setting the `HF_HUB_DISABLE_SYMLINKS_WARNING` environment variable. For more details, see https://huggingface.co/docs/huggingface_hub/how-to-cache#limitations.\n",
      "To support symlinks on Windows, you either need to activate Developer Mode or to run Python as an administrator. In order to activate developer mode, see this article: https://docs.microsoft.com/en-us/windows/apps/get-started/enable-your-device-for-development\n",
      "  warnings.warn(message)\n"
     ]
    },
    {
     "data": {
      "application/vnd.jupyter.widget-view+json": {
       "model_id": "1fbc2b7c22734587bdc11622c781b719",
       "version_major": 2,
       "version_minor": 0
      },
      "text/plain": [
       "model.ckpt:   0%|          | 0.00/2.26G [00:00<?, ?B/s]"
      ]
     },
     "metadata": {},
     "output_type": "display_data"
    },
    {
     "data": {
      "application/vnd.jupyter.widget-view+json": {
       "model_id": "feb0bae050ea44a4a755945147934415",
       "version_major": 2,
       "version_minor": 0
      },
      "text/plain": [
       "hparams.yaml:   0%|          | 0.00/710 [00:00<?, ?B/s]"
      ]
     },
     "metadata": {},
     "output_type": "display_data"
    },
    {
     "name": "stderr",
     "output_type": "stream",
     "text": [
      "Lightning automatically upgraded your loaded checkpoint from v1.8.2 to v2.5.0.post0. To apply the upgrade to your files permanently, run `python -m pytorch_lightning.utilities.upgrade_checkpoint C:\\Users\\201\\.cache\\huggingface\\hub\\models--Unbabel--wmt22-cometkiwi-da\\snapshots\\a79bfca292fc1689cbab6ef941ca6fc439f7195f\\checkpoints\\model.ckpt`\n"
     ]
    },
    {
     "data": {
      "application/vnd.jupyter.widget-view+json": {
       "model_id": "36615e29be064c0c8243a06e0879a6d4",
       "version_major": 2,
       "version_minor": 0
      },
      "text/plain": [
       "sentencepiece.bpe.model:   0%|          | 0.00/5.07M [00:00<?, ?B/s]"
      ]
     },
     "metadata": {},
     "output_type": "display_data"
    },
    {
     "name": "stderr",
     "output_type": "stream",
     "text": [
      "c:\\Users\\201\\miniforge3\\envs\\pystudy\\Lib\\site-packages\\huggingface_hub\\file_download.py:140: UserWarning: `huggingface_hub` cache-system uses symlinks by default to efficiently store duplicated files but your machine does not support them in C:\\Users\\201\\.cache\\huggingface\\hub\\models--microsoft--infoxlm-large. Caching files will still work but in a degraded version that might require more space on your disk. This warning can be disabled by setting the `HF_HUB_DISABLE_SYMLINKS_WARNING` environment variable. For more details, see https://huggingface.co/docs/huggingface_hub/how-to-cache#limitations.\n",
      "To support symlinks on Windows, you either need to activate Developer Mode or to run Python as an administrator. In order to activate developer mode, see this article: https://docs.microsoft.com/en-us/windows/apps/get-started/enable-your-device-for-development\n",
      "  warnings.warn(message)\n"
     ]
    },
    {
     "data": {
      "application/vnd.jupyter.widget-view+json": {
       "model_id": "2785d36ca1c4409095a36e7e02ed2061",
       "version_major": 2,
       "version_minor": 0
      },
      "text/plain": [
       "tokenizer.json:   0%|          | 0.00/9.10M [00:00<?, ?B/s]"
      ]
     },
     "metadata": {},
     "output_type": "display_data"
    },
    {
     "data": {
      "application/vnd.jupyter.widget-view+json": {
       "model_id": "a399ea7b0c6c4aa0b39997a8c6f9e36e",
       "version_major": 2,
       "version_minor": 0
      },
      "text/plain": [
       "config.json:   0%|          | 0.00/513 [00:00<?, ?B/s]"
      ]
     },
     "metadata": {},
     "output_type": "display_data"
    },
    {
     "name": "stderr",
     "output_type": "stream",
     "text": [
      "Encoder model frozen.\n",
      "c:\\Users\\201\\miniforge3\\envs\\pystudy\\Lib\\site-packages\\pytorch_lightning\\core\\saving.py:195: Found keys that are not in the model state dict but in the checkpoint: ['encoder.model.embeddings.position_ids']\n"
     ]
    }
   ],
   "source": [
    "model_path = download_model(\"Unbabel/wmt22-cometkiwi-da\")\n",
    "comet_model = load_from_checkpoint(model_path)"
   ]
  },
  {
   "cell_type": "code",
   "execution_count": 16,
   "metadata": {},
   "outputs": [],
   "source": [
    "class State(TypedDict):\n",
    "    messages: List[HumanMessage | AIMessage | SystemMessage]\n",
    "    originStr: str\n",
    "    translateStr: str \n",
    "    bert_score: float\n",
    "    comet_score: float"
   ]
  },
  {
   "cell_type": "code",
   "execution_count": 17,
   "metadata": {},
   "outputs": [],
   "source": [
    "# os.environ[\"OPENAI_API_KEY\"] = \"(발급받은 API 키)\"\n",
    "# OpenAI 모델 설정\n",
    "llm = ChatOpenAI(model_name=\"gpt-4o\", temperature=0, openai_api_key=os.getenv(\"OPENAI_API_KEY\"))"
   ]
  },
  {
   "cell_type": "code",
   "execution_count": 18,
   "metadata": {},
   "outputs": [],
   "source": [
    "def detect_intent(state: State) -> State:\n",
    "    \"\"\" 사용자의 의도를 확인하는 함수 \"\"\"\n",
    "    system_prompt = \"Is the user asking for a translation? Answer only 'yes' or 'no'.\"\n",
    "    user_message = state[\"messages\"][-1].content  # 마지막 메시지의 content만 추출\n",
    "    response = llm([SystemMessage(content=system_prompt), HumanMessage(content=user_message)])\n",
    "    print(\"Intent Check Response:\", response.content.strip())  # 응답 텍스트만 출력\n",
    "    intent = response.content.strip().lower() == \"yes\"\n",
    "    return {\"messages\": state[\"messages\"] + [AIMessage(content=response.content)], \"originStr\": state[\"originStr\"], \"translateStr\": state[\"translateStr\"], \"bert_score\": state[\"bert_score\"], \"comet_score\": state[\"comet_score\"]}"
   ]
  },
  {
   "cell_type": "code",
   "execution_count": 19,
   "metadata": {},
   "outputs": [],
   "source": [
    "def translate_text(state: State, target_language=\"ko\") -> State:\n",
    "    \"\"\" 텍스트를 번역하는 함수 \"\"\"\n",
    "    if \"yes\" in state[\"messages\"][-1].content.lower():\n",
    "        system_prompt = f\"Translate the following text into {target_language}:\"\n",
    "        user_message = state[\"messages\"][-2].content  # 원래 입력된 메시지\n",
    "        response = llm([SystemMessage(content=system_prompt), HumanMessage(content=user_message)])\n",
    "        print(\"Translation Response:\", response.content.strip())  # 응답 텍스트만 출력\n",
    "        return {\"messages\": state[\"messages\"] + [AIMessage(content=response.content)], \"originStr\": user_message, \"translateStr\": response.content, \"bert_score\": state[\"bert_score\"], \"comet_score\": state[\"comet_score\"]}\n",
    "    return state"
   ]
  },
  {
   "cell_type": "code",
   "execution_count": 20,
   "metadata": {},
   "outputs": [],
   "source": [
    "def evaluate_translation(state: State) -> State:\n",
    "    \"\"\" 번역 품질을 평가하는 함수 \"\"\"\n",
    "    source_text = state[\"originStr\"]  # 원본 문장\n",
    "    translated_text = state[\"translateStr\"]  # 번역된 문장\n",
    "    \n",
    "    # BERT Score 계산\n",
    "    P, R, F1 = bert_score([translated_text], [source_text], model_type=\"bert-base-multilingual-cased\", verbose=True)\n",
    "    bert_f1 = F1.mean().item()\n",
    "    \n",
    "    data = [{\"src\": source_text, \"mt\": translated_text}]\n",
    "    comet_score = comet_model.predict(data, batch_size=1, gpus=1)[\"scores\"][0]\n",
    "    \n",
    "    print(\"BERT Score F1:\", bert_f1)\n",
    "    print(\"COMET Score:\", comet_score)\n",
    "    \n",
    "    return {\"messages\": state[\"messages\"], \"originStr\": state[\"originStr\"], \"translateStr\": state[\"translateStr\"], \"bert_score\": bert_f1, \"comet_score\": comet_score}"
   ]
  },
  {
   "cell_type": "code",
   "execution_count": 21,
   "metadata": {},
   "outputs": [],
   "source": [
    "def condition_intent(state: State) -> str:\n",
    "    return \"translate\" if \"yes\" in state[\"messages\"][-1].content.lower() else END"
   ]
  },
  {
   "cell_type": "code",
   "execution_count": 22,
   "metadata": {},
   "outputs": [],
   "source": [
    "# LangGraph Workflow\n",
    "graph_builder = StateGraph(State)\n",
    "graph_builder.add_node(\"intent_check\", detect_intent)\n",
    "graph_builder.add_node(\"translate\", translate_text)\n",
    "graph_builder.add_node(\"evaluate\", evaluate_translation)\n",
    "\n",
    "graph_builder.add_edge(START, \"intent_check\")\n",
    "graph_builder.add_conditional_edges(\"intent_check\", condition_intent)\n",
    "graph_builder.add_edge(\"translate\", \"evaluate\")\n",
    "graph_builder.add_edge(\"evaluate\", END)\n",
    "graph = graph_builder.compile()"
   ]
  },
  {
   "cell_type": "code",
   "execution_count": 23,
   "metadata": {},
   "outputs": [
    {
     "data": {
      "image/png": "[encoded data removed]",
      "text/plain": [
       "<IPython.core.display.Image object>"
      ]
     },
     "metadata": {},
     "output_type": "display_data"
    }
   ],
   "source": [
    "from IPython.display import Image, display\n",
    "\n",
    "display(Image(graph.get_graph(xray=True).draw_mermaid_png()))"
   ]
  },
  {
   "cell_type": "code",
   "execution_count": 24,
   "metadata": {},
   "outputs": [
    {
     "name": "stderr",
     "output_type": "stream",
     "text": [
      "C:\\Users\\201\\AppData\\Local\\Temp\\ipykernel_17056\\2589415609.py:5: LangChainDeprecationWarning: The method `BaseChatModel.__call__` was deprecated in langchain-core 0.1.7 and will be removed in 1.0. Use :meth:`~invoke` instead.\n",
      "  response = llm([SystemMessage(content=system_prompt), HumanMessage(content=user_message)])\n"
     ]
    },
    {
     "name": "stdout",
     "output_type": "stream",
     "text": [
      "Intent Check Response: yes\n",
      "Translation Response: The soy sauce factory manager is Manager Kang, and the soybean paste factory manager is Manager Jang.\n"
     ]
    },
    {
     "data": {
      "application/vnd.jupyter.widget-view+json": {
       "model_id": "af4ba36c65f945c194579a9d8caa3d42",
       "version_major": 2,
       "version_minor": 0
      },
      "text/plain": [
       "tokenizer_config.json:   0%|          | 0.00/49.0 [00:00<?, ?B/s]"
      ]
     },
     "metadata": {},
     "output_type": "display_data"
    },
    {
     "name": "stderr",
     "output_type": "stream",
     "text": [
      "c:\\Users\\201\\miniforge3\\envs\\pystudy\\Lib\\site-packages\\huggingface_hub\\file_download.py:140: UserWarning: `huggingface_hub` cache-system uses symlinks by default to efficiently store duplicated files but your machine does not support them in C:\\Users\\201\\.cache\\huggingface\\hub\\models--bert-base-multilingual-cased. Caching files will still work but in a degraded version that might require more space on your disk. This warning can be disabled by setting the `HF_HUB_DISABLE_SYMLINKS_WARNING` environment variable. For more details, see https://huggingface.co/docs/huggingface_hub/how-to-cache#limitations.\n",
      "To support symlinks on Windows, you either need to activate Developer Mode or to run Python as an administrator. In order to activate developer mode, see this article: https://docs.microsoft.com/en-us/windows/apps/get-started/enable-your-device-for-development\n",
      "  warnings.warn(message)\n"
     ]
    },
    {
     "data": {
      "application/vnd.jupyter.widget-view+json": {
       "model_id": "9b1ee10fbefc4f638531e9a0d91c4746",
       "version_major": 2,
       "version_minor": 0
      },
      "text/plain": [
       "config.json:   0%|          | 0.00/625 [00:00<?, ?B/s]"
      ]
     },
     "metadata": {},
     "output_type": "display_data"
    },
    {
     "data": {
      "application/vnd.jupyter.widget-view+json": {
       "model_id": "dd1a30b95253420db36416f7b76e229b",
       "version_major": 2,
       "version_minor": 0
      },
      "text/plain": [
       "vocab.txt:   0%|          | 0.00/996k [00:00<?, ?B/s]"
      ]
     },
     "metadata": {},
     "output_type": "display_data"
    },
    {
     "data": {
      "application/vnd.jupyter.widget-view+json": {
       "model_id": "e0cb713e1c894897ae194866b013fae0",
       "version_major": 2,
       "version_minor": 0
      },
      "text/plain": [
       "tokenizer.json:   0%|          | 0.00/1.96M [00:00<?, ?B/s]"
      ]
     },
     "metadata": {},
     "output_type": "display_data"
    },
    {
     "data": {
      "application/vnd.jupyter.widget-view+json": {
       "model_id": "b1643ab091bc406b93235f0d174541ef",
       "version_major": 2,
       "version_minor": 0
      },
      "text/plain": [
       "model.safetensors:   0%|          | 0.00/714M [00:00<?, ?B/s]"
      ]
     },
     "metadata": {},
     "output_type": "display_data"
    },
    {
     "name": "stdout",
     "output_type": "stream",
     "text": [
      "calculating scores...\n",
      "computing bert embedding.\n"
     ]
    },
    {
     "data": {
      "application/vnd.jupyter.widget-view+json": {
       "model_id": "578ededff623475f8c509ee755a73d84",
       "version_major": 2,
       "version_minor": 0
      },
      "text/plain": [
       "  0%|          | 0/1 [00:00<?, ?it/s]"
      ]
     },
     "metadata": {},
     "output_type": "display_data"
    },
    {
     "name": "stdout",
     "output_type": "stream",
     "text": [
      "computing greedy matching.\n"
     ]
    },
    {
     "data": {
      "application/vnd.jupyter.widget-view+json": {
       "model_id": "5510b6c5775b4c11bb32caa557fd1fbb",
       "version_major": 2,
       "version_minor": 0
      },
      "text/plain": [
       "  0%|          | 0/1 [00:00<?, ?it/s]"
      ]
     },
     "metadata": {},
     "output_type": "display_data"
    },
    {
     "name": "stdout",
     "output_type": "stream",
     "text": [
      "done in 0.85 seconds, 1.17 sentences/sec\n"
     ]
    },
    {
     "name": "stderr",
     "output_type": "stream",
     "text": [
      "GPU available: True (cuda), used: True\n",
      "TPU available: False, using: 0 TPU cores\n",
      "HPU available: False, using: 0 HPUs\n",
      "You are using a CUDA device ('NVIDIA GeForce RTX 3050') that has Tensor Cores. To properly utilize them, you should set `torch.set_float32_matmul_precision('medium' | 'high')` which will trade-off precision for performance. For more details, read https://pytorch.org/docs/stable/generated/torch.set_float32_matmul_precision.html#torch.set_float32_matmul_precision\n",
      "LOCAL_RANK: 0 - CUDA_VISIBLE_DEVICES: [0]\n",
      "Predicting DataLoader 0: 100%|██████████| 1/1 [00:00<00:00, 14.02it/s]\n"
     ]
    },
    {
     "name": "stdout",
     "output_type": "stream",
     "text": [
      "BERT Score F1: 0.6322697997093201\n",
      "COMET Score: 0.7358988523483276\n",
      "Final Result: The soy sauce factory manager is Manager Kang, and the soybean paste factory manager is Manager Jang.\n"
     ]
    }
   ],
   "source": [
    "# 실행 예제\n",
    "input_text = \"다음을 영어로 번역해줄래? '간장 공장 공장장은 강 공장장이고 된장 공장 공장장은 장 공장장이다.'\"\n",
    "initial_state = {\"messages\": [HumanMessage(content=input_text)], \"originStr\": \"\", \"translateStr\": \"\", \"bert_score\": 0.0, \"comet_score\": 0.0}\n",
    "result = graph.invoke(initial_state)\n",
    "print(\"Final Result:\", result[\"messages\"][-1].content)\n"
   ]
  },
  {
   "cell_type": "code",
   "execution_count": 25,
   "metadata": {},
   "outputs": [
    {
     "data": {
      "text/plain": [
       "{'messages': [HumanMessage(content=\"다음을 영어로 번역해줄래? '간장 공장 공장장은 강 공장장이고 된장 공장 공장장은 장 공장장이다.'\", additional_kwargs={}, response_metadata={}),\n",
       "  AIMessage(content='yes', additional_kwargs={}, response_metadata={}),\n",
       "  AIMessage(content='The soy sauce factory manager is Manager Kang, and the soybean paste factory manager is Manager Jang.', additional_kwargs={}, response_metadata={})],\n",
       " 'originStr': \"다음을 영어로 번역해줄래? '간장 공장 공장장은 강 공장장이고 된장 공장 공장장은 장 공장장이다.'\",\n",
       " 'translateStr': 'The soy sauce factory manager is Manager Kang, and the soybean paste factory manager is Manager Jang.',\n",
       " 'bert_score': 0.6322697997093201,\n",
       " 'comet_score': 0.7358988523483276}"
      ]
     },
     "execution_count": 25,
     "metadata": {},
     "output_type": "execute_result"
    }
   ],
   "source": [
    "result"
   ]
  }
 ],
 "metadata": {
  "kernelspec": {
   "display_name": "pystudy",
   "language": "python",
   "name": "python3"
  },
  "language_info": {
   "codemirror_mode": {
    "name": "ipython",
    "version": 3
   },
   "file_extension": ".py",
   "mimetype": "text/x-python",
   "name": "python",
   "nbconvert_exporter": "python",
   "pygments_lexer": "ipython3",
   "version": "3.12.8"
  }
 },
 "nbformat": 4,
 "nbformat_minor": 2
}
