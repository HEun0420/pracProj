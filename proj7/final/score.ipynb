{
 "cells": [
  {
   "cell_type": "code",
   "execution_count": 2,
   "metadata": {},
   "outputs": [
    {
     "name": "stdout",
     "output_type": "stream",
     "text": [
      "Requirement already satisfied: bert-score in c:\\users\\201\\miniforge3\\envs\\pystudy\\lib\\site-packages (0.3.13)\n",
      "Requirement already satisfied: comet-ml in c:\\users\\201\\miniforge3\\envs\\pystudy\\lib\\site-packages (3.49.0)\n",
      "Requirement already satisfied: torch>=1.0.0 in c:\\users\\201\\miniforge3\\envs\\pystudy\\lib\\site-packages (from bert-score) (2.5.1+cu124)\n",
      "Requirement already satisfied: pandas>=1.0.1 in c:\\users\\201\\miniforge3\\envs\\pystudy\\lib\\site-packages (from bert-score) (2.2.3)\n",
      "Requirement already satisfied: transformers>=3.0.0 in c:\\users\\201\\miniforge3\\envs\\pystudy\\lib\\site-packages (from bert-score) (4.47.1)\n",
      "Requirement already satisfied: numpy in c:\\users\\201\\miniforge3\\envs\\pystudy\\lib\\site-packages (from bert-score) (1.26.4)\n",
      "Requirement already satisfied: requests in c:\\users\\201\\miniforge3\\envs\\pystudy\\lib\\site-packages (from bert-score) (2.32.3)\n",
      "Requirement already satisfied: tqdm>=4.31.1 in c:\\users\\201\\miniforge3\\envs\\pystudy\\lib\\site-packages (from bert-score) (4.67.1)\n",
      "Requirement already satisfied: matplotlib in c:\\users\\201\\miniforge3\\envs\\pystudy\\lib\\site-packages (from bert-score) (3.10.0)\n",
      "Requirement already satisfied: packaging>=20.9 in c:\\users\\201\\miniforge3\\envs\\pystudy\\lib\\site-packages (from bert-score) (24.2)\n",
      "Requirement already satisfied: everett<3.2.0,>=1.0.1 in c:\\users\\201\\miniforge3\\envs\\pystudy\\lib\\site-packages (from everett[ini]<3.2.0,>=1.0.1->comet-ml) (3.1.0)\n",
      "Requirement already satisfied: jsonschema!=3.1.0,>=2.6.0 in c:\\users\\201\\miniforge3\\envs\\pystudy\\lib\\site-packages (from comet-ml) (4.23.0)\n",
      "Requirement already satisfied: psutil>=5.6.3 in c:\\users\\201\\miniforge3\\envs\\pystudy\\lib\\site-packages (from comet-ml) (6.1.1)\n",
      "Requirement already satisfied: python-box<7.0.0 in c:\\users\\201\\miniforge3\\envs\\pystudy\\lib\\site-packages (from comet-ml) (6.1.0)\n",
      "Requirement already satisfied: requests-toolbelt>=0.8.0 in c:\\users\\201\\miniforge3\\envs\\pystudy\\lib\\site-packages (from comet-ml) (1.0.0)\n",
      "Requirement already satisfied: semantic-version>=2.8.0 in c:\\users\\201\\miniforge3\\envs\\pystudy\\lib\\site-packages (from comet-ml) (2.10.0)\n",
      "Requirement already satisfied: sentry-sdk>=1.1.0 in c:\\users\\201\\miniforge3\\envs\\pystudy\\lib\\site-packages (from comet-ml) (2.21.0)\n",
      "Requirement already satisfied: simplejson in c:\\users\\201\\miniforge3\\envs\\pystudy\\lib\\site-packages (from comet-ml) (3.19.3)\n",
      "Requirement already satisfied: urllib3>=1.21.1 in c:\\users\\201\\miniforge3\\envs\\pystudy\\lib\\site-packages (from comet-ml) (2.3.0)\n",
      "Requirement already satisfied: wrapt>=1.11.2 in c:\\users\\201\\miniforge3\\envs\\pystudy\\lib\\site-packages (from comet-ml) (1.17.1)\n",
      "Requirement already satisfied: wurlitzer>=1.0.2 in c:\\users\\201\\miniforge3\\envs\\pystudy\\lib\\site-packages (from comet-ml) (3.1.1)\n",
      "Requirement already satisfied: dulwich!=0.20.33,>=0.20.6 in c:\\users\\201\\miniforge3\\envs\\pystudy\\lib\\site-packages (from comet-ml) (0.22.7)\n",
      "Requirement already satisfied: setuptools in c:\\users\\201\\miniforge3\\envs\\pystudy\\lib\\site-packages (from comet-ml) (75.6.0)\n",
      "Requirement already satisfied: rich>=13.3.2 in c:\\users\\201\\miniforge3\\envs\\pystudy\\lib\\site-packages (from comet-ml) (13.9.4)\n",
      "Requirement already satisfied: configobj in c:\\users\\201\\miniforge3\\envs\\pystudy\\lib\\site-packages (from everett[ini]<3.2.0,>=1.0.1->comet-ml) (5.0.9)\n",
      "Requirement already satisfied: attrs>=22.2.0 in c:\\users\\201\\miniforge3\\envs\\pystudy\\lib\\site-packages (from jsonschema!=3.1.0,>=2.6.0->comet-ml) (24.3.0)\n",
      "Requirement already satisfied: jsonschema-specifications>=2023.03.6 in c:\\users\\201\\miniforge3\\envs\\pystudy\\lib\\site-packages (from jsonschema!=3.1.0,>=2.6.0->comet-ml) (2024.10.1)\n",
      "Requirement already satisfied: referencing>=0.28.4 in c:\\users\\201\\miniforge3\\envs\\pystudy\\lib\\site-packages (from jsonschema!=3.1.0,>=2.6.0->comet-ml) (0.36.2)\n",
      "Requirement already satisfied: rpds-py>=0.7.1 in c:\\users\\201\\miniforge3\\envs\\pystudy\\lib\\site-packages (from jsonschema!=3.1.0,>=2.6.0->comet-ml) (0.22.3)\n",
      "Requirement already satisfied: python-dateutil>=2.8.2 in c:\\users\\201\\miniforge3\\envs\\pystudy\\lib\\site-packages (from pandas>=1.0.1->bert-score) (2.9.0.post0)\n",
      "Requirement already satisfied: pytz>=2020.1 in c:\\users\\201\\miniforge3\\envs\\pystudy\\lib\\site-packages (from pandas>=1.0.1->bert-score) (2024.2)\n",
      "Requirement already satisfied: tzdata>=2022.7 in c:\\users\\201\\miniforge3\\envs\\pystudy\\lib\\site-packages (from pandas>=1.0.1->bert-score) (2024.2)\n",
      "Requirement already satisfied: charset-normalizer<4,>=2 in c:\\users\\201\\miniforge3\\envs\\pystudy\\lib\\site-packages (from requests->bert-score) (3.4.1)\n",
      "Requirement already satisfied: idna<4,>=2.5 in c:\\users\\201\\miniforge3\\envs\\pystudy\\lib\\site-packages (from requests->bert-score) (3.10)\n",
      "Requirement already satisfied: certifi>=2017.4.17 in c:\\users\\201\\miniforge3\\envs\\pystudy\\lib\\site-packages (from requests->bert-score) (2024.12.14)\n",
      "Requirement already satisfied: markdown-it-py>=2.2.0 in c:\\users\\201\\miniforge3\\envs\\pystudy\\lib\\site-packages (from rich>=13.3.2->comet-ml) (3.0.0)\n",
      "Requirement already satisfied: pygments<3.0.0,>=2.13.0 in c:\\users\\201\\miniforge3\\envs\\pystudy\\lib\\site-packages (from rich>=13.3.2->comet-ml) (2.18.0)\n",
      "Requirement already satisfied: filelock in c:\\users\\201\\miniforge3\\envs\\pystudy\\lib\\site-packages (from torch>=1.0.0->bert-score) (3.16.1)\n",
      "Requirement already satisfied: typing-extensions>=4.8.0 in c:\\users\\201\\miniforge3\\envs\\pystudy\\lib\\site-packages (from torch>=1.0.0->bert-score) (4.12.2)\n",
      "Requirement already satisfied: networkx in c:\\users\\201\\miniforge3\\envs\\pystudy\\lib\\site-packages (from torch>=1.0.0->bert-score) (3.4.2)\n",
      "Requirement already satisfied: jinja2 in c:\\users\\201\\miniforge3\\envs\\pystudy\\lib\\site-packages (from torch>=1.0.0->bert-score) (3.1.5)\n",
      "Requirement already satisfied: fsspec in c:\\users\\201\\miniforge3\\envs\\pystudy\\lib\\site-packages (from torch>=1.0.0->bert-score) (2024.9.0)\n",
      "Requirement already satisfied: sympy==1.13.1 in c:\\users\\201\\miniforge3\\envs\\pystudy\\lib\\site-packages (from torch>=1.0.0->bert-score) (1.13.1)\n",
      "Requirement already satisfied: mpmath<1.4,>=1.1.0 in c:\\users\\201\\miniforge3\\envs\\pystudy\\lib\\site-packages (from sympy==1.13.1->torch>=1.0.0->bert-score) (1.3.0)\n",
      "Requirement already satisfied: colorama in c:\\users\\201\\miniforge3\\envs\\pystudy\\lib\\site-packages (from tqdm>=4.31.1->bert-score) (0.4.6)\n",
      "Requirement already satisfied: huggingface-hub<1.0,>=0.24.0 in c:\\users\\201\\miniforge3\\envs\\pystudy\\lib\\site-packages (from transformers>=3.0.0->bert-score) (0.27.0)\n",
      "Requirement already satisfied: pyyaml>=5.1 in c:\\users\\201\\miniforge3\\envs\\pystudy\\lib\\site-packages (from transformers>=3.0.0->bert-score) (6.0.2)\n",
      "Requirement already satisfied: regex!=2019.12.17 in c:\\users\\201\\miniforge3\\envs\\pystudy\\lib\\site-packages (from transformers>=3.0.0->bert-score) (2024.11.6)\n",
      "Requirement already satisfied: tokenizers<0.22,>=0.21 in c:\\users\\201\\miniforge3\\envs\\pystudy\\lib\\site-packages (from transformers>=3.0.0->bert-score) (0.21.0)\n",
      "Requirement already satisfied: safetensors>=0.4.1 in c:\\users\\201\\miniforge3\\envs\\pystudy\\lib\\site-packages (from transformers>=3.0.0->bert-score) (0.4.5)\n",
      "Requirement already satisfied: contourpy>=1.0.1 in c:\\users\\201\\miniforge3\\envs\\pystudy\\lib\\site-packages (from matplotlib->bert-score) (1.3.1)\n",
      "Requirement already satisfied: cycler>=0.10 in c:\\users\\201\\miniforge3\\envs\\pystudy\\lib\\site-packages (from matplotlib->bert-score) (0.12.1)\n",
      "Requirement already satisfied: fonttools>=4.22.0 in c:\\users\\201\\miniforge3\\envs\\pystudy\\lib\\site-packages (from matplotlib->bert-score) (4.55.3)\n",
      "Requirement already satisfied: kiwisolver>=1.3.1 in c:\\users\\201\\miniforge3\\envs\\pystudy\\lib\\site-packages (from matplotlib->bert-score) (1.4.8)\n",
      "Requirement already satisfied: pillow>=8 in c:\\users\\201\\miniforge3\\envs\\pystudy\\lib\\site-packages (from matplotlib->bert-score) (11.0.0)\n",
      "Requirement already satisfied: pyparsing>=2.3.1 in c:\\users\\201\\miniforge3\\envs\\pystudy\\lib\\site-packages (from matplotlib->bert-score) (3.2.0)\n",
      "Requirement already satisfied: mdurl~=0.1 in c:\\users\\201\\miniforge3\\envs\\pystudy\\lib\\site-packages (from markdown-it-py>=2.2.0->rich>=13.3.2->comet-ml) (0.1.2)\n",
      "Requirement already satisfied: six>=1.5 in c:\\users\\201\\miniforge3\\envs\\pystudy\\lib\\site-packages (from python-dateutil>=2.8.2->pandas>=1.0.1->bert-score) (1.17.0)\n",
      "Requirement already satisfied: MarkupSafe>=2.0 in c:\\users\\201\\miniforge3\\envs\\pystudy\\lib\\site-packages (from jinja2->torch>=1.0.0->bert-score) (3.0.2)\n"
     ]
    }
   ],
   "source": [
    "!pip install bert-score comet-ml"
   ]
  },
  {
   "cell_type": "code",
   "execution_count": 3,
   "metadata": {},
   "outputs": [
    {
     "name": "stdout",
     "output_type": "stream",
     "text": [
      "Requirement already satisfied: ace_tools in c:\\users\\201\\miniforge3\\envs\\pystudy\\lib\\site-packages (0.0)\n"
     ]
    }
   ],
   "source": [
    "!pip install ace_tools"
   ]
  },
  {
   "cell_type": "code",
   "execution_count": 4,
   "metadata": {},
   "outputs": [],
   "source": [
    "import pandas as pd\n",
    "import json\n",
    "from bert_score import score as bert_score\n",
    "from comet import download_model, load_from_checkpoint\n",
    "\n",
    "# ✅ 파일 경로 설정\n",
    "TEST_RESULTS_PATH = \"test_results.csv\"\n",
    "EVAL_RESULTS_PATH = \"evaluation_results.csv\"\n",
    "\n",
    "# ✅ 저장된 번역 결과 로드\n",
    "df_results = pd.read_csv(TEST_RESULTS_PATH)\n",
    "\n",
    "# ✅ NaN 값 처리 (빈 값을 문자열로 변환)\n",
    "df_results[\"generated_output\"] = df_results[\"generated_output\"].fillna(\"\").astype(str)\n",
    "df_results[\"expected_output\"] = df_results[\"expected_output\"].fillna(\"\").astype(str)\n"
   ]
  },
  {
   "cell_type": "code",
   "execution_count": 5,
   "metadata": {},
   "outputs": [],
   "source": [
    "# ✅ 언어 코드 매핑 (자동 감지)\n",
    "LANG_CODE_MAP = {\n",
    "    \"KO\": \"ko\",\n",
    "    \"EN\": \"en\",\n",
    "    \"JPN\": \"ja\"\n",
    "}"
   ]
  },
  {
   "cell_type": "code",
   "execution_count": 6,
   "metadata": {},
   "outputs": [
    {
     "name": "stdout",
     "output_type": "stream",
     "text": [
      "\n",
      "🔍 BERTScore 평가 진행 중...\n",
      "calculating scores...\n",
      "computing bert embedding.\n"
     ]
    },
    {
     "data": {
      "application/vnd.jupyter.widget-view+json": {
       "model_id": "055e28560c4c4c4eb4e9104fdac93152",
       "version_major": 2,
       "version_minor": 0
      },
      "text/plain": [
       "  0%|          | 0/152 [00:00<?, ?it/s]"
      ]
     },
     "metadata": {},
     "output_type": "display_data"
    },
    {
     "name": "stdout",
     "output_type": "stream",
     "text": [
      "computing greedy matching.\n"
     ]
    },
    {
     "data": {
      "application/vnd.jupyter.widget-view+json": {
       "model_id": "aadc1a58a318446ea2a1fa35170f7c80",
       "version_major": 2,
       "version_minor": 0
      },
      "text/plain": [
       "  0%|          | 0/85 [00:00<?, ?it/s]"
      ]
     },
     "metadata": {},
     "output_type": "display_data"
    },
    {
     "name": "stdout",
     "output_type": "stream",
     "text": [
      "done in 24.41 seconds, 221.89 sentences/sec\n",
      "✅ BERTScore 평가 완료! (사용된 언어 코드: ko)\n"
     ]
    }
   ],
   "source": [
    "# ✅ BERTScore 평가 함수\n",
    "def compute_bertscore(df, lang_code):\n",
    "    if df.empty:\n",
    "        return None, None, None\n",
    "\n",
    "    P, R, F1 = bert_score(\n",
    "        df[\"generated_output\"].tolist(),\n",
    "        df[\"expected_output\"].tolist(),\n",
    "        lang=lang_code,\n",
    "        verbose=True\n",
    "    )\n",
    "    return P, R, F1\n",
    "\n",
    "# ✅ BERTScore 평가 수행\n",
    "print(\"\\n🔍 BERTScore 평가 진행 중...\")\n",
    "target_lang = df_results[\"target_language\"].iloc[0]  # 첫 번째 샘플 기준으로 언어 감지\n",
    "lang_code = LANG_CODE_MAP.get(target_lang, \"en\")  # 기본값 EN\n",
    "P, R, F1 = compute_bertscore(df_results, lang_code=lang_code)\n",
    "\n",
    "# ✅ 평가 점수 DataFrame에 추가\n",
    "df_results[\"BERTScore_P\"] = P\n",
    "df_results[\"BERTScore_R\"] = R\n",
    "df_results[\"BERTScore_F1\"] = F1\n",
    "\n",
    "print(f\"✅ BERTScore 평가 완료! (사용된 언어 코드: {lang_code})\")"
   ]
  },
  {
   "cell_type": "code",
   "execution_count": 7,
   "metadata": {},
   "outputs": [
    {
     "name": "stdout",
     "output_type": "stream",
     "text": [
      "\n",
      "🔍 COMET 평가 모델 로드 중...\n"
     ]
    },
    {
     "data": {
      "application/vnd.jupyter.widget-view+json": {
       "model_id": "0029cb4f52ee4ca89a6ba4cc44d52b10",
       "version_major": 2,
       "version_minor": 0
      },
      "text/plain": [
       "Fetching 5 files:   0%|          | 0/5 [00:00<?, ?it/s]"
      ]
     },
     "metadata": {},
     "output_type": "display_data"
    },
    {
     "name": "stderr",
     "output_type": "stream",
     "text": [
      "Lightning automatically upgraded your loaded checkpoint from v1.8.2 to v2.5.0.post0. To apply the upgrade to your files permanently, run `python -m pytorch_lightning.utilities.upgrade_checkpoint C:\\Users\\201\\.cache\\huggingface\\hub\\models--Unbabel--wmt22-cometkiwi-da\\snapshots\\a79bfca292fc1689cbab6ef941ca6fc439f7195f\\checkpoints\\model.ckpt`\n",
      "Encoder model frozen.\n",
      "c:\\Users\\201\\miniforge3\\envs\\pystudy\\Lib\\site-packages\\pytorch_lightning\\core\\saving.py:195: Found keys that are not in the model state dict but in the checkpoint: ['encoder.model.embeddings.position_ids']\n",
      "GPU available: True (cuda), used: True\n",
      "TPU available: False, using: 0 TPU cores\n",
      "HPU available: False, using: 0 HPUs\n",
      "You are using a CUDA device ('NVIDIA GeForce RTX 3050') that has Tensor Cores. To properly utilize them, you should set `torch.set_float32_matmul_precision('medium' | 'high')` which will trade-off precision for performance. For more details, read https://pytorch.org/docs/stable/generated/torch.set_float32_matmul_precision.html#torch.set_float32_matmul_precision\n",
      "LOCAL_RANK: 0 - CUDA_VISIBLE_DEVICES: [0]\n"
     ]
    },
    {
     "name": "stdout",
     "output_type": "stream",
     "text": [
      "\n",
      "🔍 COMET 평가 진행 중...\n"
     ]
    },
    {
     "name": "stderr",
     "output_type": "stream",
     "text": [
      "Predicting DataLoader 0: 100%|██████████| 677/677 [00:57<00:00, 11.82it/s]\n"
     ]
    },
    {
     "name": "stdout",
     "output_type": "stream",
     "text": [
      "✅ COMET 평가 완료!\n",
      "\n",
      "✅ 평가 결과가 저장되었습니다: evaluation_results.csv\n"
     ]
    }
   ],
   "source": [
    "# ✅ COMET 모델 로드\n",
    "print(\"\\n🔍 COMET 평가 모델 로드 중...\")\n",
    "comet_model_path = download_model(\"Unbabel/wmt22-cometkiwi-da\")\n",
    "comet_model = load_from_checkpoint(comet_model_path)\n",
    "\n",
    "# ✅ COMET 평가 함수\n",
    "def compute_comet(df):\n",
    "    if df.empty:\n",
    "        return None\n",
    "\n",
    "    data = [\n",
    "        {\"src\": inp, \"mt\": gen, \"ref\": ref}\n",
    "        for inp, gen, ref in zip(df[\"input\"], df[\"generated_output\"], df[\"expected_output\"])\n",
    "    ]\n",
    "    scores = comet_model.predict(data, batch_size=8, gpus=1)[\"scores\"]\n",
    "    return scores\n",
    "\n",
    "# ✅ COMET 평가 수행\n",
    "print(\"\\n🔍 COMET 평가 진행 중...\")\n",
    "df_results[\"COMET\"] = compute_comet(df_results)\n",
    "print(\"✅ COMET 평가 완료!\")\n",
    "\n",
    "# ✅ 기존 형식 유지하면서 평가 점수 추가하여 저장\n",
    "df_results.to_csv(EVAL_RESULTS_PATH, index=False, encoding=\"utf-8-sig\")\n",
    "print(f\"\\n✅ 평가 결과가 저장되었습니다: {EVAL_RESULTS_PATH}\")"
   ]
  },
  {
   "cell_type": "code",
   "execution_count": 9,
   "metadata": {},
   "outputs": [
    {
     "name": "stdout",
     "output_type": "stream",
     "text": [
      "\n",
      "📊 번역 평가 결과 요약 📊\n",
      "🔹 평균 BERTScore (Precision): 0.8977\n",
      "🔹 평균 BERTScore (Recall): 0.8955\n",
      "🔹 평균 BERTScore (F1 Score): 0.8965\n",
      "🔹 평균 COMET 점수: 0.8275\n"
     ]
    },
    {
     "data": {
      "text/html": [
       "<div>\n",
       "<style scoped>\n",
       "    .dataframe tbody tr th:only-of-type {\n",
       "        vertical-align: middle;\n",
       "    }\n",
       "\n",
       "    .dataframe tbody tr th {\n",
       "        vertical-align: top;\n",
       "    }\n",
       "\n",
       "    .dataframe thead th {\n",
       "        text-align: right;\n",
       "    }\n",
       "</style>\n",
       "<table border=\"1\" class=\"dataframe\">\n",
       "  <thead>\n",
       "    <tr style=\"text-align: right;\">\n",
       "      <th></th>\n",
       "      <th>input</th>\n",
       "      <th>expected_output</th>\n",
       "      <th>generated_output</th>\n",
       "      <th>target_language</th>\n",
       "      <th>glossary</th>\n",
       "      <th>BERTScore_P</th>\n",
       "      <th>BERTScore_R</th>\n",
       "      <th>BERTScore_F1</th>\n",
       "      <th>COMET</th>\n",
       "    </tr>\n",
       "  </thead>\n",
       "  <tbody>\n",
       "    <tr>\n",
       "      <th>0</th>\n",
       "      <td>I decided to take a walk with my friends at Gu...</td>\n",
       "      <td>구봉산 근린공원에서 친구들과 산책을 하기로 했어요.</td>\n",
       "      <td>구봉산 근린공원에서 친구들과 함께 산책을 하기로 했어요.</td>\n",
       "      <td>KO</td>\n",
       "      <td>{'ENG': 'Gubongsan Neighborhood Park', 'JPN': ...</td>\n",
       "      <td>0.981155</td>\n",
       "      <td>0.988651</td>\n",
       "      <td>0.984889</td>\n",
       "      <td>0.895836</td>\n",
       "    </tr>\n",
       "    <tr>\n",
       "      <th>1</th>\n",
       "      <td>원적산의 경치는 정말 아름다워요.</td>\n",
       "      <td>The scenery of Wonjeok Mountain is truly beaut...</td>\n",
       "      <td>The scenery of Wonjeok Mountain is truly beaut...</td>\n",
       "      <td>ENG</td>\n",
       "      <td>{'ENG': 'Wonjeok Mountain', 'JPN': '原積算', 'KO'...</td>\n",
       "      <td>1.000000</td>\n",
       "      <td>1.000000</td>\n",
       "      <td>1.000000</td>\n",
       "      <td>0.832988</td>\n",
       "    </tr>\n",
       "    <tr>\n",
       "      <th>2</th>\n",
       "      <td>The movie filmed at the Iksan Prison Film Set ...</td>\n",
       "      <td>익산 교도소 세트장에서 촬영한 영화가 큰 인기를 끌고 있다.</td>\n",
       "      <td>익산 교도소 세트장을 사용한 영화는 많은 인기를 끌고 있다.</td>\n",
       "      <td>KO</td>\n",
       "      <td>{'ENG': 'Iksan Prison Film Set', 'JPN': '益山刑務所...</td>\n",
       "      <td>0.930290</td>\n",
       "      <td>0.920392</td>\n",
       "      <td>0.925315</td>\n",
       "      <td>0.886820</td>\n",
       "    </tr>\n",
       "    <tr>\n",
       "      <th>3</th>\n",
       "      <td>여러분, 한국의 매력적인 음식 문화 속에서 '오징어두루치기'를 통해 신선한 해산물과...</td>\n",
       "      <td>皆さん、韓国の魅力的な食文化の中で「イカの野菜炒め」を通じて新鮮な海鮮と辛い調味料が調和した...</td>\n",
       "      <td>皆さん、韓国の魅力的な食文化の中で「イカの野菜炒め」を通じて、新鮮な海産物と辛いコチュジャン...</td>\n",
       "      <td>JPN</td>\n",
       "      <td>{'ENG': 'Stir-fried Squid', 'JPN': 'イカの野菜炒め', ...</td>\n",
       "      <td>0.950356</td>\n",
       "      <td>0.972483</td>\n",
       "      <td>0.961292</td>\n",
       "      <td>0.747779</td>\n",
       "    </tr>\n",
       "    <tr>\n",
       "      <th>4</th>\n",
       "      <td>고석정 꽃밭은 아름다운 자연경관과 다채로운 꽃들이 어우러져 여행자 여러분을 환상적인...</td>\n",
       "      <td>Goseokjeong Flower Garden is a place that invi...</td>\n",
       "      <td>Goseokjeong Flower Garden is a destination tha...</td>\n",
       "      <td>ENG</td>\n",
       "      <td>{'ENG': 'Goseokjeong Flower Garden', 'JPN': '孤...</td>\n",
       "      <td>0.986065</td>\n",
       "      <td>0.980333</td>\n",
       "      <td>0.983191</td>\n",
       "      <td>0.841979</td>\n",
       "    </tr>\n",
       "    <tr>\n",
       "      <th>...</th>\n",
       "      <td>...</td>\n",
       "      <td>...</td>\n",
       "      <td>...</td>\n",
       "      <td>...</td>\n",
       "      <td>...</td>\n",
       "      <td>...</td>\n",
       "      <td>...</td>\n",
       "      <td>...</td>\n",
       "      <td>...</td>\n",
       "    </tr>\n",
       "    <tr>\n",
       "      <th>5411</th>\n",
       "      <td>サリゴル公園は自然の美しさと調和した休息所であり、訪問者に平和な散歩道とさまざまな野生花を鑑...</td>\n",
       "      <td>싸리골공원은 자연의 아름다움과 조화롭게 어우러진 휴식처로, 방문객들에게 평화로운 산...</td>\n",
       "      <td>sassi gol park은 자연의 아름다움과 조화롭게 어우러진 휴식처로, 방문객들...</td>\n",
       "      <td>KO</td>\n",
       "      <td>{'ENG': 'Sarigol Park', 'JPN': 'サリゴル公園', 'KO':...</td>\n",
       "      <td>0.949561</td>\n",
       "      <td>0.953333</td>\n",
       "      <td>0.951443</td>\n",
       "      <td>0.880476</td>\n",
       "    </tr>\n",
       "    <tr>\n",
       "      <th>5412</th>\n",
       "      <td>봉원사에 가면 아름다운 풍경을 감상할 수 있습니다.</td>\n",
       "      <td>奉元寺に行くと、美しい景色を楽しむことができます。</td>\n",
       "      <td>If you go to Bongwonsa Temple, you can enjoy b...</td>\n",
       "      <td>JPN</td>\n",
       "      <td>{'ENG': 'Bongwonsa Temple', 'JPN': '奉元寺', 'KO'...</td>\n",
       "      <td>0.700832</td>\n",
       "      <td>0.689508</td>\n",
       "      <td>0.695124</td>\n",
       "      <td>0.838903</td>\n",
       "    </tr>\n",
       "    <tr>\n",
       "      <th>5413</th>\n",
       "      <td>오늘은 산들공원에서 산책할 거예요.</td>\n",
       "      <td>Today, I will take a walk in Sandeul Park.</td>\n",
       "      <td>Today, I will take a walk in Sandeul Park.</td>\n",
       "      <td>ENG</td>\n",
       "      <td>{'ENG': 'Sandeul Park', 'JPN': 'サンドゥル公園', 'KO'...</td>\n",
       "      <td>1.000000</td>\n",
       "      <td>1.000000</td>\n",
       "      <td>1.000000</td>\n",
       "      <td>0.839124</td>\n",
       "    </tr>\n",
       "    <tr>\n",
       "      <th>5414</th>\n",
       "      <td>I took a walk with a friend at Dogok Neighborh...</td>\n",
       "      <td>도곡근린공원에서 친구와 함께 산책을 했어요.</td>\n",
       "      <td>도곡근린공원에서 친구와 함께 산책을 했어요.</td>\n",
       "      <td>KO</td>\n",
       "      <td>{'ENG': 'Dogok Neighborhood Park', 'JPN': '道谷近...</td>\n",
       "      <td>1.000000</td>\n",
       "      <td>1.000000</td>\n",
       "      <td>1.000000</td>\n",
       "      <td>0.892391</td>\n",
       "    </tr>\n",
       "    <tr>\n",
       "      <th>5415</th>\n",
       "      <td>葛畑小公園は美しい自然景観と平和な雰囲気で旅行者の皆さんを招待する魅力的な観光地です。</td>\n",
       "      <td>갈밭소공원은 아름다운 자연 경관과 평화로운 분위기로 여행객 여러분을 초대하는 매력적...</td>\n",
       "      <td>갈밭소공원은 아름다운 자연경관과 평화로운 분위기로 여행자 여러분을 초대하는 매력적인...</td>\n",
       "      <td>KO</td>\n",
       "      <td>{'ENG': 'Galbat Small Park', 'JPN': '葛畑小公園', '...</td>\n",
       "      <td>0.989181</td>\n",
       "      <td>0.989181</td>\n",
       "      <td>0.989181</td>\n",
       "      <td>0.884757</td>\n",
       "    </tr>\n",
       "  </tbody>\n",
       "</table>\n",
       "<p>5416 rows × 9 columns</p>\n",
       "</div>"
      ],
      "text/plain": [
       "                                                  input  \\\n",
       "0     I decided to take a walk with my friends at Gu...   \n",
       "1                                    원적산의 경치는 정말 아름다워요.   \n",
       "2     The movie filmed at the Iksan Prison Film Set ...   \n",
       "3     여러분, 한국의 매력적인 음식 문화 속에서 '오징어두루치기'를 통해 신선한 해산물과...   \n",
       "4     고석정 꽃밭은 아름다운 자연경관과 다채로운 꽃들이 어우러져 여행자 여러분을 환상적인...   \n",
       "...                                                 ...   \n",
       "5411  サリゴル公園は自然の美しさと調和した休息所であり、訪問者に平和な散歩道とさまざまな野生花を鑑...   \n",
       "5412                       봉원사에 가면 아름다운 풍경을 감상할 수 있습니다.   \n",
       "5413                                오늘은 산들공원에서 산책할 거예요.   \n",
       "5414  I took a walk with a friend at Dogok Neighborh...   \n",
       "5415        葛畑小公園は美しい自然景観と平和な雰囲気で旅行者の皆さんを招待する魅力的な観光地です。   \n",
       "\n",
       "                                        expected_output  \\\n",
       "0                          구봉산 근린공원에서 친구들과 산책을 하기로 했어요.   \n",
       "1     The scenery of Wonjeok Mountain is truly beaut...   \n",
       "2                     익산 교도소 세트장에서 촬영한 영화가 큰 인기를 끌고 있다.   \n",
       "3     皆さん、韓国の魅力的な食文化の中で「イカの野菜炒め」を通じて新鮮な海鮮と辛い調味料が調和した...   \n",
       "4     Goseokjeong Flower Garden is a place that invi...   \n",
       "...                                                 ...   \n",
       "5411  싸리골공원은 자연의 아름다움과 조화롭게 어우러진 휴식처로, 방문객들에게 평화로운 산...   \n",
       "5412                          奉元寺に行くと、美しい景色を楽しむことができます。   \n",
       "5413         Today, I will take a walk in Sandeul Park.   \n",
       "5414                           도곡근린공원에서 친구와 함께 산책을 했어요.   \n",
       "5415  갈밭소공원은 아름다운 자연 경관과 평화로운 분위기로 여행객 여러분을 초대하는 매력적...   \n",
       "\n",
       "                                       generated_output target_language  \\\n",
       "0                       구봉산 근린공원에서 친구들과 함께 산책을 하기로 했어요.              KO   \n",
       "1     The scenery of Wonjeok Mountain is truly beaut...             ENG   \n",
       "2                     익산 교도소 세트장을 사용한 영화는 많은 인기를 끌고 있다.              KO   \n",
       "3     皆さん、韓国の魅力的な食文化の中で「イカの野菜炒め」を通じて、新鮮な海産物と辛いコチュジャン...             JPN   \n",
       "4     Goseokjeong Flower Garden is a destination tha...             ENG   \n",
       "...                                                 ...             ...   \n",
       "5411  sassi gol park은 자연의 아름다움과 조화롭게 어우러진 휴식처로, 방문객들...              KO   \n",
       "5412  If you go to Bongwonsa Temple, you can enjoy b...             JPN   \n",
       "5413         Today, I will take a walk in Sandeul Park.             ENG   \n",
       "5414                           도곡근린공원에서 친구와 함께 산책을 했어요.              KO   \n",
       "5415  갈밭소공원은 아름다운 자연경관과 평화로운 분위기로 여행자 여러분을 초대하는 매력적인...              KO   \n",
       "\n",
       "                                               glossary  BERTScore_P  \\\n",
       "0     {'ENG': 'Gubongsan Neighborhood Park', 'JPN': ...     0.981155   \n",
       "1     {'ENG': 'Wonjeok Mountain', 'JPN': '原積算', 'KO'...     1.000000   \n",
       "2     {'ENG': 'Iksan Prison Film Set', 'JPN': '益山刑務所...     0.930290   \n",
       "3     {'ENG': 'Stir-fried Squid', 'JPN': 'イカの野菜炒め', ...     0.950356   \n",
       "4     {'ENG': 'Goseokjeong Flower Garden', 'JPN': '孤...     0.986065   \n",
       "...                                                 ...          ...   \n",
       "5411  {'ENG': 'Sarigol Park', 'JPN': 'サリゴル公園', 'KO':...     0.949561   \n",
       "5412  {'ENG': 'Bongwonsa Temple', 'JPN': '奉元寺', 'KO'...     0.700832   \n",
       "5413  {'ENG': 'Sandeul Park', 'JPN': 'サンドゥル公園', 'KO'...     1.000000   \n",
       "5414  {'ENG': 'Dogok Neighborhood Park', 'JPN': '道谷近...     1.000000   \n",
       "5415  {'ENG': 'Galbat Small Park', 'JPN': '葛畑小公園', '...     0.989181   \n",
       "\n",
       "      BERTScore_R  BERTScore_F1     COMET  \n",
       "0        0.988651      0.984889  0.895836  \n",
       "1        1.000000      1.000000  0.832988  \n",
       "2        0.920392      0.925315  0.886820  \n",
       "3        0.972483      0.961292  0.747779  \n",
       "4        0.980333      0.983191  0.841979  \n",
       "...           ...           ...       ...  \n",
       "5411     0.953333      0.951443  0.880476  \n",
       "5412     0.689508      0.695124  0.838903  \n",
       "5413     1.000000      1.000000  0.839124  \n",
       "5414     1.000000      1.000000  0.892391  \n",
       "5415     0.989181      0.989181  0.884757  \n",
       "\n",
       "[5416 rows x 9 columns]"
      ]
     },
     "metadata": {},
     "output_type": "display_data"
    }
   ],
   "source": [
    "import pandas as pd\n",
    "from IPython.display import display\n",
    "\n",
    "# ✅ 평균 평가 점수 계산\n",
    "mean_bertscore_p = df_results[\"BERTScore_P\"].mean()\n",
    "mean_bertscore_r = df_results[\"BERTScore_R\"].mean()\n",
    "mean_bertscore_f1 = df_results[\"BERTScore_F1\"].mean()\n",
    "mean_comet = df_results[\"COMET\"].mean()\n",
    "\n",
    "# ✅ 평가 결과 출력\n",
    "print(\"\\n📊 번역 평가 결과 요약 📊\")\n",
    "print(f\"🔹 평균 BERTScore (Precision): {mean_bertscore_p:.4f}\")\n",
    "print(f\"🔹 평균 BERTScore (Recall): {mean_bertscore_r:.4f}\")\n",
    "print(f\"🔹 평균 BERTScore (F1 Score): {mean_bertscore_f1:.4f}\")\n",
    "print(f\"🔹 평균 COMET 점수: {mean_comet:.4f}\")\n",
    "\n",
    "# ✅ Jupyter Notebook에서 결과 표시\n",
    "display(df_results)"
   ]
  },
  {
   "cell_type": "code",
   "execution_count": null,
   "metadata": {},
   "outputs": [],
   "source": []
  }
 ],
 "metadata": {
  "kernelspec": {
   "display_name": "pystudy",
   "language": "python",
   "name": "python3"
  },
  "language_info": {
   "codemirror_mode": {
    "name": "ipython",
    "version": 3
   },
   "file_extension": ".py",
   "mimetype": "text/x-python",
   "name": "python",
   "nbconvert_exporter": "python",
   "pygments_lexer": "ipython3",
   "version": "3.12.8"
  }
 },
 "nbformat": 4,
 "nbformat_minor": 2
}
