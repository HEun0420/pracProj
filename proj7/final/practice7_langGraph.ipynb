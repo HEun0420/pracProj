{
 "cells": [
  {
   "cell_type": "code",
   "execution_count": 1,
   "metadata": {},
   "outputs": [
    {
     "name": "stdout",
     "output_type": "stream",
     "text": [
      "Collecting langgraph\n",
      "  Downloading langgraph-0.2.69-py3-none-any.whl.metadata (17 kB)\n",
      "Requirement already satisfied: langchain-core!=0.3.0,!=0.3.1,!=0.3.10,!=0.3.11,!=0.3.12,!=0.3.13,!=0.3.14,!=0.3.15,!=0.3.16,!=0.3.17,!=0.3.18,!=0.3.19,!=0.3.2,!=0.3.20,!=0.3.21,!=0.3.22,!=0.3.3,!=0.3.4,!=0.3.5,!=0.3.6,!=0.3.7,!=0.3.8,!=0.3.9,<0.4.0,>=0.2.43 in c:\\users\\201\\miniforge3\\envs\\pystudy\\lib\\site-packages (from langgraph) (0.3.29)\n",
      "Collecting langgraph-checkpoint<3.0.0,>=2.0.10 (from langgraph)\n",
      "  Downloading langgraph_checkpoint-2.0.10-py3-none-any.whl.metadata (4.6 kB)\n",
      "Collecting langgraph-sdk<0.2.0,>=0.1.42 (from langgraph)\n",
      "  Downloading langgraph_sdk-0.1.51-py3-none-any.whl.metadata (1.8 kB)\n",
      "Requirement already satisfied: PyYAML>=5.3 in c:\\users\\201\\miniforge3\\envs\\pystudy\\lib\\site-packages (from langchain-core!=0.3.0,!=0.3.1,!=0.3.10,!=0.3.11,!=0.3.12,!=0.3.13,!=0.3.14,!=0.3.15,!=0.3.16,!=0.3.17,!=0.3.18,!=0.3.19,!=0.3.2,!=0.3.20,!=0.3.21,!=0.3.22,!=0.3.3,!=0.3.4,!=0.3.5,!=0.3.6,!=0.3.7,!=0.3.8,!=0.3.9,<0.4.0,>=0.2.43->langgraph) (6.0.2)\n",
      "Requirement already satisfied: jsonpatch<2.0,>=1.33 in c:\\users\\201\\miniforge3\\envs\\pystudy\\lib\\site-packages (from langchain-core!=0.3.0,!=0.3.1,!=0.3.10,!=0.3.11,!=0.3.12,!=0.3.13,!=0.3.14,!=0.3.15,!=0.3.16,!=0.3.17,!=0.3.18,!=0.3.19,!=0.3.2,!=0.3.20,!=0.3.21,!=0.3.22,!=0.3.3,!=0.3.4,!=0.3.5,!=0.3.6,!=0.3.7,!=0.3.8,!=0.3.9,<0.4.0,>=0.2.43->langgraph) (1.33)\n",
      "Requirement already satisfied: langsmith<0.3,>=0.1.125 in c:\\users\\201\\miniforge3\\envs\\pystudy\\lib\\site-packages (from langchain-core!=0.3.0,!=0.3.1,!=0.3.10,!=0.3.11,!=0.3.12,!=0.3.13,!=0.3.14,!=0.3.15,!=0.3.16,!=0.3.17,!=0.3.18,!=0.3.19,!=0.3.2,!=0.3.20,!=0.3.21,!=0.3.22,!=0.3.3,!=0.3.4,!=0.3.5,!=0.3.6,!=0.3.7,!=0.3.8,!=0.3.9,<0.4.0,>=0.2.43->langgraph) (0.2.7)\n",
      "Requirement already satisfied: packaging<25,>=23.2 in c:\\users\\201\\miniforge3\\envs\\pystudy\\lib\\site-packages (from langchain-core!=0.3.0,!=0.3.1,!=0.3.10,!=0.3.11,!=0.3.12,!=0.3.13,!=0.3.14,!=0.3.15,!=0.3.16,!=0.3.17,!=0.3.18,!=0.3.19,!=0.3.2,!=0.3.20,!=0.3.21,!=0.3.22,!=0.3.3,!=0.3.4,!=0.3.5,!=0.3.6,!=0.3.7,!=0.3.8,!=0.3.9,<0.4.0,>=0.2.43->langgraph) (24.2)\n",
      "Requirement already satisfied: pydantic<3.0.0,>=2.7.4 in c:\\users\\201\\miniforge3\\envs\\pystudy\\lib\\site-packages (from langchain-core!=0.3.0,!=0.3.1,!=0.3.10,!=0.3.11,!=0.3.12,!=0.3.13,!=0.3.14,!=0.3.15,!=0.3.16,!=0.3.17,!=0.3.18,!=0.3.19,!=0.3.2,!=0.3.20,!=0.3.21,!=0.3.22,!=0.3.3,!=0.3.4,!=0.3.5,!=0.3.6,!=0.3.7,!=0.3.8,!=0.3.9,<0.4.0,>=0.2.43->langgraph) (2.9.2)\n",
      "Requirement already satisfied: tenacity!=8.4.0,<10.0.0,>=8.1.0 in c:\\users\\201\\miniforge3\\envs\\pystudy\\lib\\site-packages (from langchain-core!=0.3.0,!=0.3.1,!=0.3.10,!=0.3.11,!=0.3.12,!=0.3.13,!=0.3.14,!=0.3.15,!=0.3.16,!=0.3.17,!=0.3.18,!=0.3.19,!=0.3.2,!=0.3.20,!=0.3.21,!=0.3.22,!=0.3.3,!=0.3.4,!=0.3.5,!=0.3.6,!=0.3.7,!=0.3.8,!=0.3.9,<0.4.0,>=0.2.43->langgraph) (9.0.0)\n",
      "Requirement already satisfied: typing-extensions>=4.7 in c:\\users\\201\\miniforge3\\envs\\pystudy\\lib\\site-packages (from langchain-core!=0.3.0,!=0.3.1,!=0.3.10,!=0.3.11,!=0.3.12,!=0.3.13,!=0.3.14,!=0.3.15,!=0.3.16,!=0.3.17,!=0.3.18,!=0.3.19,!=0.3.2,!=0.3.20,!=0.3.21,!=0.3.22,!=0.3.3,!=0.3.4,!=0.3.5,!=0.3.6,!=0.3.7,!=0.3.8,!=0.3.9,<0.4.0,>=0.2.43->langgraph) (4.12.2)\n",
      "Requirement already satisfied: msgpack<2.0.0,>=1.1.0 in c:\\users\\201\\miniforge3\\envs\\pystudy\\lib\\site-packages (from langgraph-checkpoint<3.0.0,>=2.0.10->langgraph) (1.1.0)\n",
      "Requirement already satisfied: httpx>=0.25.2 in c:\\users\\201\\miniforge3\\envs\\pystudy\\lib\\site-packages (from langgraph-sdk<0.2.0,>=0.1.42->langgraph) (0.28.1)\n",
      "Requirement already satisfied: orjson>=3.10.1 in c:\\users\\201\\miniforge3\\envs\\pystudy\\lib\\site-packages (from langgraph-sdk<0.2.0,>=0.1.42->langgraph) (3.10.13)\n",
      "Requirement already satisfied: anyio in c:\\users\\201\\miniforge3\\envs\\pystudy\\lib\\site-packages (from httpx>=0.25.2->langgraph-sdk<0.2.0,>=0.1.42->langgraph) (4.7.0)\n",
      "Requirement already satisfied: certifi in c:\\users\\201\\miniforge3\\envs\\pystudy\\lib\\site-packages (from httpx>=0.25.2->langgraph-sdk<0.2.0,>=0.1.42->langgraph) (2024.12.14)\n",
      "Requirement already satisfied: httpcore==1.* in c:\\users\\201\\miniforge3\\envs\\pystudy\\lib\\site-packages (from httpx>=0.25.2->langgraph-sdk<0.2.0,>=0.1.42->langgraph) (1.0.7)\n",
      "Requirement already satisfied: idna in c:\\users\\201\\miniforge3\\envs\\pystudy\\lib\\site-packages (from httpx>=0.25.2->langgraph-sdk<0.2.0,>=0.1.42->langgraph) (3.10)\n",
      "Requirement already satisfied: h11<0.15,>=0.13 in c:\\users\\201\\miniforge3\\envs\\pystudy\\lib\\site-packages (from httpcore==1.*->httpx>=0.25.2->langgraph-sdk<0.2.0,>=0.1.42->langgraph) (0.14.0)\n",
      "Requirement already satisfied: jsonpointer>=1.9 in c:\\users\\201\\miniforge3\\envs\\pystudy\\lib\\site-packages (from jsonpatch<2.0,>=1.33->langchain-core!=0.3.0,!=0.3.1,!=0.3.10,!=0.3.11,!=0.3.12,!=0.3.13,!=0.3.14,!=0.3.15,!=0.3.16,!=0.3.17,!=0.3.18,!=0.3.19,!=0.3.2,!=0.3.20,!=0.3.21,!=0.3.22,!=0.3.3,!=0.3.4,!=0.3.5,!=0.3.6,!=0.3.7,!=0.3.8,!=0.3.9,<0.4.0,>=0.2.43->langgraph) (3.0.0)\n",
      "Requirement already satisfied: requests<3,>=2 in c:\\users\\201\\miniforge3\\envs\\pystudy\\lib\\site-packages (from langsmith<0.3,>=0.1.125->langchain-core!=0.3.0,!=0.3.1,!=0.3.10,!=0.3.11,!=0.3.12,!=0.3.13,!=0.3.14,!=0.3.15,!=0.3.16,!=0.3.17,!=0.3.18,!=0.3.19,!=0.3.2,!=0.3.20,!=0.3.21,!=0.3.22,!=0.3.3,!=0.3.4,!=0.3.5,!=0.3.6,!=0.3.7,!=0.3.8,!=0.3.9,<0.4.0,>=0.2.43->langgraph) (2.32.3)\n",
      "Requirement already satisfied: requests-toolbelt<2.0.0,>=1.0.0 in c:\\users\\201\\miniforge3\\envs\\pystudy\\lib\\site-packages (from langsmith<0.3,>=0.1.125->langchain-core!=0.3.0,!=0.3.1,!=0.3.10,!=0.3.11,!=0.3.12,!=0.3.13,!=0.3.14,!=0.3.15,!=0.3.16,!=0.3.17,!=0.3.18,!=0.3.19,!=0.3.2,!=0.3.20,!=0.3.21,!=0.3.22,!=0.3.3,!=0.3.4,!=0.3.5,!=0.3.6,!=0.3.7,!=0.3.8,!=0.3.9,<0.4.0,>=0.2.43->langgraph) (1.0.0)\n",
      "Requirement already satisfied: annotated-types>=0.6.0 in c:\\users\\201\\miniforge3\\envs\\pystudy\\lib\\site-packages (from pydantic<3.0.0,>=2.7.4->langchain-core!=0.3.0,!=0.3.1,!=0.3.10,!=0.3.11,!=0.3.12,!=0.3.13,!=0.3.14,!=0.3.15,!=0.3.16,!=0.3.17,!=0.3.18,!=0.3.19,!=0.3.2,!=0.3.20,!=0.3.21,!=0.3.22,!=0.3.3,!=0.3.4,!=0.3.5,!=0.3.6,!=0.3.7,!=0.3.8,!=0.3.9,<0.4.0,>=0.2.43->langgraph) (0.7.0)\n",
      "Requirement already satisfied: pydantic-core==2.23.4 in c:\\users\\201\\miniforge3\\envs\\pystudy\\lib\\site-packages (from pydantic<3.0.0,>=2.7.4->langchain-core!=0.3.0,!=0.3.1,!=0.3.10,!=0.3.11,!=0.3.12,!=0.3.13,!=0.3.14,!=0.3.15,!=0.3.16,!=0.3.17,!=0.3.18,!=0.3.19,!=0.3.2,!=0.3.20,!=0.3.21,!=0.3.22,!=0.3.3,!=0.3.4,!=0.3.5,!=0.3.6,!=0.3.7,!=0.3.8,!=0.3.9,<0.4.0,>=0.2.43->langgraph) (2.23.4)\n",
      "Requirement already satisfied: charset-normalizer<4,>=2 in c:\\users\\201\\miniforge3\\envs\\pystudy\\lib\\site-packages (from requests<3,>=2->langsmith<0.3,>=0.1.125->langchain-core!=0.3.0,!=0.3.1,!=0.3.10,!=0.3.11,!=0.3.12,!=0.3.13,!=0.3.14,!=0.3.15,!=0.3.16,!=0.3.17,!=0.3.18,!=0.3.19,!=0.3.2,!=0.3.20,!=0.3.21,!=0.3.22,!=0.3.3,!=0.3.4,!=0.3.5,!=0.3.6,!=0.3.7,!=0.3.8,!=0.3.9,<0.4.0,>=0.2.43->langgraph) (3.4.1)\n",
      "Requirement already satisfied: urllib3<3,>=1.21.1 in c:\\users\\201\\miniforge3\\envs\\pystudy\\lib\\site-packages (from requests<3,>=2->langsmith<0.3,>=0.1.125->langchain-core!=0.3.0,!=0.3.1,!=0.3.10,!=0.3.11,!=0.3.12,!=0.3.13,!=0.3.14,!=0.3.15,!=0.3.16,!=0.3.17,!=0.3.18,!=0.3.19,!=0.3.2,!=0.3.20,!=0.3.21,!=0.3.22,!=0.3.3,!=0.3.4,!=0.3.5,!=0.3.6,!=0.3.7,!=0.3.8,!=0.3.9,<0.4.0,>=0.2.43->langgraph) (2.3.0)\n",
      "Requirement already satisfied: sniffio>=1.1 in c:\\users\\201\\miniforge3\\envs\\pystudy\\lib\\site-packages (from anyio->httpx>=0.25.2->langgraph-sdk<0.2.0,>=0.1.42->langgraph) (1.3.1)\n",
      "Downloading langgraph-0.2.69-py3-none-any.whl (148 kB)\n",
      "Downloading langgraph_checkpoint-2.0.10-py3-none-any.whl (37 kB)\n",
      "Downloading langgraph_sdk-0.1.51-py3-none-any.whl (44 kB)\n",
      "Installing collected packages: langgraph-sdk, langgraph-checkpoint, langgraph\n",
      "Successfully installed langgraph-0.2.69 langgraph-checkpoint-2.0.10 langgraph-sdk-0.1.51\n",
      "Requirement already satisfied: langchain_community in c:\\users\\201\\miniforge3\\envs\\pystudy\\lib\\site-packages (0.3.14)\n",
      "Requirement already satisfied: PyYAML>=5.3 in c:\\users\\201\\miniforge3\\envs\\pystudy\\lib\\site-packages (from langchain_community) (6.0.2)\n",
      "Requirement already satisfied: SQLAlchemy<3,>=1.4 in c:\\users\\201\\miniforge3\\envs\\pystudy\\lib\\site-packages (from langchain_community) (2.0.36)\n",
      "Requirement already satisfied: aiohttp<4.0.0,>=3.8.3 in c:\\users\\201\\miniforge3\\envs\\pystudy\\lib\\site-packages (from langchain_community) (3.11.11)\n",
      "Requirement already satisfied: dataclasses-json<0.7,>=0.5.7 in c:\\users\\201\\miniforge3\\envs\\pystudy\\lib\\site-packages (from langchain_community) (0.6.7)\n",
      "Requirement already satisfied: httpx-sse<0.5.0,>=0.4.0 in c:\\users\\201\\miniforge3\\envs\\pystudy\\lib\\site-packages (from langchain_community) (0.4.0)\n",
      "Requirement already satisfied: langchain<0.4.0,>=0.3.14 in c:\\users\\201\\miniforge3\\envs\\pystudy\\lib\\site-packages (from langchain_community) (0.3.14)\n",
      "Requirement already satisfied: langchain-core<0.4.0,>=0.3.29 in c:\\users\\201\\miniforge3\\envs\\pystudy\\lib\\site-packages (from langchain_community) (0.3.29)\n",
      "Requirement already satisfied: langsmith<0.3,>=0.1.125 in c:\\users\\201\\miniforge3\\envs\\pystudy\\lib\\site-packages (from langchain_community) (0.2.7)\n",
      "Requirement already satisfied: numpy<3,>=1.26.2 in c:\\users\\201\\miniforge3\\envs\\pystudy\\lib\\site-packages (from langchain_community) (1.26.4)\n",
      "Requirement already satisfied: pydantic-settings<3.0.0,>=2.4.0 in c:\\users\\201\\miniforge3\\envs\\pystudy\\lib\\site-packages (from langchain_community) (2.7.0)\n",
      "Requirement already satisfied: requests<3,>=2 in c:\\users\\201\\miniforge3\\envs\\pystudy\\lib\\site-packages (from langchain_community) (2.32.3)\n",
      "Requirement already satisfied: tenacity!=8.4.0,<10,>=8.1.0 in c:\\users\\201\\miniforge3\\envs\\pystudy\\lib\\site-packages (from langchain_community) (9.0.0)\n",
      "Requirement already satisfied: aiohappyeyeballs>=2.3.0 in c:\\users\\201\\miniforge3\\envs\\pystudy\\lib\\site-packages (from aiohttp<4.0.0,>=3.8.3->langchain_community) (2.4.4)\n",
      "Requirement already satisfied: aiosignal>=1.1.2 in c:\\users\\201\\miniforge3\\envs\\pystudy\\lib\\site-packages (from aiohttp<4.0.0,>=3.8.3->langchain_community) (1.3.2)\n",
      "Requirement already satisfied: attrs>=17.3.0 in c:\\users\\201\\miniforge3\\envs\\pystudy\\lib\\site-packages (from aiohttp<4.0.0,>=3.8.3->langchain_community) (24.3.0)\n",
      "Requirement already satisfied: frozenlist>=1.1.1 in c:\\users\\201\\miniforge3\\envs\\pystudy\\lib\\site-packages (from aiohttp<4.0.0,>=3.8.3->langchain_community) (1.5.0)\n",
      "Requirement already satisfied: multidict<7.0,>=4.5 in c:\\users\\201\\miniforge3\\envs\\pystudy\\lib\\site-packages (from aiohttp<4.0.0,>=3.8.3->langchain_community) (6.1.0)\n",
      "Requirement already satisfied: propcache>=0.2.0 in c:\\users\\201\\miniforge3\\envs\\pystudy\\lib\\site-packages (from aiohttp<4.0.0,>=3.8.3->langchain_community) (0.2.1)\n",
      "Requirement already satisfied: yarl<2.0,>=1.17.0 in c:\\users\\201\\miniforge3\\envs\\pystudy\\lib\\site-packages (from aiohttp<4.0.0,>=3.8.3->langchain_community) (1.18.3)\n",
      "Requirement already satisfied: marshmallow<4.0.0,>=3.18.0 in c:\\users\\201\\miniforge3\\envs\\pystudy\\lib\\site-packages (from dataclasses-json<0.7,>=0.5.7->langchain_community) (3.23.2)\n",
      "Requirement already satisfied: typing-inspect<1,>=0.4.0 in c:\\users\\201\\miniforge3\\envs\\pystudy\\lib\\site-packages (from dataclasses-json<0.7,>=0.5.7->langchain_community) (0.9.0)\n",
      "Requirement already satisfied: langchain-text-splitters<0.4.0,>=0.3.3 in c:\\users\\201\\miniforge3\\envs\\pystudy\\lib\\site-packages (from langchain<0.4.0,>=0.3.14->langchain_community) (0.3.4)\n",
      "Requirement already satisfied: pydantic<3.0.0,>=2.7.4 in c:\\users\\201\\miniforge3\\envs\\pystudy\\lib\\site-packages (from langchain<0.4.0,>=0.3.14->langchain_community) (2.9.2)\n",
      "Requirement already satisfied: jsonpatch<2.0,>=1.33 in c:\\users\\201\\miniforge3\\envs\\pystudy\\lib\\site-packages (from langchain-core<0.4.0,>=0.3.29->langchain_community) (1.33)\n",
      "Requirement already satisfied: packaging<25,>=23.2 in c:\\users\\201\\miniforge3\\envs\\pystudy\\lib\\site-packages (from langchain-core<0.4.0,>=0.3.29->langchain_community) (24.2)\n",
      "Requirement already satisfied: typing-extensions>=4.7 in c:\\users\\201\\miniforge3\\envs\\pystudy\\lib\\site-packages (from langchain-core<0.4.0,>=0.3.29->langchain_community) (4.12.2)\n",
      "Requirement already satisfied: httpx<1,>=0.23.0 in c:\\users\\201\\miniforge3\\envs\\pystudy\\lib\\site-packages (from langsmith<0.3,>=0.1.125->langchain_community) (0.28.1)\n",
      "Requirement already satisfied: orjson<4.0.0,>=3.9.14 in c:\\users\\201\\miniforge3\\envs\\pystudy\\lib\\site-packages (from langsmith<0.3,>=0.1.125->langchain_community) (3.10.13)\n",
      "Requirement already satisfied: requests-toolbelt<2.0.0,>=1.0.0 in c:\\users\\201\\miniforge3\\envs\\pystudy\\lib\\site-packages (from langsmith<0.3,>=0.1.125->langchain_community) (1.0.0)\n",
      "Requirement already satisfied: python-dotenv>=0.21.0 in c:\\users\\201\\miniforge3\\envs\\pystudy\\lib\\site-packages (from pydantic-settings<3.0.0,>=2.4.0->langchain_community) (1.0.1)\n",
      "Requirement already satisfied: charset-normalizer<4,>=2 in c:\\users\\201\\miniforge3\\envs\\pystudy\\lib\\site-packages (from requests<3,>=2->langchain_community) (3.4.1)\n",
      "Requirement already satisfied: idna<4,>=2.5 in c:\\users\\201\\miniforge3\\envs\\pystudy\\lib\\site-packages (from requests<3,>=2->langchain_community) (3.10)\n",
      "Requirement already satisfied: urllib3<3,>=1.21.1 in c:\\users\\201\\miniforge3\\envs\\pystudy\\lib\\site-packages (from requests<3,>=2->langchain_community) (2.3.0)\n",
      "Requirement already satisfied: certifi>=2017.4.17 in c:\\users\\201\\miniforge3\\envs\\pystudy\\lib\\site-packages (from requests<3,>=2->langchain_community) (2024.12.14)\n",
      "Requirement already satisfied: greenlet!=0.4.17 in c:\\users\\201\\miniforge3\\envs\\pystudy\\lib\\site-packages (from SQLAlchemy<3,>=1.4->langchain_community) (3.1.1)\n",
      "Requirement already satisfied: anyio in c:\\users\\201\\miniforge3\\envs\\pystudy\\lib\\site-packages (from httpx<1,>=0.23.0->langsmith<0.3,>=0.1.125->langchain_community) (4.7.0)\n",
      "Requirement already satisfied: httpcore==1.* in c:\\users\\201\\miniforge3\\envs\\pystudy\\lib\\site-packages (from httpx<1,>=0.23.0->langsmith<0.3,>=0.1.125->langchain_community) (1.0.7)\n",
      "Requirement already satisfied: h11<0.15,>=0.13 in c:\\users\\201\\miniforge3\\envs\\pystudy\\lib\\site-packages (from httpcore==1.*->httpx<1,>=0.23.0->langsmith<0.3,>=0.1.125->langchain_community) (0.14.0)\n",
      "Requirement already satisfied: jsonpointer>=1.9 in c:\\users\\201\\miniforge3\\envs\\pystudy\\lib\\site-packages (from jsonpatch<2.0,>=1.33->langchain-core<0.4.0,>=0.3.29->langchain_community) (3.0.0)\n",
      "Requirement already satisfied: annotated-types>=0.6.0 in c:\\users\\201\\miniforge3\\envs\\pystudy\\lib\\site-packages (from pydantic<3.0.0,>=2.7.4->langchain<0.4.0,>=0.3.14->langchain_community) (0.7.0)\n",
      "Requirement already satisfied: pydantic-core==2.23.4 in c:\\users\\201\\miniforge3\\envs\\pystudy\\lib\\site-packages (from pydantic<3.0.0,>=2.7.4->langchain<0.4.0,>=0.3.14->langchain_community) (2.23.4)\n",
      "Requirement already satisfied: mypy-extensions>=0.3.0 in c:\\users\\201\\miniforge3\\envs\\pystudy\\lib\\site-packages (from typing-inspect<1,>=0.4.0->dataclasses-json<0.7,>=0.5.7->langchain_community) (1.0.0)\n",
      "Requirement already satisfied: sniffio>=1.1 in c:\\users\\201\\miniforge3\\envs\\pystudy\\lib\\site-packages (from anyio->httpx<1,>=0.23.0->langsmith<0.3,>=0.1.125->langchain_community) (1.3.1)\n",
      "Collecting bert-score\n",
      "  Downloading bert_score-0.3.13-py3-none-any.whl.metadata (15 kB)\n",
      "Requirement already satisfied: torch>=1.0.0 in c:\\users\\201\\miniforge3\\envs\\pystudy\\lib\\site-packages (from bert-score) (2.5.1+cu124)\n",
      "Requirement already satisfied: pandas>=1.0.1 in c:\\users\\201\\miniforge3\\envs\\pystudy\\lib\\site-packages (from bert-score) (2.2.3)\n",
      "Requirement already satisfied: transformers>=3.0.0 in c:\\users\\201\\miniforge3\\envs\\pystudy\\lib\\site-packages (from bert-score) (4.47.1)\n",
      "Requirement already satisfied: numpy in c:\\users\\201\\miniforge3\\envs\\pystudy\\lib\\site-packages (from bert-score) (1.26.4)\n",
      "Requirement already satisfied: requests in c:\\users\\201\\miniforge3\\envs\\pystudy\\lib\\site-packages (from bert-score) (2.32.3)\n",
      "Requirement already satisfied: tqdm>=4.31.1 in c:\\users\\201\\miniforge3\\envs\\pystudy\\lib\\site-packages (from bert-score) (4.67.1)\n",
      "Requirement already satisfied: matplotlib in c:\\users\\201\\miniforge3\\envs\\pystudy\\lib\\site-packages (from bert-score) (3.10.0)\n",
      "Requirement already satisfied: packaging>=20.9 in c:\\users\\201\\miniforge3\\envs\\pystudy\\lib\\site-packages (from bert-score) (24.2)\n",
      "Requirement already satisfied: python-dateutil>=2.8.2 in c:\\users\\201\\miniforge3\\envs\\pystudy\\lib\\site-packages (from pandas>=1.0.1->bert-score) (2.9.0.post0)\n",
      "Requirement already satisfied: pytz>=2020.1 in c:\\users\\201\\miniforge3\\envs\\pystudy\\lib\\site-packages (from pandas>=1.0.1->bert-score) (2024.2)\n",
      "Requirement already satisfied: tzdata>=2022.7 in c:\\users\\201\\miniforge3\\envs\\pystudy\\lib\\site-packages (from pandas>=1.0.1->bert-score) (2024.2)\n",
      "Requirement already satisfied: filelock in c:\\users\\201\\miniforge3\\envs\\pystudy\\lib\\site-packages (from torch>=1.0.0->bert-score) (3.16.1)\n",
      "Requirement already satisfied: typing-extensions>=4.8.0 in c:\\users\\201\\miniforge3\\envs\\pystudy\\lib\\site-packages (from torch>=1.0.0->bert-score) (4.12.2)\n",
      "Requirement already satisfied: networkx in c:\\users\\201\\miniforge3\\envs\\pystudy\\lib\\site-packages (from torch>=1.0.0->bert-score) (3.4.2)\n",
      "Requirement already satisfied: jinja2 in c:\\users\\201\\miniforge3\\envs\\pystudy\\lib\\site-packages (from torch>=1.0.0->bert-score) (3.1.5)\n",
      "Requirement already satisfied: fsspec in c:\\users\\201\\miniforge3\\envs\\pystudy\\lib\\site-packages (from torch>=1.0.0->bert-score) (2024.9.0)\n",
      "Requirement already satisfied: setuptools in c:\\users\\201\\miniforge3\\envs\\pystudy\\lib\\site-packages (from torch>=1.0.0->bert-score) (75.6.0)\n",
      "Requirement already satisfied: sympy==1.13.1 in c:\\users\\201\\miniforge3\\envs\\pystudy\\lib\\site-packages (from torch>=1.0.0->bert-score) (1.13.1)\n",
      "Requirement already satisfied: mpmath<1.4,>=1.1.0 in c:\\users\\201\\miniforge3\\envs\\pystudy\\lib\\site-packages (from sympy==1.13.1->torch>=1.0.0->bert-score) (1.3.0)\n",
      "Requirement already satisfied: colorama in c:\\users\\201\\miniforge3\\envs\\pystudy\\lib\\site-packages (from tqdm>=4.31.1->bert-score) (0.4.6)\n",
      "Requirement already satisfied: huggingface-hub<1.0,>=0.24.0 in c:\\users\\201\\miniforge3\\envs\\pystudy\\lib\\site-packages (from transformers>=3.0.0->bert-score) (0.27.0)\n",
      "Requirement already satisfied: pyyaml>=5.1 in c:\\users\\201\\miniforge3\\envs\\pystudy\\lib\\site-packages (from transformers>=3.0.0->bert-score) (6.0.2)\n",
      "Requirement already satisfied: regex!=2019.12.17 in c:\\users\\201\\miniforge3\\envs\\pystudy\\lib\\site-packages (from transformers>=3.0.0->bert-score) (2024.11.6)\n",
      "Requirement already satisfied: tokenizers<0.22,>=0.21 in c:\\users\\201\\miniforge3\\envs\\pystudy\\lib\\site-packages (from transformers>=3.0.0->bert-score) (0.21.0)\n",
      "Requirement already satisfied: safetensors>=0.4.1 in c:\\users\\201\\miniforge3\\envs\\pystudy\\lib\\site-packages (from transformers>=3.0.0->bert-score) (0.4.5)\n",
      "Requirement already satisfied: contourpy>=1.0.1 in c:\\users\\201\\miniforge3\\envs\\pystudy\\lib\\site-packages (from matplotlib->bert-score) (1.3.1)\n",
      "Requirement already satisfied: cycler>=0.10 in c:\\users\\201\\miniforge3\\envs\\pystudy\\lib\\site-packages (from matplotlib->bert-score) (0.12.1)\n",
      "Requirement already satisfied: fonttools>=4.22.0 in c:\\users\\201\\miniforge3\\envs\\pystudy\\lib\\site-packages (from matplotlib->bert-score) (4.55.3)\n",
      "Requirement already satisfied: kiwisolver>=1.3.1 in c:\\users\\201\\miniforge3\\envs\\pystudy\\lib\\site-packages (from matplotlib->bert-score) (1.4.8)\n",
      "Requirement already satisfied: pillow>=8 in c:\\users\\201\\miniforge3\\envs\\pystudy\\lib\\site-packages (from matplotlib->bert-score) (11.0.0)\n",
      "Requirement already satisfied: pyparsing>=2.3.1 in c:\\users\\201\\miniforge3\\envs\\pystudy\\lib\\site-packages (from matplotlib->bert-score) (3.2.0)\n",
      "Requirement already satisfied: charset-normalizer<4,>=2 in c:\\users\\201\\miniforge3\\envs\\pystudy\\lib\\site-packages (from requests->bert-score) (3.4.1)\n",
      "Requirement already satisfied: idna<4,>=2.5 in c:\\users\\201\\miniforge3\\envs\\pystudy\\lib\\site-packages (from requests->bert-score) (3.10)\n",
      "Requirement already satisfied: urllib3<3,>=1.21.1 in c:\\users\\201\\miniforge3\\envs\\pystudy\\lib\\site-packages (from requests->bert-score) (2.3.0)\n",
      "Requirement already satisfied: certifi>=2017.4.17 in c:\\users\\201\\miniforge3\\envs\\pystudy\\lib\\site-packages (from requests->bert-score) (2024.12.14)\n",
      "Requirement already satisfied: six>=1.5 in c:\\users\\201\\miniforge3\\envs\\pystudy\\lib\\site-packages (from python-dateutil>=2.8.2->pandas>=1.0.1->bert-score) (1.17.0)\n",
      "Requirement already satisfied: MarkupSafe>=2.0 in c:\\users\\201\\miniforge3\\envs\\pystudy\\lib\\site-packages (from jinja2->torch>=1.0.0->bert-score) (3.0.2)\n",
      "Downloading bert_score-0.3.13-py3-none-any.whl (61 kB)\n",
      "Installing collected packages: bert-score\n",
      "Successfully installed bert-score-0.3.13\n",
      "Collecting unbabel-comet\n",
      "  Downloading unbabel_comet-2.2.4-py3-none-any.whl.metadata (19 kB)\n",
      "Collecting entmax<2.0,>=1.1 (from unbabel-comet)\n",
      "  Downloading entmax-1.3-py3-none-any.whl.metadata (348 bytes)\n",
      "Requirement already satisfied: huggingface-hub<1.0,>=0.19.3 in c:\\users\\201\\miniforge3\\envs\\pystudy\\lib\\site-packages (from unbabel-comet) (0.27.0)\n",
      "Collecting jsonargparse==3.13.1 (from unbabel-comet)\n",
      "  Downloading jsonargparse-3.13.1-py3-none-any.whl.metadata (55 kB)\n",
      "Requirement already satisfied: numpy<2.0.0,>=1.20.0 in c:\\users\\201\\miniforge3\\envs\\pystudy\\lib\\site-packages (from unbabel-comet) (1.26.4)\n",
      "Requirement already satisfied: pandas>=1.4.1 in c:\\users\\201\\miniforge3\\envs\\pystudy\\lib\\site-packages (from unbabel-comet) (2.2.3)\n",
      "Requirement already satisfied: protobuf<5.0.0,>=4.24.4 in c:\\users\\201\\miniforge3\\envs\\pystudy\\lib\\site-packages (from unbabel-comet) (4.25.5)\n",
      "Collecting pytorch-lightning<3.0.0,>=2.0.0 (from unbabel-comet)\n",
      "  Downloading pytorch_lightning-2.5.0.post0-py3-none-any.whl.metadata (21 kB)\n",
      "Collecting sacrebleu<3.0.0,>=2.0.0 (from unbabel-comet)\n",
      "  Downloading sacrebleu-2.5.1-py3-none-any.whl.metadata (51 kB)\n",
      "Requirement already satisfied: scipy<2.0.0,>=1.5.4 in c:\\users\\201\\miniforge3\\envs\\pystudy\\lib\\site-packages (from unbabel-comet) (1.14.1)\n",
      "Requirement already satisfied: sentencepiece<0.3.0,>=0.2.0 in c:\\users\\201\\miniforge3\\envs\\pystudy\\lib\\site-packages (from unbabel-comet) (0.2.0)\n",
      "Requirement already satisfied: torch>=1.6.0 in c:\\users\\201\\miniforge3\\envs\\pystudy\\lib\\site-packages (from unbabel-comet) (2.5.1+cu124)\n",
      "Collecting torchmetrics<0.11.0,>=0.10.2 (from unbabel-comet)\n",
      "  Downloading torchmetrics-0.10.3-py3-none-any.whl.metadata (15 kB)\n",
      "Requirement already satisfied: transformers<5.0,>=4.17 in c:\\users\\201\\miniforge3\\envs\\pystudy\\lib\\site-packages (from unbabel-comet) (4.47.1)\n",
      "Requirement already satisfied: PyYAML>=3.13 in c:\\users\\201\\miniforge3\\envs\\pystudy\\lib\\site-packages (from jsonargparse==3.13.1->unbabel-comet) (6.0.2)\n",
      "Requirement already satisfied: filelock in c:\\users\\201\\miniforge3\\envs\\pystudy\\lib\\site-packages (from huggingface-hub<1.0,>=0.19.3->unbabel-comet) (3.16.1)\n",
      "Requirement already satisfied: fsspec>=2023.5.0 in c:\\users\\201\\miniforge3\\envs\\pystudy\\lib\\site-packages (from huggingface-hub<1.0,>=0.19.3->unbabel-comet) (2024.9.0)\n",
      "Requirement already satisfied: packaging>=20.9 in c:\\users\\201\\miniforge3\\envs\\pystudy\\lib\\site-packages (from huggingface-hub<1.0,>=0.19.3->unbabel-comet) (24.2)\n",
      "Requirement already satisfied: requests in c:\\users\\201\\miniforge3\\envs\\pystudy\\lib\\site-packages (from huggingface-hub<1.0,>=0.19.3->unbabel-comet) (2.32.3)\n",
      "Requirement already satisfied: tqdm>=4.42.1 in c:\\users\\201\\miniforge3\\envs\\pystudy\\lib\\site-packages (from huggingface-hub<1.0,>=0.19.3->unbabel-comet) (4.67.1)\n",
      "Requirement already satisfied: typing-extensions>=3.7.4.3 in c:\\users\\201\\miniforge3\\envs\\pystudy\\lib\\site-packages (from huggingface-hub<1.0,>=0.19.3->unbabel-comet) (4.12.2)\n",
      "Requirement already satisfied: python-dateutil>=2.8.2 in c:\\users\\201\\miniforge3\\envs\\pystudy\\lib\\site-packages (from pandas>=1.4.1->unbabel-comet) (2.9.0.post0)\n",
      "Requirement already satisfied: pytz>=2020.1 in c:\\users\\201\\miniforge3\\envs\\pystudy\\lib\\site-packages (from pandas>=1.4.1->unbabel-comet) (2024.2)\n",
      "Requirement already satisfied: tzdata>=2022.7 in c:\\users\\201\\miniforge3\\envs\\pystudy\\lib\\site-packages (from pandas>=1.4.1->unbabel-comet) (2024.2)\n",
      "Collecting lightning-utilities>=0.10.0 (from pytorch-lightning<3.0.0,>=2.0.0->unbabel-comet)\n",
      "  Downloading lightning_utilities-0.12.0-py3-none-any.whl.metadata (5.6 kB)\n",
      "Collecting portalocker (from sacrebleu<3.0.0,>=2.0.0->unbabel-comet)\n",
      "  Downloading portalocker-3.1.1-py3-none-any.whl.metadata (8.6 kB)\n",
      "Requirement already satisfied: regex in c:\\users\\201\\miniforge3\\envs\\pystudy\\lib\\site-packages (from sacrebleu<3.0.0,>=2.0.0->unbabel-comet) (2024.11.6)\n",
      "Collecting tabulate>=0.8.9 (from sacrebleu<3.0.0,>=2.0.0->unbabel-comet)\n",
      "  Downloading tabulate-0.9.0-py3-none-any.whl.metadata (34 kB)\n",
      "Requirement already satisfied: colorama in c:\\users\\201\\miniforge3\\envs\\pystudy\\lib\\site-packages (from sacrebleu<3.0.0,>=2.0.0->unbabel-comet) (0.4.6)\n",
      "Requirement already satisfied: lxml in c:\\users\\201\\miniforge3\\envs\\pystudy\\lib\\site-packages (from sacrebleu<3.0.0,>=2.0.0->unbabel-comet) (5.3.0)\n",
      "Requirement already satisfied: networkx in c:\\users\\201\\miniforge3\\envs\\pystudy\\lib\\site-packages (from torch>=1.6.0->unbabel-comet) (3.4.2)\n",
      "Requirement already satisfied: jinja2 in c:\\users\\201\\miniforge3\\envs\\pystudy\\lib\\site-packages (from torch>=1.6.0->unbabel-comet) (3.1.5)\n",
      "Requirement already satisfied: setuptools in c:\\users\\201\\miniforge3\\envs\\pystudy\\lib\\site-packages (from torch>=1.6.0->unbabel-comet) (75.6.0)\n",
      "Requirement already satisfied: sympy==1.13.1 in c:\\users\\201\\miniforge3\\envs\\pystudy\\lib\\site-packages (from torch>=1.6.0->unbabel-comet) (1.13.1)\n",
      "Requirement already satisfied: mpmath<1.4,>=1.1.0 in c:\\users\\201\\miniforge3\\envs\\pystudy\\lib\\site-packages (from sympy==1.13.1->torch>=1.6.0->unbabel-comet) (1.3.0)\n",
      "Requirement already satisfied: tokenizers<0.22,>=0.21 in c:\\users\\201\\miniforge3\\envs\\pystudy\\lib\\site-packages (from transformers<5.0,>=4.17->unbabel-comet) (0.21.0)\n",
      "Requirement already satisfied: safetensors>=0.4.1 in c:\\users\\201\\miniforge3\\envs\\pystudy\\lib\\site-packages (from transformers<5.0,>=4.17->unbabel-comet) (0.4.5)\n",
      "Requirement already satisfied: aiohttp!=4.0.0a0,!=4.0.0a1 in c:\\users\\201\\miniforge3\\envs\\pystudy\\lib\\site-packages (from fsspec[http]>=2022.5.0->pytorch-lightning<3.0.0,>=2.0.0->unbabel-comet) (3.11.11)\n",
      "Requirement already satisfied: six>=1.5 in c:\\users\\201\\miniforge3\\envs\\pystudy\\lib\\site-packages (from python-dateutil>=2.8.2->pandas>=1.4.1->unbabel-comet) (1.17.0)\n",
      "Requirement already satisfied: MarkupSafe>=2.0 in c:\\users\\201\\miniforge3\\envs\\pystudy\\lib\\site-packages (from jinja2->torch>=1.6.0->unbabel-comet) (3.0.2)\n",
      "Requirement already satisfied: pywin32>=226 in c:\\users\\201\\miniforge3\\envs\\pystudy\\lib\\site-packages (from portalocker->sacrebleu<3.0.0,>=2.0.0->unbabel-comet) (307)\n",
      "Requirement already satisfied: charset-normalizer<4,>=2 in c:\\users\\201\\miniforge3\\envs\\pystudy\\lib\\site-packages (from requests->huggingface-hub<1.0,>=0.19.3->unbabel-comet) (3.4.1)\n",
      "Requirement already satisfied: idna<4,>=2.5 in c:\\users\\201\\miniforge3\\envs\\pystudy\\lib\\site-packages (from requests->huggingface-hub<1.0,>=0.19.3->unbabel-comet) (3.10)\n",
      "Requirement already satisfied: urllib3<3,>=1.21.1 in c:\\users\\201\\miniforge3\\envs\\pystudy\\lib\\site-packages (from requests->huggingface-hub<1.0,>=0.19.3->unbabel-comet) (2.3.0)\n",
      "Requirement already satisfied: certifi>=2017.4.17 in c:\\users\\201\\miniforge3\\envs\\pystudy\\lib\\site-packages (from requests->huggingface-hub<1.0,>=0.19.3->unbabel-comet) (2024.12.14)\n",
      "Requirement already satisfied: aiohappyeyeballs>=2.3.0 in c:\\users\\201\\miniforge3\\envs\\pystudy\\lib\\site-packages (from aiohttp!=4.0.0a0,!=4.0.0a1->fsspec[http]>=2022.5.0->pytorch-lightning<3.0.0,>=2.0.0->unbabel-comet) (2.4.4)\n",
      "Requirement already satisfied: aiosignal>=1.1.2 in c:\\users\\201\\miniforge3\\envs\\pystudy\\lib\\site-packages (from aiohttp!=4.0.0a0,!=4.0.0a1->fsspec[http]>=2022.5.0->pytorch-lightning<3.0.0,>=2.0.0->unbabel-comet) (1.3.2)\n",
      "Requirement already satisfied: attrs>=17.3.0 in c:\\users\\201\\miniforge3\\envs\\pystudy\\lib\\site-packages (from aiohttp!=4.0.0a0,!=4.0.0a1->fsspec[http]>=2022.5.0->pytorch-lightning<3.0.0,>=2.0.0->unbabel-comet) (24.3.0)\n",
      "Requirement already satisfied: frozenlist>=1.1.1 in c:\\users\\201\\miniforge3\\envs\\pystudy\\lib\\site-packages (from aiohttp!=4.0.0a0,!=4.0.0a1->fsspec[http]>=2022.5.0->pytorch-lightning<3.0.0,>=2.0.0->unbabel-comet) (1.5.0)\n",
      "Requirement already satisfied: multidict<7.0,>=4.5 in c:\\users\\201\\miniforge3\\envs\\pystudy\\lib\\site-packages (from aiohttp!=4.0.0a0,!=4.0.0a1->fsspec[http]>=2022.5.0->pytorch-lightning<3.0.0,>=2.0.0->unbabel-comet) (6.1.0)\n",
      "Requirement already satisfied: propcache>=0.2.0 in c:\\users\\201\\miniforge3\\envs\\pystudy\\lib\\site-packages (from aiohttp!=4.0.0a0,!=4.0.0a1->fsspec[http]>=2022.5.0->pytorch-lightning<3.0.0,>=2.0.0->unbabel-comet) (0.2.1)\n",
      "Requirement already satisfied: yarl<2.0,>=1.17.0 in c:\\users\\201\\miniforge3\\envs\\pystudy\\lib\\site-packages (from aiohttp!=4.0.0a0,!=4.0.0a1->fsspec[http]>=2022.5.0->pytorch-lightning<3.0.0,>=2.0.0->unbabel-comet) (1.18.3)\n",
      "Downloading unbabel_comet-2.2.4-py3-none-any.whl (96 kB)\n",
      "Downloading jsonargparse-3.13.1-py3-none-any.whl (101 kB)\n",
      "Downloading entmax-1.3-py3-none-any.whl (13 kB)\n",
      "Downloading pytorch_lightning-2.5.0.post0-py3-none-any.whl (819 kB)\n",
      "   ---------------------------------------- 0.0/819.3 kB ? eta -:--:--\n",
      "   ------------ --------------------------- 262.1/819.3 kB ? eta -:--:--\n",
      "   ---------------------------------------- 819.3/819.3 kB 4.0 MB/s eta 0:00:00\n",
      "Downloading sacrebleu-2.5.1-py3-none-any.whl (104 kB)\n",
      "Downloading torchmetrics-0.10.3-py3-none-any.whl (529 kB)\n",
      "   ---------------------------------------- 0.0/529.7 kB ? eta -:--:--\n",
      "   --------------------------------------- 529.7/529.7 kB 16.7 MB/s eta 0:00:00\n",
      "Downloading lightning_utilities-0.12.0-py3-none-any.whl (28 kB)\n",
      "Downloading tabulate-0.9.0-py3-none-any.whl (35 kB)\n",
      "Downloading portalocker-3.1.1-py3-none-any.whl (19 kB)\n",
      "Installing collected packages: tabulate, portalocker, lightning-utilities, jsonargparse, sacrebleu, torchmetrics, entmax, pytorch-lightning, unbabel-comet\n",
      "Successfully installed entmax-1.3 jsonargparse-3.13.1 lightning-utilities-0.12.0 portalocker-3.1.1 pytorch-lightning-2.5.0.post0 sacrebleu-2.5.1 tabulate-0.9.0 torchmetrics-0.10.3 unbabel-comet-2.2.4\n"
     ]
    }
   ],
   "source": [
    "!pip install langgraph\n",
    "!pip install langchain_community\n",
    "!pip install bert-score\n",
    "!pip install unbabel-comet"
   ]
  },
  {
   "cell_type": "code",
   "execution_count": 3,
   "metadata": {},
   "outputs": [],
   "source": [
    "import langchain\n",
    "import langgraph\n",
    "from langgraph.graph import StateGraph\n",
    "from langgraph.graph.message import add_messages\n",
    "from langchain.chat_models import ChatOpenAI\n",
    "from langchain.schema import SystemMessage, HumanMessage, AIMessage\n",
    "import torch\n",
    "from bert_score import score as bert_score\n",
    "from comet import download_model, load_from_checkpoint\n",
    "import os\n",
    "from langgraph.graph import StateGraph, START, END\n",
    "from typing_extensions import TypedDict\n",
    "from typing import Annotated\n",
    "from typing import TypedDict, List"
   ]
  },
  {
   "cell_type": "code",
   "execution_count": 4,
   "metadata": {},
   "outputs": [],
   "source": [
    "class State(TypedDict):\n",
    "    messages: List[HumanMessage]"
   ]
  },
  {
   "cell_type": "code",
   "execution_count": 5,
   "metadata": {},
   "outputs": [
    {
     "name": "stderr",
     "output_type": "stream",
     "text": [
      "C:\\Users\\201\\AppData\\Local\\Temp\\ipykernel_11468\\1178519495.py:3: LangChainDeprecationWarning: The class `ChatOpenAI` was deprecated in LangChain 0.0.10 and will be removed in 1.0. An updated version of the class exists in the :class:`~langchain-openai package and should be used instead. To use it run `pip install -U :class:`~langchain-openai` and import as `from :class:`~langchain_openai import ChatOpenAI``.\n",
      "  llm = ChatOpenAI(model_name=\"gpt-4o\", temperature=0, openai_api_key=os.getenv(\"OPENAI_API_KEY\"))\n"
     ]
    }
   ],
   "source": [
    "# os.environ[\"OPENAI_API_KEY\"] = \"(발급받은 API 키)\"\n",
    "# OpenAI 모델 설정\n",
    "llm = ChatOpenAI(model_name=\"gpt-4o\", temperature=0, openai_api_key=os.getenv(\"OPENAI_API_KEY\"))"
   ]
  },
  {
   "cell_type": "code",
   "execution_count": 6,
   "metadata": {},
   "outputs": [],
   "source": [
    "def detect_intent(state: State) -> State:\n",
    "    \"\"\" 사용자의 의도를 확인하는 함수 \"\"\"\n",
    "    system_prompt = \"Is the user asking for a translation? Answer only 'yes' or 'no'.\"\n",
    "    user_message = state[\"messages\"][-1].content  # 마지막 메시지의 content만 추출\n",
    "    response = llm([SystemMessage(content=system_prompt), HumanMessage(content=user_message)])\n",
    "    print(response.content.strip())\n",
    "    intent = response.content.strip().lower() == \"yes\"\n",
    "    return {\"messages\": state[\"messages\"] + [AIMessage(content=response.content)]}"
   ]
  },
  {
   "cell_type": "code",
   "execution_count": 7,
   "metadata": {},
   "outputs": [],
   "source": [
    "def translate_text(state: State, target_language=\"ko\") -> State:\n",
    "    \"\"\" 텍스트를 번역하는 함수 \"\"\"\n",
    "    if \"yes\" in state[\"messages\"][-1].content.lower():\n",
    "        system_prompt = f\"Translate the following text into {target_language}:\"\n",
    "        user_message = state[\"messages\"][-2].content  # 원래 입력된 메시지\n",
    "        response = llm([SystemMessage(content=system_prompt), HumanMessage(content=user_message)])\n",
    "        return {\"messages\": state[\"messages\"] + [AIMessage(content=response.content)]}\n",
    "    return state"
   ]
  },
  {
   "cell_type": "code",
   "execution_count": 8,
   "metadata": {},
   "outputs": [],
   "source": [
    "def condition_intent(state: State) -> str:\n",
    "    return \"translate\" if \"yes\" in state[\"messages\"][-1].content.lower() else END"
   ]
  },
  {
   "cell_type": "code",
   "execution_count": 10,
   "metadata": {},
   "outputs": [],
   "source": [
    "# LangGraph Workflow\n",
    "graph_builder = StateGraph(State)\n",
    "graph_builder.add_node(\"intent_check\", detect_intent)\n",
    "graph_builder.add_node(\"translate\", translate_text)\n",
    "#graph_builder.add_node(\"end\", END)\n",
    "\n",
    "graph_builder.add_edge(START, \"intent_check\")\n",
    "graph_builder.add_conditional_edges(\"intent_check\", condition_intent)\n",
    "graph_builder.add_edge(\"translate\", END)\n",
    "\n",
    "#graph_builder.set_entry_point(START)\n",
    "graph = graph_builder.compile()"
   ]
  },
  {
   "cell_type": "code",
   "execution_count": 11,
   "metadata": {},
   "outputs": [
    {
     "data": {
      "image/png": "[encoded data removed]",
      "text/plain": [
       "<IPython.core.display.Image object>"
      ]
     },
     "metadata": {},
     "output_type": "display_data"
    }
   ],
   "source": [
    "from IPython.display import Image, display\n",
    "\n",
    "display(Image(graph.get_graph(xray=True).draw_mermaid_png()))"
   ]
  },
  {
   "cell_type": "code",
   "execution_count": 12,
   "metadata": {},
   "outputs": [
    {
     "name": "stderr",
     "output_type": "stream",
     "text": [
      "C:\\Users\\201\\AppData\\Local\\Temp\\ipykernel_11468\\988853518.py:5: LangChainDeprecationWarning: The method `BaseChatModel.__call__` was deprecated in langchain-core 0.1.7 and will be removed in 1.0. Use :meth:`~invoke` instead.\n",
      "  response = llm([SystemMessage(content=system_prompt), HumanMessage(content=user_message)])\n"
     ]
    },
    {
     "name": "stdout",
     "output_type": "stream",
     "text": [
      "no\n",
      "Final Result: no\n"
     ]
    }
   ],
   "source": [
    "# 실행 예제\n",
    "input_text = \"배달의민족에서 야식을 추천해줘\"\n",
    "initial_state = {\"messages\": [HumanMessage(content=input_text)]}\n",
    "result = graph.invoke(initial_state)\n",
    "print(\"Final Result:\", result[\"messages\"][-1].content)"
   ]
  },
  {
   "cell_type": "code",
   "execution_count": 13,
   "metadata": {},
   "outputs": [
    {
     "name": "stdout",
     "output_type": "stream",
     "text": [
      "yes\n",
      "Final Result: Please recommend a late-night snack from Baedal Minjok.\n"
     ]
    }
   ],
   "source": [
    "# 실행 예제\n",
    "input_text = \"다음을 영어로 번역해줄래? '배달의 민족에서 야식을 추천해줘'\"\n",
    "initial_state = {\"messages\": [HumanMessage(content=input_text)]}\n",
    "result = graph.invoke(initial_state)\n",
    "print(\"Final Result:\", result[\"messages\"][-1].content)"
   ]
  },
  {
   "cell_type": "code",
   "execution_count": null,
   "metadata": {},
   "outputs": [],
   "source": []
  },
  {
   "cell_type": "code",
   "execution_count": null,
   "metadata": {},
   "outputs": [],
   "source": []
  },
  {
   "cell_type": "code",
   "execution_count": null,
   "metadata": {},
   "outputs": [],
   "source": []
  },
  {
   "cell_type": "code",
   "execution_count": null,
   "metadata": {},
   "outputs": [],
   "source": []
  },
  {
   "cell_type": "code",
   "execution_count": null,
   "metadata": {},
   "outputs": [],
   "source": []
  },
  {
   "cell_type": "code",
   "execution_count": null,
   "metadata": {},
   "outputs": [],
   "source": []
  },
  {
   "cell_type": "code",
   "execution_count": null,
   "metadata": {},
   "outputs": [],
   "source": []
  }
 ],
 "metadata": {
  "kernelspec": {
   "display_name": "pystudy",
   "language": "python",
   "name": "python3"
  },
  "language_info": {
   "codemirror_mode": {
    "name": "ipython",
    "version": 3
   },
   "file_extension": ".py",
   "mimetype": "text/x-python",
   "name": "python",
   "nbconvert_exporter": "python",
   "pygments_lexer": "ipython3",
   "version": "3.12.8"
  }
 },
 "nbformat": 4,
 "nbformat_minor": 2
}
